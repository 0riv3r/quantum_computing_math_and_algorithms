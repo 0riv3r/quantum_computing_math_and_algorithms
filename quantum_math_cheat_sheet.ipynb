{
 "cells": [
  {
   "cell_type": "code",
   "execution_count": 108,
   "id": "ea005fbb-eede-4c2c-a5a6-57adf0dddb9c",
   "metadata": {},
   "outputs": [],
   "source": [
    "# Three-Pass Protocol"
   ]
  },
  {
   "cell_type": "code",
   "execution_count": 109,
   "id": "1881071d-9aed-4da6-8c19-083c3485e414",
   "metadata": {},
   "outputs": [],
   "source": [
    "import numpy as np\n",
    "import sympy as sym\n",
    "from IPython.display import display, Math\n",
    "import random"
   ]
  },
  {
   "cell_type": "code",
   "execution_count": 110,
   "id": "3ff8b9e1-d98f-432f-9fc9-f958341a364b",
   "metadata": {},
   "outputs": [],
   "source": [
    "sym.init_printing() # prety printing of math"
   ]
  },
  {
   "cell_type": "markdown",
   "id": "4ccf58a6-9df6-449b-8d7f-11c7846acf28",
   "metadata": {},
   "source": [
    "# Three-Pass Protocol"
   ]
  },
  {
   "cell_type": "markdown",
   "id": "785ddf9f-9d6c-412b-a783-14c0a7bb0569",
   "metadata": {},
   "source": [
    "During a recent research I encountered a nice cryptographic protocol named: the \"Three-pass protocol\", originaly developed by Adi Shamir.  \n",
    "https://en.wikipedia.org/wiki/Three-pass_protocol\n",
    "\n",
    "The protocol's logic is really nice, and, in this post, I am going to explain and demonstrate its basic form (there are further developments and evolutions for this protocol, please check the Wikipedia link above).\n",
    "\n",
    "For the algorythm implementation I use Python withing JupyterLab."
   ]
  },
  {
   "cell_type": "markdown",
   "id": "10518417-a688-4417-820f-05924173bd43",
   "metadata": {},
   "source": [
    "Alice wishes to send a secret to Bob through a public communication channel without exchanging cryptographic keys with Bob beforehand.   \n",
    "The shared secret may be the secret-message itself, or a shared secret key or a password to be used in an encryption mechanism for encryption of data in a later communication session.  \n",
    "In the example here I use the shared secret as a shared password that is then used to encrypt and decrypt a secret message.    \n",
    "  \n",
    "The idea of this protocol is somewhat like the following scenario:   \n",
    "Alice and Bob are students sitting in the same classroom. This is a classroom of students from different faculties (where many of them don’t know each other). \n",
    "Alice wants to pass a secret message to Bob who sits on the other side of the class hall.   \n",
    "Alice writes her secret message on a note, puts the note in a small box, and locks the box with her padlock.   \n",
    "She writes \"To Bob\" on the box and asks the other students to pass the box to Bob.   \n",
    "When Bob receives the box, he adds his padlock on the box, write on it \"To Alice\" and asks the students to pass the box back to Alice.  \n",
    "Alice then receives the box, removes her padlock, writes on the box \"To Bob\" and asks the students to pass the box again.  \n",
    "At this point, when Bob receives the box, he removes his padlock, opens the box, and read the secret message.  \n"
   ]
  },
  {
   "cell_type": "markdown",
   "id": "1c8ad1dc-5edf-4a7d-a92a-a9cddf53b008",
   "metadata": {},
   "source": [
    "Take note that this is an unauthenticated protocol. No sender nor responder have trust on the authenticity of the other side.   \n",
    "In our example, the box may reach Mallory who is also in the class.  \n",
    "Since people don’t know each other in this class, Mallory, who sits on the far side from Alice and has received the box, may put his padlock on the box instead of passing it to the person near him.  \n",
    "Alice can’t see who received the box, and she believes that she is communicating with Bob, while she is communicating with Mallory."
   ]
  },
  {
   "cell_type": "markdown",
   "id": "21f8881b-fcaf-4311-96a3-84e50d8d0efb",
   "metadata": {},
   "source": [
    "In the scenario above Bob puts his padlock on the box near Alice’s, so Alice then can remove her padlock while Bob’s padlock is kept locked.    \n",
    "In the three-pass protocol we put a second encryption (encryption == locked padlock) on top of the first one.    \n",
    "It is as if Bob takes Alice’s locked box, puts it inside his box and locks his box using his padlock.    \n",
    "For this protocol to work, it must be possible to remove the first encryption after a second encryption has been performed.    \n",
    "Or in the scenario above, unlock Alice’s box while it is inside Bob’s locked box.  \n",
    "In the Three-Pass protocol this is enabled through the use of ***modular multiplicative inverse***     \n",
    "\n",
    "Cool!\n",
    "     \n",
    "     \n",
    "*ka* - Alice's key   \n",
    "*ka<sup>-1</sup>* - modular multiplicative inverse of *ka*    \n",
    "*kb* - Bob's key     \n",
    "*m* - Message   \n",
    "*E* - Encryption    \n",
    "*D* - Decryption    \n",
    "            \n",
    "*D(ka<sup>-1</sup>, E(kb, E(ka,m) ) ) = E(kb,m)*\n",
    "        \n",
    "\n",
    "\n"
   ]
  },
  {
   "cell_type": "markdown",
   "id": "80972f5d-268c-42c9-91e7-2bb867c9702c",
   "metadata": {},
   "source": [
    "This is possible with a commutative encryption, which is an encryption that is order-independent  \n",
    "*E(ka, E(kb,m) ) = E(kb,E (ka,m) )*   \n",
    "And then:   \n",
    "*D(ka<sup>-1</sup>, E(kb, E(ka,m) ) ) = D(ka<sup>-1</sup>, E(ka, E(kb,m) ) ) = E(kb,m)*    "
   ]
  },
  {
   "cell_type": "markdown",
   "id": "b92c64fe-b9df-458b-bd1e-58ece015b27c",
   "metadata": {},
   "source": [
    " Here is how this works with modular multiplicative inverse:"
   ]
  },
  {
   "cell_type": "code",
   "execution_count": 111,
   "id": "58ae006c-ab1a-43e8-bb9c-8a1bb57bdfb2",
   "metadata": {
    "tags": []
   },
   "outputs": [
    {
     "data": {
      "text/latex": [
       "$\\displaystyle k^{-1}k \\cong b^{-1}b \\cong 1(mod \\enspace p-1)$"
      ],
      "text/plain": [
       "<IPython.core.display.Math object>"
      ]
     },
     "metadata": {},
     "output_type": "display_data"
    }
   ],
   "source": [
    "display( Math('k^{-1}k \\cong b^{-1}b \\cong 1(mod \\\\enspace p-1)') )"
   ]
  },
  {
   "cell_type": "code",
   "execution_count": 112,
   "id": "5fba30a7-f889-460c-9b42-64141c105829",
   "metadata": {},
   "outputs": [
    {
     "data": {
      "text/latex": [
       "$\\displaystyle k^{aba^{-1}b^{-1}} \\cong k^1 \\cong k(mod \\enspace p)$"
      ],
      "text/plain": [
       "<IPython.core.display.Math object>"
      ]
     },
     "metadata": {},
     "output_type": "display_data"
    }
   ],
   "source": [
    "display( Math('k^{aba^{-1}b^{-1}} \\cong k^1 \\cong k(mod \\\\enspace p)') )"
   ]
  },
  {
   "cell_type": "markdown",
   "id": "27a573c5-0bd5-4d02-bde6-8f25d558b27e",
   "metadata": {},
   "source": [
    "# The algorithm's steps\n",
    "\n",
    "Shared secret key: ***ks***  \n",
    "Alice's keys: ***ka***, ***ka<sup>-1</sup>***  \n",
    "Bob's keys: ***kb***, ***kb<sup>-1</sup>***\n",
    "\n",
    "1. Decide on numbers bits length (e.g., 128bits).\n",
    "2. Everyone agree on a prime number *p* as a public key\n",
    "3. Each user selects a random number *k*, that is a coprime to *p-1*, and *k*'s modular multiplicative inverse *k<sup>-1</sup>*   \n",
    "    Alice's keys: *ka, ka<sup>-1</sup>*   \n",
    "    Bob's keys:   *kb kb<sup>-1</sup>*   \n",
    "4. Alise chooses a shared-secret-key *ks* to be shared with Bob\n",
    "5. Alice encrypts a message using the shared secret: *c= E(ks,m)*\n",
    "6. Alice sends *k1 $\\cong$ ks<sup>ka</sup>(mod p)* to Bob.\n",
    "7. Bob sends *k2 $\\cong$ k1<sup>kb</sup>(mod p)* to Alice.\n",
    "8. Alice sends *k3 $\\cong$ k2<sup>ka<sup>-1</sup></sup>(mod p)* to Bob.\n",
    "9. Bob computes *ks' $\\cong$ k3<sup>kb<sup>-1</sup></sup>(mod p)*.\n",
    "10. *assert ks' == ks* : verify that Bob's and Alice's shared-secret-keys are identical\n",
    "11. Bob decrypts alice's encrypted message using the shared secret key he computed: *m'= D(ks',c)*\n",
    "12. *assert m' == m* : verify that the original and received messages are identical"
   ]
  },
  {
   "cell_type": "markdown",
   "id": "06c9caca-2a46-44f7-8165-5696d406a50d",
   "metadata": {},
   "source": [
    "# Set global variables"
   ]
  },
  {
   "cell_type": "markdown",
   "id": "484171b9-722c-489d-9619-f8e394450a38",
   "metadata": {},
   "source": [
    "#### Set symbolic variables"
   ]
  },
  {
   "cell_type": "code",
   "execution_count": 113,
   "id": "515667f5-70b2-4204-8369-1f8b337f2a95",
   "metadata": {},
   "outputs": [],
   "source": [
    "x,xi,y= sym.symbols('x xi y')"
   ]
  },
  {
   "cell_type": "code",
   "execution_count": 114,
   "id": "c0105caa-fe04-44f9-bf33-efe2ce9c7cb0",
   "metadata": {},
   "outputs": [
    {
     "data": {
      "text/latex": [
       "$\\displaystyle Symbolic \\: variables: \\: \\textit{x, xi, y}$"
      ],
      "text/plain": [
       "<IPython.core.display.Math object>"
      ]
     },
     "metadata": {},
     "output_type": "display_data"
    }
   ],
   "source": [
    "display( Math('Symbolic \\\\: variables: \\\\: \\\\textit{x, xi, y}') )"
   ]
  },
  {
   "cell_type": "markdown",
   "id": "6bf1ef40-a212-4cc0-92c5-448fcf8b22ce",
   "metadata": {},
   "source": [
    "#### Set global variables"
   ]
  },
  {
   "cell_type": "code",
   "execution_count": 115,
   "id": "e70c744a-06ce-4a13-a6ae-7d232d45e8b1",
   "metadata": {},
   "outputs": [],
   "source": [
    "bits_length= 128 + 1   # bits length for the numbers: 2^bits-length\n",
    "p= 0                   # public prime number"
   ]
  },
  {
   "cell_type": "markdown",
   "id": "042dceab-700e-4393-b3c6-4d6d50c1fbc7",
   "metadata": {},
   "source": [
    "#### Define users"
   ]
  },
  {
   "cell_type": "code",
   "execution_count": 116,
   "id": "9c62dd49-f682-4857-b776-56495f9faf06",
   "metadata": {},
   "outputs": [],
   "source": [
    "users= {'Alice':{'k':0, 'ki':0, 'ks':0}, 'Bob':{'k':0, 'ki':0, 'ks':0}}"
   ]
  },
  {
   "cell_type": "markdown",
   "id": "815ac4ee-7444-4e69-9b03-7513c213020f",
   "metadata": {},
   "source": [
    "# Functions"
   ]
  },
  {
   "cell_type": "markdown",
   "id": "9bfd4c9b-507f-4dfc-a1e7-053c1ad00dfc",
   "metadata": {},
   "source": [
    "### 1. Choose a bits-length for the numbers"
   ]
  },
  {
   "cell_type": "code",
   "execution_count": 117,
   "id": "94916bde-0336-4fe4-ae58-42c7eac73084",
   "metadata": {},
   "outputs": [],
   "source": [
    "def set_globals(_bits_length:int=129, _p:int=0):\n",
    "    global bits_length, p\n",
    "    bits_length= _bits_length\n",
    "    p= _p"
   ]
  },
  {
   "cell_type": "markdown",
   "id": "95c8ade9-af9e-479f-81bd-e5bca91129df",
   "metadata": {},
   "source": [
    "### 2. Everyone agree on a random generated public key: *p* (with the required bits length)"
   ]
  },
  {
   "cell_type": "code",
   "execution_count": 118,
   "id": "1c3edc2e-3fb5-4566-b8cb-16e34fe62cf1",
   "metadata": {},
   "outputs": [],
   "source": [
    "# find the min and max ints with a defined bits length\n",
    "\n",
    "def get_min_max_for_prime() -> tuple([int,int]):\n",
    "    global bits_length\n",
    "    \n",
    "    min_int= int((2**bits_length / 2))  # Smallest int with the define length of bits\n",
    "    max_int= (2**bits_length) - 1       # Largest int with the define length of bits\n",
    "    \n",
    "    return min_int, max_int\n",
    "\n",
    "# for 128 bits:\n",
    "# min= 170141183460469231731687303715884105728\n",
    "# max= 340282366920938463463374607431768211455"
   ]
  },
  {
   "cell_type": "code",
   "execution_count": 119,
   "id": "b39c8211-5be2-4f1c-98e3-e1f4464e6722",
   "metadata": {},
   "outputs": [],
   "source": [
    "# max_int_1= (2**bits_length)       # Largest int with the define length of bits\n",
    "# display( Math('Max \\\\: number + 1: %i , \\\\: with \\\\: %i \\\\: bits' %(max_int_1, max_int_1.bit_length())) )"
   ]
  },
  {
   "cell_type": "code",
   "execution_count": 120,
   "id": "4d026eb7-de28-4ffa-807e-b604433d6e09",
   "metadata": {},
   "outputs": [],
   "source": [
    "# Get a random prime number in the range of min_int and max_int\n",
    "# randprime(a, b) - returns a random prime number in the range [a, b).\n",
    "\n",
    "# Range max is not inclusive, so I add 1, which makes it longer in one bit (e.g., 129 bits instead of 128 bits), \n",
    "# but since it is not inclusive, the max number is the right number of bits\n",
    "# 𝑀𝑎𝑥 𝑛𝑢𝑚𝑏𝑒𝑟 + 1 : 340282366920938463463374607431768211456, W𝑖𝑡ℎ 129 𝑏𝑖𝑡𝑠\n",
    "\n",
    "def generate_prime():\n",
    "    \n",
    "    global p\n",
    "    \n",
    "    min_int, max_int = get_min_max_for_prime()\n",
    "    # display( Math('Min \\\\: number: %i , \\\\: with \\\\: %i \\\\: digits' %(min_int, len(str(min_int)))) )\n",
    "    # display( Math('Max \\\\: number: %i , \\\\: with \\\\: %i \\\\: digits' %(max_int, len(str(max_int)))) )\n",
    "\n",
    "    p= sym.randprime(min_int, max_int+1)\n",
    "\n",
    "    assert sym.isprime(p), \"%i , is not a prime!\" %p\n",
    "    display( Math('Prime \\\\: number: %i , \\\\: with \\\\: %i \\\\: bits' %(p, p.bit_length())) )"
   ]
  },
  {
   "cell_type": "code",
   "execution_count": 121,
   "id": "fc584a90-b0d6-4e3b-9eae-2bca7200a612",
   "metadata": {},
   "outputs": [],
   "source": [
    "# Use Crypto lib for generating the random prime number\n",
    "# #!pip install pycryptodome\n",
    "\n",
    "# from Crypto.Random import get_random_bytes\n",
    "# from Crypto.Util.number import getPrime\n",
    "\n",
    "# p= getPrime(bits_length, randfunc= get_random_bytes)\n",
    "# display(p)\n",
    "# print(len(str(p)))"
   ]
  },
  {
   "cell_type": "markdown",
   "id": "f08a92ef-f094-4bf2-9ce3-f4fc008bcc56",
   "metadata": {},
   "source": [
    "### 3. Each user selects a random number *k* that is coprime to *p-1* and its modular multiplicative inverse *k<sup>-1</sup>*"
   ]
  },
  {
   "cell_type": "markdown",
   "id": "2d2d49ca-efe6-44e9-821a-23071aacb77e",
   "metadata": {},
   "source": [
    "#### 3.1. Find a random number *k* that is coprime to *p-1*"
   ]
  },
  {
   "cell_type": "code",
   "execution_count": 122,
   "id": "0229270f-fc93-4043-a020-2839a45cadd5",
   "metadata": {},
   "outputs": [
    {
     "data": {
      "text/latex": [
       "$\\displaystyle gcd(k,p-1)=1$"
      ],
      "text/plain": [
       "<IPython.core.display.Math object>"
      ]
     },
     "metadata": {},
     "output_type": "display_data"
    }
   ],
   "source": [
    " display( Math('gcd(k,p-1)=1') )"
   ]
  },
  {
   "cell_type": "code",
   "execution_count": 123,
   "id": "b71fb0de-3de1-4812-a616-685c2fb51cdb",
   "metadata": {},
   "outputs": [],
   "source": [
    "def generate_k_for_users():\n",
    "    # display( Math('gcd(k,p-1)=1') )\n",
    "    \n",
    "    global users, p, bits_length\n",
    "        \n",
    "    for user in users.keys():\n",
    "        while( sym.gcd(users[user]['k'],p-1) != 1 ):\n",
    "            users[user]['k']= random.getrandbits(bits_length)\n",
    "\n",
    "    for user in users.keys():\n",
    "        #display( Math('%s \\\\: k= %i' %(user, users[user]['k'])) )\n",
    "        assert sym.gcd(x,y).subs({x:users[user]['k'], y:(p-1)}) == 1,  \\\n",
    "               \"%s private k, is not coprime to p-1!\" %user    "
   ]
  },
  {
   "cell_type": "markdown",
   "id": "0f7e818d-acf9-406d-8d3d-8895e4599825",
   "metadata": {},
   "source": [
    "#### 3.2 Find *k<sup>-1</sup>*, the modular multiplicative inverse of *k*"
   ]
  },
  {
   "cell_type": "code",
   "execution_count": 124,
   "id": "dca66d81-e427-4dae-901a-2cb1c9d7f1ab",
   "metadata": {},
   "outputs": [
    {
     "data": {
      "text/latex": [
       "$\\displaystyle k^{-1}k \\cong 1(mod \\enspace p-1)$"
      ],
      "text/plain": [
       "<IPython.core.display.Math object>"
      ]
     },
     "metadata": {},
     "output_type": "display_data"
    }
   ],
   "source": [
    "display( Math('k^{-1}k \\cong 1(mod \\\\enspace p-1)') )"
   ]
  },
  {
   "cell_type": "code",
   "execution_count": 125,
   "id": "baebccad-b1f5-4fc7-a355-aa48a59b2d84",
   "metadata": {},
   "outputs": [],
   "source": [
    "def generate_k_inverse_for_users():\n",
    "    # SymPy mod_inverse\n",
    "    # https://docs.sympy.org/latest/modules/core.html#sympy.core.numbers.mod_inverse\n",
    "\n",
    "    # display( Math('k^{-1}a(mod \\\\enspace p-1)') )\n",
    "    \n",
    "    global users, p\n",
    "    \n",
    "    for user in users.keys():\n",
    "        users[user]['ki']= sym.mod_inverse( users[user]['k'], p-1) # ki: k-inverse\n",
    "\n",
    "    # k*ki(mod p-1) = 1(mod p-1)\n",
    "    for user in users.keys():\n",
    "        k= users[user]['k']\n",
    "        ki= users[user]['ki']\n",
    "        assert sym.Mod(x*xi, y).subs({x:k, xi:ki, y:(p-1)}) == sym.Mod(1, p-1),  \\\n",
    "               \"%s private k-inverse, is not coprime to p-1!\" %user"
   ]
  },
  {
   "cell_type": "code",
   "execution_count": 126,
   "id": "2848a733-410b-485c-8643-968be0a8c3ba",
   "metadata": {},
   "outputs": [],
   "source": [
    "def display_users_keys():\n",
    "    global users\n",
    "    \n",
    "    display( Math('gcd(k,p-1)=1') )\n",
    "    display( Math('k^{-1}k(mod \\\\enspace p-1)') )\n",
    "    display( Math('k^{-1}k(mod \\\\enspace p-1) \\\\cong 1(mod \\\\enspace p-1)') )\n",
    "\n",
    "    for user in users.keys():\n",
    "        k= users[user]['k']\n",
    "        ki= users[user]['ki']\n",
    "\n",
    "        display( Math('%s \\\\: k= %i , \\\\: with \\: %i \\: bits' %(user, k, k.bit_length())) )\n",
    "        display( Math('%s \\\\: k^{-1}= %i , \\: with \\: %i \\: bits' %(user, ki, ki.bit_length())) )"
   ]
  },
  {
   "cell_type": "markdown",
   "id": "0d7fa75a-1d08-483b-b1a5-f8b304fbdf46",
   "metadata": {},
   "source": [
    "### 4. Alise chooses a shared-secret-key *ks* to be shared with Bob"
   ]
  },
  {
   "cell_type": "code",
   "execution_count": 127,
   "id": "3f88113e-2581-4053-a405-d6f69d733530",
   "metadata": {},
   "outputs": [],
   "source": [
    "def alice_generate_shared_secret():\n",
    "    \n",
    "    global users, bits_length\n",
    "    \n",
    "    users['Alice']['ks']= random.getrandbits(bits_length-1)"
   ]
  },
  {
   "cell_type": "markdown",
   "id": "da7d8524-7ff3-408c-8c29-bfd4082cabe6",
   "metadata": {},
   "source": [
    "### 5. Alice sends *k1 $\\cong$ ks<sup>ka</sup>(mod p)* to Bob."
   ]
  },
  {
   "cell_type": "code",
   "execution_count": 128,
   "id": "11cb8fa1-ef51-4e6c-ab88-1720f8818fa5",
   "metadata": {},
   "outputs": [
    {
     "data": {
      "text/latex": [
       "$\\displaystyle k1 \\cong ks^{ka}(mod \\enspace p)$"
      ],
      "text/plain": [
       "<IPython.core.display.Math object>"
      ]
     },
     "metadata": {},
     "output_type": "display_data"
    }
   ],
   "source": [
    "display( Math('k1 \\cong ks^{ka}(mod \\\\enspace p)') )"
   ]
  },
  {
   "cell_type": "code",
   "execution_count": 129,
   "id": "06307dc9-42e8-4a6e-a9a1-79d8d065c13e",
   "metadata": {},
   "outputs": [],
   "source": [
    "# Modular Exponentiation\n",
    "# a^b(mod p)\n",
    "# sym.Mod seems to run forever\n",
    "# Instead, using pow, see: https://docs.python.org/2/library/functions.html#pow\n",
    "#d = pow(a, b, p) \n",
    "\n",
    "def alice_get_k1() -> int:\n",
    "    global users, p\n",
    "    \n",
    "    k1= pow(users['Alice']['ks'],users['Alice']['k'],p)\n",
    "\n",
    "    display( Math('\\\\text {Alice sends k1 to Bob.}') )\n",
    "    display( Math('k1= %i , \\\\: with \\: %i \\: bits' %(k1, k1.bit_length())) )\n",
    "    \n",
    "    return k1"
   ]
  },
  {
   "cell_type": "markdown",
   "id": "cd0e6a59-24b7-4606-bf31-f40a61963f5c",
   "metadata": {},
   "source": [
    "### 6. Bob sends *k2  $\\cong$ k1<sup>kb</sup>(mod p)* to Alice."
   ]
  },
  {
   "cell_type": "code",
   "execution_count": 130,
   "id": "6a090932-d59c-4e50-a033-236cacbad73d",
   "metadata": {},
   "outputs": [
    {
     "data": {
      "text/latex": [
       "$\\displaystyle k2 \\cong k1^{kb}(mod \\enspace p)$"
      ],
      "text/plain": [
       "<IPython.core.display.Math object>"
      ]
     },
     "metadata": {},
     "output_type": "display_data"
    }
   ],
   "source": [
    "display( Math('k2 \\cong k1^{kb}(mod \\\\enspace p)') )"
   ]
  },
  {
   "cell_type": "code",
   "execution_count": 131,
   "id": "e10de3f7-2525-4d65-852e-302908219ef2",
   "metadata": {},
   "outputs": [],
   "source": [
    "# k2= k1^kb(mod p)\n",
    "\n",
    "def bob_get_k2(k1:int) -> int:\n",
    "    global users, p\n",
    "    \n",
    "    k2= pow(k1,users['Bob']['k'],p)\n",
    "\n",
    "    display( Math('\\\\text {Bob sends k2 to Alice.}') )\n",
    "    display( Math('k2= %i , \\\\: with \\: %i \\: bits' %(k2, k2.bit_length())) )\n",
    "    \n",
    "    return k2"
   ]
  },
  {
   "cell_type": "markdown",
   "id": "0fc24c43-c2d3-41f2-b413-ce57d89fc95c",
   "metadata": {},
   "source": [
    "### 7. Alice sends *k3 $\\cong$ k2<sup>ka<sup>-1</sup></sup>(mod p)* to Bob."
   ]
  },
  {
   "cell_type": "code",
   "execution_count": 132,
   "id": "8f057735-1282-41bc-96a2-b6351862d652",
   "metadata": {},
   "outputs": [
    {
     "data": {
      "text/latex": [
       "$\\displaystyle k3 \\cong k2^{ka^{-1}}(mod \\enspace p)$"
      ],
      "text/plain": [
       "<IPython.core.display.Math object>"
      ]
     },
     "metadata": {},
     "output_type": "display_data"
    }
   ],
   "source": [
    "display( Math('k3 \\cong k2^{ka^{-1}}(mod \\\\enspace p)') )"
   ]
  },
  {
   "cell_type": "code",
   "execution_count": 133,
   "id": "7f8910c7-f3e3-40d2-a4a4-1ee777ff9ef6",
   "metadata": {},
   "outputs": [],
   "source": [
    "# k3= k2^(ka^-1)(mod p)\n",
    "\n",
    "def alice_get_k3(k2:int) -> int:\n",
    "    global users, p\n",
    "    \n",
    "    k3= pow(k2,users['Alice']['ki'],p)\n",
    "\n",
    "    display( Math('\\\\text {Alice sends k3 to Bob.}') )\n",
    "    display( Math('k3= %i , \\\\: with \\: %i \\: bits' %(k3, k3.bit_length())) )\n",
    "    \n",
    "    return k3"
   ]
  },
  {
   "cell_type": "markdown",
   "id": "380b0825-34d2-4fec-81a7-a5afc6cad872",
   "metadata": {},
   "source": [
    "### 8. Bob computes *ks'= k3<sup>kb<sup>-1</sup></sup>(mod p)*."
   ]
  },
  {
   "cell_type": "code",
   "execution_count": 134,
   "id": "b1424414-fcac-40f6-bbda-8e0a2317d628",
   "metadata": {},
   "outputs": [
    {
     "data": {
      "text/latex": [
       "$\\displaystyle ks' \\cong k3^{kb^{-1}}(mod \\enspace p)$"
      ],
      "text/plain": [
       "<IPython.core.display.Math object>"
      ]
     },
     "metadata": {},
     "output_type": "display_data"
    }
   ],
   "source": [
    "display( Math(\"ks' \\cong k3^{kb^{-1}}(mod \\\\enspace p)\") )"
   ]
  },
  {
   "cell_type": "code",
   "execution_count": 135,
   "id": "e778a77e-b99b-4923-8b47-0473bca52c5a",
   "metadata": {},
   "outputs": [],
   "source": [
    "# ks_2= k3^(kb^-1)(mod p)\n",
    "# ks_2 is Bob's computed shared-key. It has to be identical to ks.\n",
    "\n",
    "def bob_compute_shared_secret(k3:int):\n",
    "    global users, p\n",
    "    \n",
    "    users['Bob']['ks']= pow(k3,users['Bob']['ki'],p)"
   ]
  },
  {
   "cell_type": "markdown",
   "id": "1bc079e0-0080-46a9-b328-db6ec4a3dce6",
   "metadata": {},
   "source": [
    "### 9. verify the two shared secret keys, *ks and ks* are identical"
   ]
  },
  {
   "cell_type": "code",
   "execution_count": 136,
   "id": "e26a0b3b-ac06-4443-b8e9-34173574bdad",
   "metadata": {},
   "outputs": [],
   "source": [
    "def verify_shared_keys_indentical() -> bool:\n",
    "    global users\n",
    "    \n",
    "    assert users['Bob']['ks'] == users['Alice']['ks'], \"Secret shared keys are NOT indentical!\"\n",
    "    \n",
    "    result= True\n",
    "    if users['Bob']['ks'] != users['Alice']['ks']:\n",
    "        result= False\n",
    "        \n",
    "    return result"
   ]
  },
  {
   "cell_type": "markdown",
   "id": "fe810130-e6df-46ce-8ae0-01b6b31d08ba",
   "metadata": {},
   "source": [
    "# Use the shared secret for messaging"
   ]
  },
  {
   "cell_type": "markdown",
   "id": "77f467df-5a75-40f2-b8d2-33357b143495",
   "metadata": {},
   "source": [
    "aes-cipher 2.0.0  \n",
    "https://github.com/ebellocchia/aes_cipher"
   ]
  },
  {
   "cell_type": "code",
   "execution_count": 137,
   "id": "4408095b-43c9-46a8-856c-85a84a1de807",
   "metadata": {},
   "outputs": [],
   "source": [
    "# ! pip install aes-cipher"
   ]
  },
  {
   "cell_type": "code",
   "execution_count": 138,
   "id": "01f390d6-1fc5-449b-a6ef-50454da838ce",
   "metadata": {},
   "outputs": [],
   "source": [
    "from aes_cipher import DataEncrypter, Pbkdf2Sha512Default, DataDecrypter"
   ]
  },
  {
   "cell_type": "markdown",
   "id": "9f389ff6-d8f0-4e9f-960a-b313459ebd88",
   "metadata": {},
   "source": [
    "### Alice encrypts a message using the shared key"
   ]
  },
  {
   "cell_type": "code",
   "execution_count": 139,
   "id": "7d35dce7-dda7-4041-9892-894fe702e7e2",
   "metadata": {},
   "outputs": [],
   "source": [
    "# return the encrypted message cipher as <class 'bytes'>\n",
    "\n",
    "def get_alice_encrypted_message(msg_data:str, shared_secret:int) -> bytes:\n",
    "    data_encrypter = DataEncrypter(Pbkdf2Sha512Default)\n",
    "    data_encrypter.Encrypt(msg_data, str(shared_secret))\n",
    "    enc_data = data_encrypter.GetEncryptedData()\n",
    "    #print(type(enc_data))\n",
    "    \n",
    "    return enc_data"
   ]
  },
  {
   "cell_type": "markdown",
   "id": "736bb5e9-04d9-4100-9543-6b2ed232f44b",
   "metadata": {},
   "source": [
    "### Bob decrypts Alice's message using the shared key"
   ]
  },
  {
   "cell_type": "code",
   "execution_count": 140,
   "id": "6d0ccee0-9d2a-42bb-ba62-2cd04d3f7568",
   "metadata": {},
   "outputs": [],
   "source": [
    "# return the decrypted cleartext message string\n",
    "\n",
    "def get_decrypted_cleartext_message(msg_ciphertext_data:bytes, shared_secret:int) -> str:\n",
    "    data_decrypter = DataDecrypter(Pbkdf2Sha512Default)\n",
    "    data_decrypter.Decrypt(msg_ciphertext_data, str(shared_secret))\n",
    "    dec_data = data_decrypter.GetDecryptedData()\n",
    "    # display('Alice message cleartext: %s' %dec_data)\n",
    "    \n",
    "    return dec_data"
   ]
  },
  {
   "cell_type": "code",
   "execution_count": 141,
   "id": "dad76062-5665-429e-bf4b-eb5901c4264f",
   "metadata": {},
   "outputs": [],
   "source": [
    "# verify that the messages are identical\n",
    "\n",
    "def verify_messages_indentical(aoriginal_msg:str,decrypted_msg:str) -> bool:\n",
    "    result= False\n",
    "    \n",
    "    # remove the b and apostrophes from the decrypted message (b'a message from Alice')\n",
    "    received_msg= str(decrypted_msg)[2:-1]\n",
    "    # print(received_msg)\n",
    "    \n",
    "    if(received_msg == aoriginal_msg):\n",
    "        result= True\n",
    "        \n",
    "    return result"
   ]
  },
  {
   "cell_type": "markdown",
   "id": "7a0de2e0-eb19-41b4-a708-380de3d0e63a",
   "metadata": {},
   "source": [
    "## Execute"
   ]
  },
  {
   "cell_type": "code",
   "execution_count": 142,
   "id": "9a15c11c-0f7e-409b-b9e3-42c781cc9a3a",
   "metadata": {},
   "outputs": [
    {
     "data": {
      "text/latex": [
       "$\\displaystyle \\text{Alice original message: } \\text{\"a secret message from Alice\"}$"
      ],
      "text/plain": [
       "<IPython.core.display.Math object>"
      ]
     },
     "metadata": {},
     "output_type": "display_data"
    },
    {
     "data": {
      "text/latex": [
       "$\\displaystyle Prime \\: number: 401359079052121615212425683005976136917 , \\: with \\: 129 \\: bits$"
      ],
      "text/plain": [
       "<IPython.core.display.Math object>"
      ]
     },
     "metadata": {},
     "output_type": "display_data"
    },
    {
     "data": {
      "text/latex": [
       "$\\displaystyle \\text{Alice's shared secret = } 61134369313012108765347190852543676667 , \\: with \\: 126 \\: bits$"
      ],
      "text/plain": [
       "<IPython.core.display.Math object>"
      ]
     },
     "metadata": {},
     "output_type": "display_data"
    },
    {
     "data": {
      "text/latex": [
       "$\\displaystyle \\text{Alice message cipher: } b'\\x00\\x00\\x00\\x10\\x . . .$"
      ],
      "text/plain": [
       "<IPython.core.display.Math object>"
      ]
     },
     "metadata": {},
     "output_type": "display_data"
    },
    {
     "data": {
      "text/latex": [
       "$\\displaystyle \\text {Alice sends k1 to Bob.}$"
      ],
      "text/plain": [
       "<IPython.core.display.Math object>"
      ]
     },
     "metadata": {},
     "output_type": "display_data"
    },
    {
     "data": {
      "text/latex": [
       "$\\displaystyle k1= 39756890689826396491235542350802793248 , \\: with \\: 125 \\: bits$"
      ],
      "text/plain": [
       "<IPython.core.display.Math object>"
      ]
     },
     "metadata": {},
     "output_type": "display_data"
    },
    {
     "data": {
      "text/latex": [
       "$\\displaystyle \\text {Bob sends k2 to Alice.}$"
      ],
      "text/plain": [
       "<IPython.core.display.Math object>"
      ]
     },
     "metadata": {},
     "output_type": "display_data"
    },
    {
     "data": {
      "text/latex": [
       "$\\displaystyle k2= 161560054143448891778673430431686860316 , \\: with \\: 127 \\: bits$"
      ],
      "text/plain": [
       "<IPython.core.display.Math object>"
      ]
     },
     "metadata": {},
     "output_type": "display_data"
    },
    {
     "data": {
      "text/latex": [
       "$\\displaystyle \\text {Alice sends k3 to Bob.}$"
      ],
      "text/plain": [
       "<IPython.core.display.Math object>"
      ]
     },
     "metadata": {},
     "output_type": "display_data"
    },
    {
     "data": {
      "text/latex": [
       "$\\displaystyle k3= 251303963941360871873666790000744543049 , \\: with \\: 128 \\: bits$"
      ],
      "text/plain": [
       "<IPython.core.display.Math object>"
      ]
     },
     "metadata": {},
     "output_type": "display_data"
    },
    {
     "data": {
      "text/latex": [
       "$\\displaystyle \\text{Bob computes the shared secret.}$"
      ],
      "text/plain": [
       "<IPython.core.display.Math object>"
      ]
     },
     "metadata": {},
     "output_type": "display_data"
    },
    {
     "data": {
      "text/latex": [
       "$\\displaystyle \\text{Bob's shared secret = } 61134369313012108765347190852543676667 , \\: with \\: 126 \\: bits$"
      ],
      "text/plain": [
       "<IPython.core.display.Math object>"
      ]
     },
     "metadata": {},
     "output_type": "display_data"
    },
    {
     "data": {
      "text/latex": [
       "$\\displaystyle \\text{Secret shared keys are identical!}$"
      ],
      "text/plain": [
       "<IPython.core.display.Math object>"
      ]
     },
     "metadata": {},
     "output_type": "display_data"
    },
    {
     "data": {
      "text/latex": [
       "$\\displaystyle \\text{Alice's decrypted message by Bob: } \\text{'a secret message from Alice'}$"
      ],
      "text/plain": [
       "<IPython.core.display.Math object>"
      ]
     },
     "metadata": {},
     "output_type": "display_data"
    },
    {
     "data": {
      "text/latex": [
       "$\\displaystyle \\text{The original and decrypted messages are identical!}$"
      ],
      "text/plain": [
       "<IPython.core.display.Math object>"
      ]
     },
     "metadata": {},
     "output_type": "display_data"
    }
   ],
   "source": [
    "\n",
    "secret_msg= \"a secret message from Alice\"\n",
    "display( Math('\\\\text{Alice original message: } \\\\text{\"%s\"}' %secret_msg))\n",
    "\n",
    "# 1. Decide on numbers bits length: 2^bits-length\n",
    "set_globals(_bits_length=129,_p=0)\n",
    "\n",
    "# 2. Everyone agree on a public key: p, and publish it\n",
    "generate_prime()\n",
    "\n",
    "# 3. Each user selects a random number k that is a coprime to p-1 and its modular multiplicative inverse k-1\n",
    "generate_k_for_users()\n",
    "generate_k_inverse_for_users()\n",
    "\n",
    "# 4. Alise chooses a shared-secret-key ks to be shared with Bob\n",
    "alice_generate_shared_secret()\n",
    "display( Math(\"\\\\text{Alice's shared secret = } %i , \\\\: with \\: %i \\: bits\" %(users['Alice']['ks'], users['Alice']['ks'].bit_length())) )\n",
    "\n",
    "# 5. Alice encrypts a message using the shared secret\n",
    "alice_msg_cipher= get_alice_encrypted_message(msg_data=secret_msg, shared_secret=users['Alice']['ks'])\n",
    "display( Math('\\\\text{Alice message cipher: } %s %s' %(str(alice_msg_cipher)[:20], \". . .\")) )\n",
    "\n",
    "# 6. Alice sends k1= kska(mod p) to Bob.\n",
    "k1= alice_get_k1()\n",
    "\n",
    "# 7. Bob sends k2= k1kb(mod p) to Alice.\n",
    "k2= bob_get_k2(k1)\n",
    "\n",
    "# 8. Alice sends k3= k2ka-1(mod p) to Bob.\n",
    "k3= alice_get_k3(k2)\n",
    "\n",
    "# 9. Bob computes kb= k3kb-1(mod p).\n",
    "bob_compute_shared_secret(k3)\n",
    "display( Math('\\\\text{Bob computes the shared secret.}') )\n",
    "display( Math(\"\\\\text{Bob's shared secret = } %i , \\\\: with \\: %i \\: bits\" %(users['Bob']['ks'], users['Bob']['ks'].bit_length())) )\n",
    "\n",
    "# 10. verify: assert(alice_ks == bob_ks)\n",
    "if verify_shared_keys_indentical() == True:\n",
    "    display( Math(\"\\\\text{Secret shared keys are identical!}\") )\n",
    "    \n",
    "# 11. Bob decrypts alice's encrypted message using the shared secret key he computed\n",
    "decrypted_msg= get_decrypted_cleartext_message(msg_ciphertext_data=alice_msg_cipher, shared_secret=users['Bob']['ks'])\n",
    "\n",
    "# 12. verify that the original and received messages are identical\n",
    "display( Math(\"\\\\text{Alice's decrypted message by Bob: } \\\\text{'%s'}\" %str(decrypted_msg)[2:-1]))\n",
    "if verify_messages_indentical(secret_msg,decrypted_msg) == True:\n",
    "    display(Math(\"\\\\text{The original and decrypted messages are identical!}\") )\n"
   ]
  },
  {
   "cell_type": "code",
   "execution_count": null,
   "id": "62d2119f-b090-4057-96c6-aefeda4d93db",
   "metadata": {},
   "outputs": [],
   "source": []
  }
 ],
 "metadata": {
  "kernelspec": {
   "display_name": "Python 3 (ipykernel)",
   "language": "python",
   "name": "python3"
  },
  "language_info": {
   "codemirror_mode": {
    "name": "ipython",
    "version": 3
   },
   "file_extension": ".py",
   "mimetype": "text/x-python",
   "name": "python",
   "nbconvert_exporter": "python",
   "pygments_lexer": "ipython3",
   "version": "3.9.15"
  }
 },
 "nbformat": 4,
 "nbformat_minor": 5
}
