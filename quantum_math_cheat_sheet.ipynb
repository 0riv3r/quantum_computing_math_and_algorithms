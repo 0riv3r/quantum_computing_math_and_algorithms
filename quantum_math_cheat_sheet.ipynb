{
 "cells": [
  {
   "cell_type": "markdown",
   "id": "e0ef9a0d-cefa-491c-97e8-52f9a3b2bc39",
   "metadata": {},
   "source": [
    "# Quantum Computing Math Cheat Sheet"
   ]
  },
  {
   "cell_type": "code",
   "execution_count": 83,
   "id": "1881071d-9aed-4da6-8c19-083c3485e414",
   "metadata": {},
   "outputs": [],
   "source": [
    "import numpy as np\n",
    "import sympy as sym\n",
    "from IPython.display import display, Math\n",
    "import random\n",
    "import matplotlib.pyplot as plt"
   ]
  },
  {
   "cell_type": "code",
   "execution_count": 84,
   "id": "3ff8b9e1-d98f-432f-9fc9-f958341a364b",
   "metadata": {},
   "outputs": [],
   "source": [
    "sym.init_printing() # prety printing of math"
   ]
  },
  {
   "cell_type": "markdown",
   "id": "21f8881b-fcaf-4311-96a3-84e50d8d0efb",
   "metadata": {},
   "source": [
    "## Subjects\n",
    "- Complex numbers\n",
    "- Complex numbers - Polar Form   \n",
    "- Complex conjugate    \n",
    "- Magnitude     \n",
    "- Conjugate transpose   \n",
    "- Inner product   \n",
    "- Eucledian norm\n",
    "- Unit vector\n",
    "- Distance between vectors\n",
    "- Orthonormal bases\n",
    "- Computational (standard) basis"
   ]
  },
  {
   "cell_type": "markdown",
   "id": "35109d8f-9202-42c5-a94b-513b68791e95",
   "metadata": {},
   "source": [
    "## Helper functions"
   ]
  },
  {
   "cell_type": "code",
   "execution_count": 85,
   "id": "403a2b3a-6e8c-4a69-85bf-b6373c4c14fa",
   "metadata": {},
   "outputs": [],
   "source": [
    "# AngleAnnotation class\n",
    "# from:\n",
    "# https://matplotlib.org/stable/gallery/text_labels_and_annotations/angle_annotation.html#angleannotation-class\n",
    "\n",
    "import numpy as np\n",
    "import matplotlib.pyplot as plt\n",
    "from matplotlib.patches import Arc\n",
    "from matplotlib.transforms import IdentityTransform, TransformedBbox, Bbox\n",
    "\n",
    "\n",
    "class AngleAnnotation(Arc):\n",
    "    \"\"\"\n",
    "    Draws an arc between two vectors which appears circular in display space.\n",
    "    \"\"\"\n",
    "    def __init__(self, xy, p1, p2, size=75, unit=\"points\", ax=None,\n",
    "                 text=\"\", textposition=\"inside\", text_kw=None, **kwargs):\n",
    "        \"\"\"\n",
    "        Parameters\n",
    "        ----------\n",
    "        xy, p1, p2 : tuple or array of two floats\n",
    "            Center position and two points. Angle annotation is drawn between\n",
    "            the two vectors connecting *p1* and *p2* with *xy*, respectively.\n",
    "            Units are data coordinates.\n",
    "\n",
    "        size : float\n",
    "            Diameter of the angle annotation in units specified by *unit*.\n",
    "\n",
    "        unit : str\n",
    "            One of the following strings to specify the unit of *size*:\n",
    "\n",
    "            * \"pixels\": pixels\n",
    "            * \"points\": points, use points instead of pixels to not have a\n",
    "              dependence on the DPI\n",
    "            * \"axes width\", \"axes height\": relative units of Axes width, height\n",
    "            * \"axes min\", \"axes max\": minimum or maximum of relative Axes\n",
    "              width, height\n",
    "\n",
    "        ax : `matplotlib.axes.Axes`\n",
    "            The Axes to add the angle annotation to.\n",
    "\n",
    "        text : str\n",
    "            The text to mark the angle with.\n",
    "\n",
    "        textposition : {\"inside\", \"outside\", \"edge\"}\n",
    "            Whether to show the text in- or outside the arc. \"edge\" can be used\n",
    "            for custom positions anchored at the arc's edge.\n",
    "\n",
    "        text_kw : dict\n",
    "            Dictionary of arguments passed to the Annotation.\n",
    "\n",
    "        **kwargs\n",
    "            Further parameters are passed to `matplotlib.patches.Arc`. Use this\n",
    "            to specify, color, linewidth etc. of the arc.\n",
    "\n",
    "        \"\"\"\n",
    "        self.ax = ax or plt.gca()\n",
    "        self._xydata = xy  # in data coordinates\n",
    "        self.vec1 = p1\n",
    "        self.vec2 = p2\n",
    "        self.size = size\n",
    "        self.unit = unit\n",
    "        self.textposition = textposition\n",
    "\n",
    "        super().__init__(self._xydata, size, size, angle=0.0,\n",
    "                         theta1=self.theta1, theta2=self.theta2, **kwargs)\n",
    "\n",
    "        self.set_transform(IdentityTransform())\n",
    "        self.ax.add_patch(self)\n",
    "\n",
    "        self.kw = dict(ha=\"center\", va=\"center\",\n",
    "                       xycoords=IdentityTransform(),\n",
    "                       xytext=(0, 0), textcoords=\"offset points\",\n",
    "                       annotation_clip=True)\n",
    "        self.kw.update(text_kw or {})\n",
    "        self.text = ax.annotate(text, xy=self._center, **self.kw)\n",
    "\n",
    "    def get_size(self):\n",
    "        factor = 1.\n",
    "        if self.unit == \"points\":\n",
    "            factor = self.ax.figure.dpi / 72.\n",
    "        elif self.unit[:4] == \"axes\":\n",
    "            b = TransformedBbox(Bbox.unit(), self.ax.transAxes)\n",
    "            dic = {\"max\": max(b.width, b.height),\n",
    "                   \"min\": min(b.width, b.height),\n",
    "                   \"width\": b.width, \"height\": b.height}\n",
    "            factor = dic[self.unit[5:]]\n",
    "        return self.size * factor\n",
    "\n",
    "    def set_size(self, size):\n",
    "        self.size = size\n",
    "\n",
    "    def get_center_in_pixels(self):\n",
    "        \"\"\"return center in pixels\"\"\"\n",
    "        return self.ax.transData.transform(self._xydata)\n",
    "\n",
    "    def set_center(self, xy):\n",
    "        \"\"\"set center in data coordinates\"\"\"\n",
    "        self._xydata = xy\n",
    "\n",
    "    def get_theta(self, vec):\n",
    "        vec_in_pixels = self.ax.transData.transform(vec) - self._center\n",
    "        return np.rad2deg(np.arctan2(vec_in_pixels[1], vec_in_pixels[0]))\n",
    "\n",
    "    def get_theta1(self):\n",
    "        return self.get_theta(self.vec1)\n",
    "\n",
    "    def get_theta2(self):\n",
    "        return self.get_theta(self.vec2)\n",
    "\n",
    "    def set_theta(self, angle):\n",
    "        pass\n",
    "\n",
    "    # Redefine attributes of the Arc to always give values in pixel space\n",
    "    _center = property(get_center_in_pixels, set_center)\n",
    "    theta1 = property(get_theta1, set_theta)\n",
    "    theta2 = property(get_theta2, set_theta)\n",
    "    width = property(get_size, set_size)\n",
    "    height = property(get_size, set_size)\n",
    "\n",
    "    # The following two methods are needed to update the text position.\n",
    "    def draw(self, renderer):\n",
    "        self.update_text()\n",
    "        super().draw(renderer)\n",
    "\n",
    "    def update_text(self):\n",
    "        c = self._center\n",
    "        s = self.get_size()\n",
    "        angle_span = (self.theta2 - self.theta1) % 360\n",
    "        angle = np.deg2rad(self.theta1 + angle_span / 2)\n",
    "        r = s / 2\n",
    "        if self.textposition == \"inside\":\n",
    "            r = s / np.interp(angle_span, [60, 90, 135, 180],\n",
    "                                          [3.3, 3.5, 3.8, 4])\n",
    "        self.text.xy = c + r * np.array([np.cos(angle), np.sin(angle)])\n",
    "        if self.textposition == \"outside\":\n",
    "            def R90(a, r, w, h):\n",
    "                if a < np.arctan(h/2/(r+w/2)):\n",
    "                    return np.sqrt((r+w/2)**2 + (np.tan(a)*(r+w/2))**2)\n",
    "                else:\n",
    "                    c = np.sqrt((w/2)**2+(h/2)**2)\n",
    "                    T = np.arcsin(c * np.cos(np.pi/2 - a + np.arcsin(h/2/c))/r)\n",
    "                    xy = r * np.array([np.cos(a + T), np.sin(a + T)])\n",
    "                    xy += np.array([w/2, h/2])\n",
    "                    return np.sqrt(np.sum(xy**2))\n",
    "\n",
    "            def R(a, r, w, h):\n",
    "                aa = (a % (np.pi/4))*((a % (np.pi/2)) <= np.pi/4) + \\\n",
    "                     (np.pi/4 - (a % (np.pi/4)))*((a % (np.pi/2)) >= np.pi/4)\n",
    "                return R90(aa, r, *[w, h][::int(np.sign(np.cos(2*a)))])\n",
    "\n",
    "            bbox = self.text.get_window_extent()\n",
    "            X = R(angle, r, bbox.width, bbox.height)\n",
    "            trans = self.ax.figure.dpi_scale_trans.inverted()\n",
    "            offs = trans.transform(((X-s/2), 0))[0] * 72\n",
    "            self.text.set_position([offs*np.cos(angle), offs*np.sin(angle)])"
   ]
  },
  {
   "cell_type": "code",
   "execution_count": 86,
   "id": "c919775a-bca7-41f0-bbe3-9ed60fe1dcfe",
   "metadata": {},
   "outputs": [],
   "source": [
    "# Complex plane\n",
    "# from:\n",
    "# https://github.com/osnove/other/blob/master/complex_plane.py\n",
    "# with a few changes by me\n",
    "\n",
    "import matplotlib.pyplot as plt\n",
    "import numpy as np # dodamo še numerično knjižico \n",
    "get_ipython().run_line_magic('matplotlib', 'inline')\n",
    "\n",
    "\n",
    "def complex_plane2(z,p1=None,p2=None,angle_size=0,center=(0,0),axis_type=0, angle_position=\"edge\"):\n",
    "    \"\"\"Creates complex plane and shows complex numbers as vectors (complexors)\n",
    "    \n",
    "    Parameters\n",
    "    ----------\n",
    "    z : array of complex values\n",
    "        array of complex values to be shown\n",
    "    axis_type : int \n",
    "        three types of shapes of complex plane:\n",
    "        0 : symple\n",
    "        1 : with grid\n",
    "        2 : moved axis to middle \n",
    "    -----------------------------------\n",
    "    # Example\n",
    "    z=[20+10j,15,-10-10j,5+15j]\n",
    "    complex_plane2(z,2) \"\"\"\n",
    "\n",
    "    w=max(np.abs(z))\n",
    "    fig, ax = plt.subplots()\n",
    "        \n",
    "    if axis_type==0: \n",
    "        plt.axis(\"off\")\n",
    "        plt.text(-0.15*w, 0.8*w, \"i\", fontsize=14)\n",
    "        plt.text( 0.8*w,-0.15*w, \"ℝ\", fontsize=14)\n",
    "        plt.text(-0.15*w, -0.9*w, \"-i\", fontsize=14)\n",
    "        plt.text( -0.9*w,-0.15*w, '-ℝ', fontsize=14)\n",
    "    elif axis_type==1: \n",
    "        plt.axis(\"on\")\n",
    "        plt.grid()\n",
    "        plt.text(-0.15*w, 0.8*w, \"i\", fontsize=14)\n",
    "        plt.text( 0.8*w,-0.15*w, 'ℝ', fontsize=14)\n",
    "        plt.text(-0.15*w, -0.9*w, \"-i\", fontsize=14)\n",
    "        plt.text( -0.9*w,-0.15*w, '-ℝ', fontsize=14)\n",
    "    else:\n",
    "         # Move left y-axis and bottim x-axis to centre, passing through (0,0)\n",
    "        ax.spines['left'].set_position('center')\n",
    "        ax.spines['bottom'].set_position('center')\n",
    "\n",
    "        # Eliminate upper and right axes\n",
    "        ax.spines['right'].set_color('none')\n",
    "        ax.spines['top'].set_color('none')\n",
    "\n",
    "        # Show ticks in the left and lower axes only\n",
    "        ax.xaxis.set_ticks_position('bottom')\n",
    "        ax.yaxis.set_ticks_position('left')\n",
    "\n",
    "        # ax.set_xlabel('                                                 ℝ')\n",
    "        # ax.set_ylabel('                                                 i')\n",
    "        plt.text(-0.15*w, 0.8*w, \"i\", fontsize=14)\n",
    "        plt.text( 0.8*w,-0.15*w, 'ℝ', fontsize=14)\n",
    "\n",
    "    plt.xlim(-w,w)\n",
    "    plt.ylim(-w,w)\n",
    "    plt.arrow(0, -w, 0, 1.9*w, head_width=w/20, head_length=w/20, fc='k', ec='k');\n",
    "    plt.arrow(-w, 0, 1.9*w, 0, head_width=w/20, head_length=w/20, fc='k', ec='k');\n",
    "\n",
    "    for i in range(len(z)):\n",
    "        fi_a=np.angle(z[i])\n",
    "        x=z[i].real -abs(w)/20*np.cos(fi_a)\n",
    "        y=z[i].imag-abs(w)/20*np.sin(fi_a)\n",
    "        plt.arrow(0, 0, x, y, head_width=w/20, head_length=w/20, fc='b', ec='b');\n",
    "        \n",
    "              \n",
    "        # call AngleAnnotation func\n",
    "        if p2 != None or p1 != None:\n",
    "            point, = ax.plot(*center, marker=\"o\")\n",
    "            AngleAnnotation(center, p1[1], p2[1], ax=ax, size=angle_size, text=r\"$\\theta$\", textposition=angle_position)\n",
    "        "
   ]
  },
  {
   "cell_type": "markdown",
   "id": "5fd186af-9035-49df-9f94-b4f33c2d6384",
   "metadata": {},
   "source": [
    "## Definitions"
   ]
  },
  {
   "cell_type": "code",
   "execution_count": 87,
   "id": "4f6ba6e5-d0a0-4bf5-92df-64177b95f8b0",
   "metadata": {},
   "outputs": [
    {
     "data": {
      "text/latex": [
       "$\\displaystyle a := expr \\quad ==> \\textit{a} \\: \\text{is defined as the expression} \\: \\textit{expr}$"
      ],
      "text/plain": [
       "<IPython.core.display.Math object>"
      ]
     },
     "metadata": {},
     "output_type": "display_data"
    }
   ],
   "source": [
    "display( Math('a := expr \\quad ==> \\\\textit{a} \\\\: \\\\text{is defined as the expression} \\\\: \\\\textit{expr}') )"
   ]
  },
  {
   "cell_type": "markdown",
   "id": "80cba43d-ad23-47fb-80d3-91b2248e4398",
   "metadata": {},
   "source": [
    "## Complex numbers"
   ]
  },
  {
   "cell_type": "code",
   "execution_count": 88,
   "id": "1e032720-1b15-4b8a-8de4-e4b3be11109a",
   "metadata": {},
   "outputs": [
    {
     "data": {
      "text/latex": [
       "$\\displaystyle a,b \\in \\mathbb{R}$"
      ],
      "text/plain": [
       "<IPython.core.display.Math object>"
      ]
     },
     "metadata": {},
     "output_type": "display_data"
    },
    {
     "data": {
      "text/latex": [
       "$\\displaystyle c \\in \\mathbb{C}$"
      ],
      "text/plain": [
       "<IPython.core.display.Math object>"
      ]
     },
     "metadata": {},
     "output_type": "display_data"
    },
    {
     "data": {
      "text/latex": [
       "$\\displaystyle i := \\sqrt{-1}$"
      ],
      "text/plain": [
       "<IPython.core.display.Math object>"
      ]
     },
     "metadata": {},
     "output_type": "display_data"
    },
    {
     "data": {
      "text/latex": [
       "$\\displaystyle c = a + i \\cdot b$"
      ],
      "text/plain": [
       "<IPython.core.display.Math object>"
      ]
     },
     "metadata": {},
     "output_type": "display_data"
    }
   ],
   "source": [
    "display( Math('a,b \\\\in \\\\mathbb{R}') )\n",
    "display( Math('c \\\\in \\\\mathbb{C}') )\n",
    "display( Math('i := \\\\sqrt{-1}') )\n",
    "display( Math('c = a + i \\\\cdot b') )"
   ]
  },
  {
   "cell_type": "code",
   "execution_count": 89,
   "id": "780c8725-2963-40eb-b96d-529dbeceb32b",
   "metadata": {},
   "outputs": [
    {
     "data": {
      "text/latex": [
       "$\\displaystyle | \\psi \\rangle = \\left[\\begin{matrix}𝜓_{1}\\\\𝜓_{2}\\\\𝜓_{3}\\\\𝜓_{d}\\end{matrix}\\right]\\in \\mathbb{C^d}$"
      ],
      "text/plain": [
       "<IPython.core.display.Math object>"
      ]
     },
     "metadata": {},
     "output_type": "display_data"
    },
    {
     "data": {
      "text/latex": [
       "$\\displaystyle \\psi_i \\in \\mathbb{C}$"
      ],
      "text/plain": [
       "<IPython.core.display.Math object>"
      ]
     },
     "metadata": {},
     "output_type": "display_data"
    }
   ],
   "source": [
    "v= np.array(['𝜓_1','𝜓_2','𝜓_3','𝜓_d'])\n",
    "v.shape = (4,1)\n",
    "display( Math('| \\\\psi \\\\rangle = ' + sym.latex(sym.sympify(v)) + '\\\\in \\\\mathbb{C^d}') )\n",
    "display( Math('\\\\psi_i \\\\in \\\\mathbb{C}') )"
   ]
  },
  {
   "cell_type": "markdown",
   "id": "dd694822-e555-4f36-bf3f-7310aaf77831",
   "metadata": {},
   "source": [
    "### Complex numbers - Polar Form"
   ]
  },
  {
   "cell_type": "code",
   "execution_count": 90,
   "id": "586ebdba-8bc2-4a31-a72c-d9a6308182d8",
   "metadata": {},
   "outputs": [
    {
     "data": {
      "text/latex": [
       "$\\displaystyle r,\\theta \\in \\mathbb{R}$"
      ],
      "text/plain": [
       "<IPython.core.display.Math object>"
      ]
     },
     "metadata": {},
     "output_type": "display_data"
    },
    {
     "data": {
      "text/latex": [
       "$\\displaystyle c \\in \\mathbb{C}$"
      ],
      "text/plain": [
       "<IPython.core.display.Math object>"
      ]
     },
     "metadata": {},
     "output_type": "display_data"
    },
    {
     "data": {
      "text/latex": [
       "$\\displaystyle c = re^{i\\theta}$"
      ],
      "text/plain": [
       "<IPython.core.display.Math object>"
      ]
     },
     "metadata": {},
     "output_type": "display_data"
    }
   ],
   "source": [
    "display( Math('r,\\\\theta \\\\in \\\\mathbb{R}') )\n",
    "display( Math('c \\\\in \\\\mathbb{C}') )\n",
    "display( Math('c = re^{i\\\\theta}') )"
   ]
  },
  {
   "cell_type": "markdown",
   "id": "22accaa9-9aa7-42c4-b0e6-4bdeea728fb6",
   "metadata": {},
   "source": [
    "#### Geometric interpretation"
   ]
  },
  {
   "cell_type": "code",
   "execution_count": 91,
   "id": "caf79284-b32f-4e44-8416-4259463cbf38",
   "metadata": {},
   "outputs": [
    {
     "data": {
      "image/png": "[encoded data removed]",
      "text/plain": [
       "<Figure size 640x480 with 1 Axes>"
      ]
     },
     "metadata": {},
     "output_type": "display_data"
    }
   ],
   "source": [
    "import matplotlib.pyplot as plt\n",
    "import numpy as np # dodamo še numerično knjižico \n",
    "get_ipython().run_line_magic('matplotlib', 'inline')\n",
    "\n",
    "# params for complex_plane2 func\n",
    "z=[0.866+0.5j] # 𝜃 = 30\n",
    "\n",
    "# params for AngleAnnotation func\n",
    "center = (0, 0)\n",
    "p1 = [(0, 0), (0, 0)]\n",
    "p2 = [(0, 0), (0.3, 0.18)]\n",
    "angle_size= 95\n",
    "\n",
    "complex_plane2(z,p1,p2,angle_size,center,axis_type=1,angle_position=\"edge\")\n",
    "        \n",
    "plt.ylabel('Imaginary')\n",
    "plt.xlabel('Real')\n",
    "\n",
    "plt.text(0.45,0.3,'r')\n",
    "plt.text(0.85,0.52,'c')\n",
    "plt.show()"
   ]
  },
  {
   "cell_type": "code",
   "execution_count": 92,
   "id": "afe2d56a-837a-45eb-b9bd-5df3d74208cc",
   "metadata": {},
   "outputs": [
    {
     "data": {
      "text/latex": [
       "$\\displaystyle r,\\theta \\in \\mathbb{R}$"
      ],
      "text/plain": [
       "<IPython.core.display.Math object>"
      ]
     },
     "metadata": {},
     "output_type": "display_data"
    },
    {
     "data": {
      "text/latex": [
       "$\\displaystyle r = 1$"
      ],
      "text/plain": [
       "<IPython.core.display.Math object>"
      ]
     },
     "metadata": {},
     "output_type": "display_data"
    },
    {
     "data": {
      "text/latex": [
       "$\\displaystyle c = r \\cdot cos \\theta + r \\cdot i \\cdot sin \\theta = r(cos \\theta + i \\cdot sin \\theta)$"
      ],
      "text/plain": [
       "<IPython.core.display.Math object>"
      ]
     },
     "metadata": {},
     "output_type": "display_data"
    },
    {
     "data": {
      "text/latex": [
       "$\\displaystyle \\text{Euler's formula: } e^{i\\theta} = cos \\theta + i \\cdot sin \\theta$"
      ],
      "text/plain": [
       "<IPython.core.display.Math object>"
      ]
     },
     "metadata": {},
     "output_type": "display_data"
    },
    {
     "data": {
      "text/latex": [
       "$\\displaystyle c = re^{i\\theta}$"
      ],
      "text/plain": [
       "<IPython.core.display.Math object>"
      ]
     },
     "metadata": {},
     "output_type": "display_data"
    }
   ],
   "source": [
    "display( Math('r,\\\\theta \\\\in \\\\mathbb{R}') )\n",
    "display( Math('r = 1') )\n",
    "display( Math('c = r \\\\cdot cos \\\\theta + r \\\\cdot i \\\\cdot sin \\\\theta = r(cos \\\\theta + i \\\\cdot sin \\\\theta)') )\n",
    "display( Math(\"\\\\text{Euler's formula: } e^{i\\\\theta} = cos \\\\theta + i \\\\cdot sin \\\\theta\") )\n",
    "display( Math('c = re^{i\\\\theta}') )"
   ]
  },
  {
   "cell_type": "markdown",
   "id": "4fe55fa7-c65d-471f-b9d5-f399e7167712",
   "metadata": {},
   "source": [
    "### Samples"
   ]
  },
  {
   "cell_type": "code",
   "execution_count": 93,
   "id": "fde50740-08c5-4531-b020-097ab7bf0d66",
   "metadata": {},
   "outputs": [
    {
     "data": {
      "image/png": "[encoded data removed]",
      "text/plain": [
       "<Figure size 640x480 with 1 Axes>"
      ]
     },
     "metadata": {},
     "output_type": "display_data"
    }
   ],
   "source": [
    "z=[0+1j] # 𝜃 = 𝜋/2\n",
    "\n",
    "center = (0, 0)\n",
    "p1 = [(0, 0), (30, 0)]\n",
    "p2 = [(0, 0), (0, 30)]\n",
    "angle_size= 95\n",
    "\n",
    "complex_plane2(z,p1,p2,angle_size,center,axis_type=1,angle_position=\"edge\")\n",
    "        \n",
    "plt.ylabel('Imaginary')\n",
    "plt.xlabel('Real')\n",
    "\n",
    "plt.text(0.01,0.5,'r')\n",
    "plt.text(0.04,0.9,'c')\n",
    "plt.show()"
   ]
  },
  {
   "cell_type": "code",
   "execution_count": 94,
   "id": "7c1ec801-76e8-4701-a097-d2a052e1c20f",
   "metadata": {},
   "outputs": [
    {
     "data": {
      "text/latex": [
       "$\\displaystyle \\text{imaginary numbers rule:} \\: e^{i \\cdot \\pi \\cdot x} = (-1)^x$"
      ],
      "text/plain": [
       "<IPython.core.display.Math object>"
      ]
     },
     "metadata": {},
     "output_type": "display_data"
    },
    {
     "data": {
      "text/latex": [
       "$\\displaystyle e^{i \\cdot \\frac {\\pi}{2}} = e^{i \\cdot \\pi \\cdot \\frac {1}{2}} = (-1)^\\frac {1}{2} = \\sqrt{-1} = i$"
      ],
      "text/plain": [
       "<IPython.core.display.Math object>"
      ]
     },
     "metadata": {},
     "output_type": "display_data"
    },
    {
     "data": {
      "text/latex": [
       "$\\displaystyle r = 1$"
      ],
      "text/plain": [
       "<IPython.core.display.Math object>"
      ]
     },
     "metadata": {},
     "output_type": "display_data"
    },
    {
     "data": {
      "text/latex": [
       "$\\displaystyle \\theta = \\frac {\\pi}{2}$"
      ],
      "text/plain": [
       "<IPython.core.display.Math object>"
      ]
     },
     "metadata": {},
     "output_type": "display_data"
    },
    {
     "data": {
      "text/latex": [
       "$\\displaystyle c = re^{i\\theta} = 1 \\cdot e^{i \\cdot \\frac {\\pi}{2}} = 1 \\cdot i = i = 0 + i \\cdot 1$"
      ],
      "text/plain": [
       "<IPython.core.display.Math object>"
      ]
     },
     "metadata": {},
     "output_type": "display_data"
    }
   ],
   "source": [
    "display( Math('\\\\text{imaginary numbers rule:} \\\\: e^{i \\\\cdot \\\\pi \\\\cdot x} = (-1)^x') )\n",
    "display( Math('e^{i \\\\cdot \\\\frac {\\\\pi}{2}} = e^{i \\\\cdot \\\\pi \\\\cdot \\\\frac {1}{2}} = (-1)^\\\\frac {1}{2} = \\\\sqrt{-1} = i') )\n",
    "display( Math('r = 1') )\n",
    "display( Math('\\\\theta = \\\\frac {\\\\pi}{2}') )\n",
    "display( Math('c = re^{i\\\\theta} = 1 \\\\cdot e^{i \\\\cdot \\\\frac {\\\\pi}{2}} = 1 \\\\cdot i = i = 0 + i \\\\cdot 1') )"
   ]
  },
  {
   "cell_type": "code",
   "execution_count": 95,
   "id": "f82b6463-2716-405f-9a63-3225a9c3320f",
   "metadata": {},
   "outputs": [
    {
     "data": {
      "text/latex": [
       "$\\displaystyle \\text{Validate using Pythagorean theorem:  } c = \\sqrt{a^2 + b^2 }$"
      ],
      "text/plain": [
       "<IPython.core.display.Math object>"
      ]
     },
     "metadata": {},
     "output_type": "display_data"
    },
    {
     "data": {
      "text/latex": [
       "$\\displaystyle r = \\sqrt{ (r \\cdot 𝑐𝑜𝑠\\theta)^2 + (r \\cdot sin\\theta)^2} = \\sqrt{ (1 \\cdot 𝑐𝑜𝑠(\\frac{\\pi}{2}))^2 + (1 \\cdot sin(\\frac{\\pi}{2}))^2 } = \\sqrt{ 0 + 1 } = 1$"
      ],
      "text/plain": [
       "<IPython.core.display.Math object>"
      ]
     },
     "metadata": {},
     "output_type": "display_data"
    }
   ],
   "source": [
    "display( Math('\\\\text{Validate using Pythagorean theorem:  } c = \\\\sqrt{a^2 + b^2 }') )\n",
    "display( Math('r = \\\\sqrt{ (r \\\\cdot 𝑐𝑜𝑠\\\\theta)^2 + (r \\\\cdot sin\\\\theta)^2} = \\\n",
    "\\\\sqrt{ (1 \\\\cdot 𝑐𝑜𝑠(\\\\frac{\\\\pi}{2}))^2 + (1 \\\\cdot sin(\\\\frac{\\\\pi}{2}))^2 } = \\\\sqrt{ 0 + 1 } = 1' ) )"
   ]
  },
  {
   "cell_type": "code",
   "execution_count": 96,
   "id": "a8f47f75-22fa-49e4-a16e-94a08bd3e332",
   "metadata": {},
   "outputs": [
    {
     "data": {
      "image/png": "[encoded data removed]",
      "text/plain": [
       "<Figure size 640x480 with 1 Axes>"
      ]
     },
     "metadata": {},
     "output_type": "display_data"
    }
   ],
   "source": [
    "z=[1+0j]  # 𝜃 = 0\n",
    "\n",
    "center = (0, 0)\n",
    "p1 = [(0, 0), (1, 1)]\n",
    "p2 = [(0, 0), (1, 1)]\n",
    "angle_size= 35\n",
    "\n",
    "complex_plane2(z,p1,p2,angle_size,center,axis_type=1,angle_position=\"edge\")\n",
    "        \n",
    "plt.ylabel('Imaginary')\n",
    "plt.xlabel('Real')\n",
    "\n",
    "plt.text(0.5,0.02,'r')\n",
    "plt.text(0.9,0.05,'c')\n",
    "plt.show()"
   ]
  },
  {
   "cell_type": "code",
   "execution_count": 97,
   "id": "89acb311-e69f-496f-8c4c-8bf88f6b4ee9",
   "metadata": {},
   "outputs": [
    {
     "data": {
      "text/latex": [
       "$\\displaystyle r = 1$"
      ],
      "text/plain": [
       "<IPython.core.display.Math object>"
      ]
     },
     "metadata": {},
     "output_type": "display_data"
    },
    {
     "data": {
      "text/latex": [
       "$\\displaystyle \\theta = 0$"
      ],
      "text/plain": [
       "<IPython.core.display.Math object>"
      ]
     },
     "metadata": {},
     "output_type": "display_data"
    },
    {
     "data": {
      "text/latex": [
       "$\\displaystyle c = re^{i\\theta} = 1 \\cdot e^{i \\cdot 0} = 1 \\cdot 1 = 1 = 1 + i \\cdot 0$"
      ],
      "text/plain": [
       "<IPython.core.display.Math object>"
      ]
     },
     "metadata": {},
     "output_type": "display_data"
    }
   ],
   "source": [
    "display( Math('r = 1') )\n",
    "display( Math('\\\\theta = 0') )\n",
    "display( Math('c = re^{i\\\\theta} = 1 \\\\cdot e^{i \\\\cdot 0} = 1 \\\\cdot 1 = 1 = 1 + i \\\\cdot 0') )"
   ]
  },
  {
   "cell_type": "code",
   "execution_count": 98,
   "id": "5f243c73-de8e-416f-92d5-d07c2dc0eeab",
   "metadata": {},
   "outputs": [
    {
     "data": {
      "image/png": "[encoded data removed]",
      "text/plain": [
       "<Figure size 640x480 with 1 Axes>"
      ]
     },
     "metadata": {},
     "output_type": "display_data"
    }
   ],
   "source": [
    "z=[0.7071 + 0.7071j] # 𝜃 = 𝜋/4\n",
    "\n",
    "# params for AngleAnnotation func\n",
    "center = (0, 0)\n",
    "p1 = [(0, 0), (1.0, 0)]\n",
    "p2 = [(0, 0), (1.0, 1.0)]\n",
    "angle_size= 95\n",
    "\n",
    "complex_plane2(z,p1,p2,angle_size,center,axis_type=1,angle_position=\"edge\")\n",
    "        \n",
    "plt.ylabel('Imaginary')\n",
    "plt.xlabel('Real')\n",
    "\n",
    "plt.text(0.4,0.5,'r')\n",
    "plt.text(0.71,0.70,'c')\n",
    "plt.show()"
   ]
  },
  {
   "cell_type": "code",
   "execution_count": 99,
   "id": "876bc9ab-62d4-4674-8f3c-4547b631b8a7",
   "metadata": {},
   "outputs": [
    {
     "data": {
      "text/latex": [
       "$\\displaystyle r = 1$"
      ],
      "text/plain": [
       "<IPython.core.display.Math object>"
      ]
     },
     "metadata": {},
     "output_type": "display_data"
    },
    {
     "data": {
      "text/latex": [
       "$\\displaystyle \\theta = \\frac {\\pi}{4}$"
      ],
      "text/plain": [
       "<IPython.core.display.Math object>"
      ]
     },
     "metadata": {},
     "output_type": "display_data"
    },
    {
     "data": {
      "text/latex": [
       "$\\displaystyle c = 𝑟(𝑐𝑜𝑠\\theta + 𝑖⋅sin\\theta) = 1(𝑐𝑜𝑠(\\frac{\\pi}{4}) + i⋅sin(\\frac{\\pi}{4})) = 1(\\frac{\\sqrt{2}}{2} + i⋅\\frac{\\sqrt{2}}{2}) = 0.7071 + i⋅0.7071$"
      ],
      "text/plain": [
       "<IPython.core.display.Math object>"
      ]
     },
     "metadata": {},
     "output_type": "display_data"
    }
   ],
   "source": [
    "display( Math('r = 1') )\n",
    "display( Math('\\\\theta = \\\\frac {\\\\pi}{4}') )\n",
    "display( Math('c = 𝑟(𝑐𝑜𝑠\\\\theta + 𝑖⋅sin\\\\theta) = 1(𝑐𝑜𝑠(\\\\frac{\\\\pi}{4}) + i⋅sin(\\\\frac{\\\\pi}{4})) = \\\n",
    "1(\\\\frac{\\\\sqrt{2}}{2} + i⋅\\\\frac{\\\\sqrt{2}}{2}) = 0.7071 + i⋅0.7071') )"
   ]
  },
  {
   "cell_type": "code",
   "execution_count": 100,
   "id": "a6308f69-068d-482b-ac80-cb6c3e199378",
   "metadata": {},
   "outputs": [
    {
     "data": {
      "text/latex": [
       "$\\displaystyle \\text{Validate using Pythagorean theorem:  } c = \\sqrt{a^2 + b^2 }$"
      ],
      "text/plain": [
       "<IPython.core.display.Math object>"
      ]
     },
     "metadata": {},
     "output_type": "display_data"
    },
    {
     "data": {
      "text/latex": [
       "$\\displaystyle r = \\sqrt{ (r \\cdot 𝑐𝑜𝑠\\theta)^2 + (r \\cdot sin\\theta)^2} =                 \\sqrt{ (1 \\cdot 𝑐𝑜𝑠(\\frac {\\pi}{4}))^2 + (1 \\cdot sin(\\frac {\\pi}{4}))^2 } =                 \\sqrt{ (1 \\cdot \\frac{\\sqrt{2}}{2})^2 + (1 \\cdot \\frac{\\sqrt{2}}{2})^2 } =                 \\sqrt{ \\frac{1}{2} + \\frac{1}{2} } = 1$"
      ],
      "text/plain": [
       "<IPython.core.display.Math object>"
      ]
     },
     "metadata": {},
     "output_type": "display_data"
    }
   ],
   "source": [
    "display( Math('\\\\text{Validate using Pythagorean theorem:  } c = \\\\sqrt{a^2 + b^2 }') )\n",
    "display( Math('r = \\\\sqrt{ (r \\\\cdot 𝑐𝑜𝑠\\\\theta)^2 + (r \\\\cdot sin\\\\theta)^2} = \\\n",
    "                \\\\sqrt{ (1 \\\\cdot 𝑐𝑜𝑠(\\\\frac {\\\\pi}{4}))^2 + (1 \\\\cdot sin(\\\\frac {\\\\pi}{4}))^2 } = \\\n",
    "                \\\\sqrt{ (1 \\\\cdot \\\\frac{\\\\sqrt{2}}{2})^2 + (1 \\\\cdot \\\\frac{\\\\sqrt{2}}{2})^2 } = \\\n",
    "                \\\\sqrt{ \\\\frac{1}{2} + \\\\frac{1}{2} } = 1' ) )"
   ]
  },
  {
   "cell_type": "code",
   "execution_count": 101,
   "id": "de23721c-3ba3-48b7-a0dd-ecae2049eee3",
   "metadata": {},
   "outputs": [
    {
     "data": {
      "text/latex": [
       "$\\displaystyle \\text{imaginary numbers rule:} \\: e^{i \\cdot \\pi \\cdot x} = (-1)^x$"
      ],
      "text/plain": [
       "<IPython.core.display.Math object>"
      ]
     },
     "metadata": {},
     "output_type": "display_data"
    },
    {
     "data": {
      "text/latex": [
       "$\\displaystyle e^{i \\cdot \\frac {\\pi}{4}} = e^{i \\cdot \\pi \\cdot \\frac {1}{4}} = (-1)^\\frac {1}{4} =                \\sqrt{-1}^4 = \\sqrt{i} =  0.7071 + i⋅0.7071$"
      ],
      "text/plain": [
       "<IPython.core.display.Math object>"
      ]
     },
     "metadata": {},
     "output_type": "display_data"
    },
    {
     "data": {
      "text/latex": [
       "$\\displaystyle \\text{Euler's formula: } e^{i\\theta} = cos \\theta + i \\cdot sin \\theta$"
      ],
      "text/plain": [
       "<IPython.core.display.Math object>"
      ]
     },
     "metadata": {},
     "output_type": "display_data"
    },
    {
     "data": {
      "text/latex": [
       "$\\displaystyle c = re^{i\\theta} = 1 \\cdot e^{i \\cdot \\frac {\\pi}{4}} =                 𝑟(𝑐𝑜𝑠\\theta + 𝑖⋅sin\\theta) = 1(\\frac{\\sqrt{2}}{2} + i⋅\\frac{\\sqrt{2}}{2}) = 0.7071 + i⋅0.7071$"
      ],
      "text/plain": [
       "<IPython.core.display.Math object>"
      ]
     },
     "metadata": {},
     "output_type": "display_data"
    }
   ],
   "source": [
    "display( Math('\\\\text{imaginary numbers rule:} \\\\: e^{i \\\\cdot \\\\pi \\\\cdot x} = (-1)^x') )\n",
    "display( Math('e^{i \\\\cdot \\\\frac {\\\\pi}{4}} = e^{i \\\\cdot \\\\pi \\\\cdot \\\\frac {1}{4}} = (-1)^\\\\frac {1}{4} = \\\n",
    "               \\\\sqrt{-1}^4 = \\\\sqrt{i} =  0.7071 + i⋅0.7071') )\n",
    "display( Math(\"\\\\text{Euler's formula: } e^{i\\\\theta} = cos \\\\theta + i \\\\cdot sin \\\\theta\") )\n",
    "display( Math('c = re^{i\\\\theta} = 1 \\\\cdot e^{i \\\\cdot \\\\frac {\\\\pi}{4}} = \\\n",
    "                𝑟(𝑐𝑜𝑠\\\\theta + 𝑖⋅sin\\\\theta) = 1(\\\\frac{\\\\sqrt{2}}{2} + i⋅\\\\frac{\\\\sqrt{2}}{2}) = 0.7071 + i⋅0.7071') )"
   ]
  },
  {
   "cell_type": "markdown",
   "id": "68d96dc2-8880-4492-8bfb-641b3eefda17",
   "metadata": {},
   "source": [
    "In Argand diagram (the representation of complex numbers in the complex plane), with the unit circle: \n",
    "$2\\pi$ is a full circle and $\\pi$ is half a circle ($180^\\circ$).    \n",
    "*i* is a rotation of $\\frac{\\pi}{2}$ radians ($\\frac{1}{4}$ of a circle).     \n",
    "Square root of a number on the Argand diagram, is dividing its rotation by 2.     \n",
    "-1 is a rotation of $\\pi$ radians.   \n",
    "$\\sqrt{-1}$ is a rotation of $\\frac{\\pi}{2}$ radians, which is *i*.    \n",
    "So, $\\sqrt{i}$ is the rotation of *i* divided by 2, which is $\\frac{\\pi}{4}$ radians.    \n",
    "To locate it on the Argand diagram, we do: $cos(\\frac{\\pi}{4}) + i \\cdot sin(\\frac{\\pi}{4})$ = 0.7071 + i⋅0.7071"
   ]
  },
  {
   "cell_type": "code",
   "execution_count": 102,
   "id": "a922ca25-bfde-4ce3-a403-80af23bbf6b4",
   "metadata": {},
   "outputs": [
    {
     "data": {
      "image/png": "[encoded data removed]",
      "text/plain": [
       "<Figure size 640x480 with 1 Axes>"
      ]
     },
     "metadata": {},
     "output_type": "display_data"
    }
   ],
   "source": [
    "z=[-1+0j]  # 𝜃 = 𝜋\n",
    "\n",
    "center = (0, 0)\n",
    "p1 = [(0, 0), (1, 1)]\n",
    "p2 = [(0, 0), (1, 1)]\n",
    "angle_size= 35\n",
    "\n",
    "complex_plane2(z,p1,p2,angle_size,center,axis_type=1,angle_position=\"edge\")\n",
    "        \n",
    "plt.ylabel('Imaginary')\n",
    "plt.xlabel('Real')\n",
    "\n",
    "plt.text(0.5,0.02,'r')\n",
    "plt.text(-0.98,0.05,'c')\n",
    "plt.show()"
   ]
  },
  {
   "cell_type": "code",
   "execution_count": 103,
   "id": "0ca9db1b-a0be-4014-a23f-ebceb9c81ad2",
   "metadata": {},
   "outputs": [
    {
     "data": {
      "text/latex": [
       "$\\displaystyle \\text{imaginary numbers rule:} \\: e^{i \\cdot \\pi \\cdot x} = (-1)^x$"
      ],
      "text/plain": [
       "<IPython.core.display.Math object>"
      ]
     },
     "metadata": {},
     "output_type": "display_data"
    },
    {
     "data": {
      "text/latex": [
       "$\\displaystyle e^{i \\cdot \\pi} = e^{i \\cdot \\pi \\cdot 1} = (-1)^1 = -1$"
      ],
      "text/plain": [
       "<IPython.core.display.Math object>"
      ]
     },
     "metadata": {},
     "output_type": "display_data"
    },
    {
     "data": {
      "text/latex": [
       "$\\displaystyle r = 1$"
      ],
      "text/plain": [
       "<IPython.core.display.Math object>"
      ]
     },
     "metadata": {},
     "output_type": "display_data"
    },
    {
     "data": {
      "text/latex": [
       "$\\displaystyle \\theta = \\pi$"
      ],
      "text/plain": [
       "<IPython.core.display.Math object>"
      ]
     },
     "metadata": {},
     "output_type": "display_data"
    },
    {
     "data": {
      "text/latex": [
       "$\\displaystyle c = re^{i\\theta} = 1 \\cdot e^{i \\cdot \\pi} = 1 \\cdot -1 = -1 = -1 + i \\cdot 0$"
      ],
      "text/plain": [
       "<IPython.core.display.Math object>"
      ]
     },
     "metadata": {},
     "output_type": "display_data"
    }
   ],
   "source": [
    "display( Math('\\\\text{imaginary numbers rule:} \\\\: e^{i \\\\cdot \\\\pi \\\\cdot x} = (-1)^x') )\n",
    "display( Math('e^{i \\\\cdot \\\\pi} = e^{i \\\\cdot \\\\pi \\\\cdot 1} = (-1)^1 = -1') )\n",
    "\n",
    "display( Math('r = 1') )\n",
    "display( Math('\\\\theta = \\\\pi') )\n",
    "display( Math('c = re^{i\\\\theta} = 1 \\\\cdot e^{i \\\\cdot \\\\pi} = 1 \\\\cdot -1 = -1 = -1 + i \\\\cdot 0') )"
   ]
  },
  {
   "cell_type": "code",
   "execution_count": 104,
   "id": "ddef3bb0-eb56-4982-b0d7-46c579fe75d4",
   "metadata": {},
   "outputs": [
    {
     "data": {
      "text/latex": [
       "$\\displaystyle \\text{Validate using Pythagorean theorem:  } c = \\sqrt{a^2 + b^2 }$"
      ],
      "text/plain": [
       "<IPython.core.display.Math object>"
      ]
     },
     "metadata": {},
     "output_type": "display_data"
    },
    {
     "data": {
      "text/latex": [
       "$\\displaystyle r = \\sqrt{ (r \\cdot 𝑐𝑜𝑠\\theta)^2 + (r \\cdot sin\\theta)^2} = (1 \\cdot 𝑐𝑜𝑠(\\pi))^2 + (1 \\cdot sin(\\pi))^2 = (1 \\cdot (-1))^2 + (1 \\cdot 0)^2 = 1$"
      ],
      "text/plain": [
       "<IPython.core.display.Math object>"
      ]
     },
     "metadata": {},
     "output_type": "display_data"
    }
   ],
   "source": [
    "display( Math('\\\\text{Validate using Pythagorean theorem:  } c = \\\\sqrt{a^2 + b^2 }') )\n",
    "display( Math('r = \\\\sqrt{ (r \\\\cdot 𝑐𝑜𝑠\\\\theta)^2 + (r \\\\cdot sin\\\\theta)^2} = (1 \\\\cdot 𝑐𝑜𝑠(\\\\pi))^2 + (1 \\\\cdot sin(\\\\pi))^2 = (1 \\\\cdot (-1))^2 + (1 \\\\cdot 0)^2 = 1' ) )"
   ]
  },
  {
   "cell_type": "code",
   "execution_count": 105,
   "id": "6388f50d-6c28-4bee-9040-eb4bd54030e7",
   "metadata": {},
   "outputs": [
    {
     "data": {
      "image/png": "[encoded data removed]",
      "text/plain": [
       "<Figure size 640x480 with 1 Axes>"
      ]
     },
     "metadata": {},
     "output_type": "display_data"
    }
   ],
   "source": [
    "z=[0+ (-1j)]  # 𝜃 = 3𝜋/2\n",
    "\n",
    "center = (0, 0)\n",
    "p1 = [(0, 0), (1, 1)]\n",
    "p2 = [(0, 0), (1, 1)]\n",
    "angle_size= 35\n",
    "\n",
    "complex_plane2(z,p1,p2,angle_size,center,axis_type=1,angle_position=\"edge\")\n",
    "        \n",
    "plt.ylabel('Imaginary')\n",
    "plt.xlabel('Real')\n",
    "\n",
    "plt.text(0.5,0.02,'r')\n",
    "plt.text(0.02,-0.95,'c')\n",
    "plt.show()"
   ]
  },
  {
   "cell_type": "code",
   "execution_count": 106,
   "id": "e5ffdb27-4bfa-4dc9-8847-ec4d335d54e3",
   "metadata": {},
   "outputs": [
    {
     "data": {
      "text/latex": [
       "$\\displaystyle r = 1$"
      ],
      "text/plain": [
       "<IPython.core.display.Math object>"
      ]
     },
     "metadata": {},
     "output_type": "display_data"
    },
    {
     "data": {
      "text/latex": [
       "$\\displaystyle \\theta = 3\\frac{\\pi}{2}$"
      ],
      "text/plain": [
       "<IPython.core.display.Math object>"
      ]
     },
     "metadata": {},
     "output_type": "display_data"
    },
    {
     "data": {
      "text/latex": [
       "$\\displaystyle 𝑐𝑜𝑠\\theta = 𝑐𝑜𝑠(3\\frac{\\pi}{2}) = 0$"
      ],
      "text/plain": [
       "<IPython.core.display.Math object>"
      ]
     },
     "metadata": {},
     "output_type": "display_data"
    },
    {
     "data": {
      "text/latex": [
       "$\\displaystyle sin\\theta = sin(3\\frac{\\pi}{2}) = -1$"
      ],
      "text/plain": [
       "<IPython.core.display.Math object>"
      ]
     },
     "metadata": {},
     "output_type": "display_data"
    }
   ],
   "source": [
    "display( Math('r = 1') )\n",
    "display( Math('\\\\theta = 3\\\\frac{\\\\pi}{2}') )\n",
    "display( Math('𝑐𝑜𝑠\\\\theta = 𝑐𝑜𝑠(3\\\\frac{\\\\pi}{2}) = 0') )\n",
    "display( Math('sin\\\\theta = sin(3\\\\frac{\\\\pi}{2}) = -1') )"
   ]
  },
  {
   "cell_type": "code",
   "execution_count": 107,
   "id": "e640c9ac-ab75-42d4-96bd-77caf5a753d9",
   "metadata": {},
   "outputs": [
    {
     "data": {
      "text/latex": [
       "$\\displaystyle e^{i \\cdot \\frac {3 \\cdot \\pi}{2}} = 𝑐𝑜𝑠(3\\frac{\\pi}{2}) + i \\cdot sin(3\\frac{\\pi}{2}) = 0 + i\\cdot(-1) = -i$"
      ],
      "text/plain": [
       "<IPython.core.display.Math object>"
      ]
     },
     "metadata": {},
     "output_type": "display_data"
    }
   ],
   "source": [
    "display( Math('e^{i \\\\cdot \\\\frac {3 \\\\cdot \\\\pi}{2}} = 𝑐𝑜𝑠(3\\\\frac{\\\\pi}{2}) + i \\\\cdot sin(3\\\\frac{\\\\pi}{2}) = 0 + i\\\\cdot(-1) = -i') )"
   ]
  },
  {
   "cell_type": "code",
   "execution_count": 108,
   "id": "0bc16267-8307-4f63-a64f-823e87ab9f4e",
   "metadata": {},
   "outputs": [
    {
     "data": {
      "text/latex": [
       "$\\displaystyle r = 1$"
      ],
      "text/plain": [
       "<IPython.core.display.Math object>"
      ]
     },
     "metadata": {},
     "output_type": "display_data"
    },
    {
     "data": {
      "text/latex": [
       "$\\displaystyle \\theta = \\frac {3 \\cdot \\pi}{2}$"
      ],
      "text/plain": [
       "<IPython.core.display.Math object>"
      ]
     },
     "metadata": {},
     "output_type": "display_data"
    },
    {
     "data": {
      "text/latex": [
       "$\\displaystyle c = re^{i\\theta} = 1 \\cdot e^{i \\cdot \\frac {3 \\cdot \\pi}{2}} = 1 \\cdot -i = -i = 0 + i \\cdot -1$"
      ],
      "text/plain": [
       "<IPython.core.display.Math object>"
      ]
     },
     "metadata": {},
     "output_type": "display_data"
    }
   ],
   "source": [
    "display( Math('r = 1') )\n",
    "display( Math('\\\\theta = \\\\frac {3 \\\\cdot \\\\pi}{2}') )\n",
    "display( Math('c = re^{i\\\\theta} = 1 \\\\cdot e^{i \\\\cdot \\\\frac {3 \\\\cdot \\\\pi}{2}} = 1 \\\\cdot -i = -i = 0 + i \\\\cdot -1') )"
   ]
  },
  {
   "cell_type": "markdown",
   "id": "21caf4b0-af75-4610-9024-9e8302f5b24b",
   "metadata": {},
   "source": [
    "### Complex conjugate"
   ]
  },
  {
   "cell_type": "code",
   "execution_count": 109,
   "id": "a6db7527-0036-4899-9ab1-86304c15fc19",
   "metadata": {},
   "outputs": [
    {
     "data": {
      "text/latex": [
       "$\\displaystyle \\text{complex conjugate operation:} \\quad i \\: \\longrightarrow \\: (-1) \\cdot i$"
      ],
      "text/plain": [
       "<IPython.core.display.Math object>"
      ]
     },
     "metadata": {},
     "output_type": "display_data"
    }
   ],
   "source": [
    "display( Math('\\\\text{complex conjugate operation:} \\\\quad i \\\\: \\\\longrightarrow \\\\: (-1) \\\\cdot i') )"
   ]
  },
  {
   "cell_type": "code",
   "execution_count": 110,
   "id": "d74bd0c1-b9b1-4c2e-9e30-62f25a1ca8e7",
   "metadata": {},
   "outputs": [
    {
     "data": {
      "text/latex": [
       "$\\displaystyle a,b \\in \\mathbb{R}$"
      ],
      "text/plain": [
       "<IPython.core.display.Math object>"
      ]
     },
     "metadata": {},
     "output_type": "display_data"
    },
    {
     "data": {
      "text/latex": [
       "$\\displaystyle c \\in \\mathbb{C}$"
      ],
      "text/plain": [
       "<IPython.core.display.Math object>"
      ]
     },
     "metadata": {},
     "output_type": "display_data"
    },
    {
     "data": {
      "text/latex": [
       "$\\displaystyle c = a+i \\cdot b$"
      ],
      "text/plain": [
       "<IPython.core.display.Math object>"
      ]
     },
     "metadata": {},
     "output_type": "display_data"
    },
    {
     "data": {
      "text/latex": [
       "$\\displaystyle c^* = a-i \\cdot b$"
      ],
      "text/plain": [
       "<IPython.core.display.Math object>"
      ]
     },
     "metadata": {},
     "output_type": "display_data"
    }
   ],
   "source": [
    "display( Math('a,b \\\\in \\\\mathbb{R}') )\n",
    "display( Math('c \\\\in \\\\mathbb{C}') )\n",
    "display( Math('c = a+i \\\\cdot b') )\n",
    "display( Math('c^* = a-i \\\\cdot b') )"
   ]
  },
  {
   "cell_type": "code",
   "execution_count": 111,
   "id": "7c3507e1-cc78-4c9c-a243-c7c99f47c9e1",
   "metadata": {},
   "outputs": [
    {
     "data": {
      "text/latex": [
       "$\\displaystyle c = re^{i\\theta}$"
      ],
      "text/plain": [
       "<IPython.core.display.Math object>"
      ]
     },
     "metadata": {},
     "output_type": "display_data"
    },
    {
     "data": {
      "text/latex": [
       "$\\displaystyle c^* = re^{-i\\theta}$"
      ],
      "text/plain": [
       "<IPython.core.display.Math object>"
      ]
     },
     "metadata": {},
     "output_type": "display_data"
    }
   ],
   "source": [
    "display( Math('c = re^{i\\\\theta}') )\n",
    "display( Math('c^* = re^{-i\\\\theta}') )"
   ]
  },
  {
   "cell_type": "markdown",
   "id": "c0661618-cdf5-4866-96ae-38f03475227c",
   "metadata": {},
   "source": [
    "### Magnitude of a complex number\n",
    "Magnitude represents length or size, and should be a Real non-negative number."
   ]
  },
  {
   "cell_type": "code",
   "execution_count": 112,
   "id": "f373e3f1-a288-4d06-8ba5-89e62faa13f7",
   "metadata": {},
   "outputs": [
    {
     "data": {
      "text/latex": [
       "$\\displaystyle \\text{Magnitude of a real number: }$"
      ],
      "text/plain": [
       "<IPython.core.display.Math object>"
      ]
     },
     "metadata": {},
     "output_type": "display_data"
    },
    {
     "data": {
      "text/latex": [
       "$\\displaystyle r \\in \\mathbb{R} \\rightarrow |r| \\in \\mathbb{R^+}$"
      ],
      "text/plain": [
       "<IPython.core.display.Math object>"
      ]
     },
     "metadata": {},
     "output_type": "display_data"
    },
    {
     "data": {
      "text/latex": [
       "$\\displaystyle |r| = \\sqrt{r^2}$"
      ],
      "text/plain": [
       "<IPython.core.display.Math object>"
      ]
     },
     "metadata": {},
     "output_type": "display_data"
    }
   ],
   "source": [
    "display( Math('\\\\text{Magnitude of a real number: }') )\n",
    "display( Math('r \\\\in \\\\mathbb{R} \\\\rightarrow |r| \\\\in \\\\mathbb{R^+}') )\n",
    "display( Math('|r| = \\\\sqrt{r^2}') )"
   ]
  },
  {
   "cell_type": "markdown",
   "id": "704a6cce-ace9-4252-a7eb-3d55657839fa",
   "metadata": {},
   "source": [
    "Magnitude should be a Real non-negative number."
   ]
  },
  {
   "cell_type": "code",
   "execution_count": 113,
   "id": "b27cdefa-3636-4528-9329-13c0ed87b637",
   "metadata": {},
   "outputs": [
    {
     "data": {
      "text/latex": [
       "$\\displaystyle \\text{Magnitude of a complex number should also be a Real non-negative number: }$"
      ],
      "text/plain": [
       "<IPython.core.display.Math object>"
      ]
     },
     "metadata": {},
     "output_type": "display_data"
    },
    {
     "data": {
      "text/latex": [
       "$\\displaystyle c \\in \\mathbb{C} \\rightarrow |c| \\in \\mathbb{R^+}$"
      ],
      "text/plain": [
       "<IPython.core.display.Math object>"
      ]
     },
     "metadata": {},
     "output_type": "display_data"
    },
    {
     "data": {
      "text/latex": [
       "$\\displaystyle |c| = \\sqrt{c \\cdot c^*}$"
      ],
      "text/plain": [
       "<IPython.core.display.Math object>"
      ]
     },
     "metadata": {},
     "output_type": "display_data"
    },
    {
     "data": {
      "text/latex": [
       "$\\displaystyle |c|^2 = c \\cdot c^*$"
      ],
      "text/plain": [
       "<IPython.core.display.Math object>"
      ]
     },
     "metadata": {},
     "output_type": "display_data"
    },
    {
     "data": {
      "text/latex": [
       "$\\displaystyle c \\cdot c^* = (a + i \\cdot b)(a - i \\cdot b) = a^2 - i^2 \\cdot b^2 = a^2 - (-1) \\cdot b^2 = a^2 + b^2$"
      ],
      "text/plain": [
       "<IPython.core.display.Math object>"
      ]
     },
     "metadata": {},
     "output_type": "display_data"
    },
    {
     "data": {
      "text/latex": [
       "$\\displaystyle \\{a^2 + b^2\\} \\in \\mathbb{R} \\text{ non-negative}$"
      ],
      "text/plain": [
       "<IPython.core.display.Math object>"
      ]
     },
     "metadata": {},
     "output_type": "display_data"
    }
   ],
   "source": [
    "display( Math('\\\\text{Magnitude of a complex number should also be a Real non-negative number: }') )\n",
    "display( Math('c \\\\in \\\\mathbb{C} \\\\rightarrow |c| \\\\in \\\\mathbb{R^+}') )\n",
    "display( Math('|c| = \\\\sqrt{c \\\\cdot c^*}') )\n",
    "display( Math('|c|^2 = c \\\\cdot c^*') )\n",
    "display( Math('c \\\\cdot c^* = (a + i \\\\cdot b)(a - i \\\\cdot b) = a^2 - i^2 \\\\cdot b^2 = a^2 - (-1) \\\n",
    "\\\\cdot b^2 = a^2 + b^2') )\n",
    "display( Math('\\{a^2 + b^2\\} \\\\in \\\\mathbb{R} \\\\text{ non-negative}') )"
   ]
  },
  {
   "cell_type": "markdown",
   "id": "35abe22c-2eca-4201-be22-114935d4222c",
   "metadata": {},
   "source": [
    "##### Example:"
   ]
  },
  {
   "cell_type": "code",
   "execution_count": 114,
   "id": "98697ed8-d0a1-462f-93f8-ac76ccbd7b46",
   "metadata": {},
   "outputs": [
    {
     "data": {
      "text/latex": [
       "$\\displaystyle c = 3 + 4i$"
      ],
      "text/plain": [
       "<IPython.core.display.Math object>"
      ]
     },
     "metadata": {},
     "output_type": "display_data"
    },
    {
     "data": {
      "text/latex": [
       "$\\displaystyle |c| = \\sqrt{c \\cdot c^*} = \\sqrt{(3+4i)(3-4i)} = \\sqrt{9-12i + 12i - 16i^2} = \\sqrt{9 - (16i^2)} = \\sqrt{9 - (-16)} = \\sqrt{25} = 5$"
      ],
      "text/plain": [
       "<IPython.core.display.Math object>"
      ]
     },
     "metadata": {},
     "output_type": "display_data"
    },
    {
     "data": {
      "text/latex": [
       "$\\displaystyle |c|^2 = c \\cdot c^* = a^2 + b^2 = 3^2 + 4^2 = 25$"
      ],
      "text/plain": [
       "<IPython.core.display.Math object>"
      ]
     },
     "metadata": {},
     "output_type": "display_data"
    }
   ],
   "source": [
    "display( Math('c = 3 + 4i') )\n",
    "display( Math('|c| = \\\\sqrt{c \\\\cdot c^*} = \\\\sqrt{(3+4i)(3-4i)} = \\\\sqrt{9-12i + 12i - 16i^2} = \\\\sqrt{9 - (16i^2)} = \\\\sqrt{9 - (-16)} = \\\\sqrt{25} = 5') )\n",
    "display( Math('|c|^2 = c \\\\cdot c^* = a^2 + b^2 = 3^2 + 4^2 = 25') )"
   ]
  },
  {
   "cell_type": "code",
   "execution_count": 115,
   "id": "4d6dcdb7-0fee-40dc-b87f-1c337c5aac69",
   "metadata": {},
   "outputs": [
    {
     "data": {
      "image/png": "[encoded data removed]",
      "text/plain": [
       "<Figure size 640x480 with 1 Axes>"
      ]
     },
     "metadata": {},
     "output_type": "display_data"
    }
   ],
   "source": [
    "import matplotlib.pyplot as plt\n",
    "import numpy as np # dodamo še numerično knjižico \n",
    "get_ipython().run_line_magic('matplotlib', 'inline')\n",
    "\n",
    "# params for complex_plane2 func\n",
    "z=[0.866+0.5j] # 𝜃 = 30\n",
    "\n",
    "# params for AngleAnnotation func\n",
    "center = (0, 0)\n",
    "p1 = [(0, 0), (0, 0)]\n",
    "p2 = [(0, 0), (0.3, 0.18)]\n",
    "angle_size= 95\n",
    "\n",
    "complex_plane2(z,p1,p2,angle_size,center,axis_type=1,angle_position=\"edge\")\n",
    "        \n",
    "plt.ylabel('Imaginary')\n",
    "plt.xlabel('Real')\n",
    "\n",
    "plt.text(0.45,0.3,'r')\n",
    "plt.text(0.85,0.52,'c')\n",
    "plt.show()"
   ]
  },
  {
   "cell_type": "markdown",
   "id": "dec9ca93-92f3-419c-9a45-175bbb968047",
   "metadata": {},
   "source": [
    "The magnitude of a vector *c* is *r* which is the length of the *c* vector."
   ]
  },
  {
   "cell_type": "code",
   "execution_count": 116,
   "id": "72a8d546-f3fc-482f-9f20-820df2c976b1",
   "metadata": {},
   "outputs": [
    {
     "data": {
      "text/latex": [
       "$\\displaystyle |c| = \\sqrt{c \\cdot c^*}$"
      ],
      "text/plain": [
       "<IPython.core.display.Math object>"
      ]
     },
     "metadata": {},
     "output_type": "display_data"
    },
    {
     "data": {
      "text/latex": [
       "$\\displaystyle c = re^{i\\theta}$"
      ],
      "text/plain": [
       "<IPython.core.display.Math object>"
      ]
     },
     "metadata": {},
     "output_type": "display_data"
    },
    {
     "data": {
      "text/latex": [
       "$\\displaystyle c^* = re^{-i\\theta}$"
      ],
      "text/plain": [
       "<IPython.core.display.Math object>"
      ]
     },
     "metadata": {},
     "output_type": "display_data"
    },
    {
     "data": {
      "text/latex": [
       "$\\displaystyle |c| = |re^{i\\theta}| = \\sqrt{re^{i\\theta} \\cdot re^{-i\\theta}} = \\sqrt{r^2e^{i(\\theta - \\theta)}} = \\sqrt{r^2e^{i \\cdot 0}} = \\sqrt{r^2} = |r|$"
      ],
      "text/plain": [
       "<IPython.core.display.Math object>"
      ]
     },
     "metadata": {},
     "output_type": "display_data"
    }
   ],
   "source": [
    "display( Math('|c| = \\\\sqrt{c \\\\cdot c^*}') )\n",
    "display( Math('c = re^{i\\\\theta}') )\n",
    "display( Math('c^* = re^{-i\\\\theta}') )\n",
    "display( Math('|c| = |re^{i\\\\theta}| = \\\\sqrt{re^{i\\\\theta} \\\\cdot re^{-i\\\\theta}} = \\\n",
    "\\\\sqrt{r^2e^{i(\\\\theta - \\\\theta)}} = \\\\sqrt{r^2e^{i \\\\cdot 0}} = \\\\sqrt{r^2} = |r|') )"
   ]
  },
  {
   "cell_type": "markdown",
   "id": "b9c09ff4-fc0b-4165-9d34-8978de9602b5",
   "metadata": {},
   "source": [
    "## Dirac notation"
   ]
  },
  {
   "cell_type": "code",
   "execution_count": 117,
   "id": "cfc16faa-d65a-41c6-b0ea-7394c0d9bfd6",
   "metadata": {},
   "outputs": [
    {
     "data": {
      "text/latex": [
       "$\\displaystyle | \\psi \\rangle \\: , \\: \\langle \\psi |$"
      ],
      "text/plain": [
       "<IPython.core.display.Math object>"
      ]
     },
     "metadata": {},
     "output_type": "display_data"
    }
   ],
   "source": [
    "display( Math('| \\\\psi \\\\rangle \\\\: , \\\\: \\langle \\\\psi |') )"
   ]
  },
  {
   "cell_type": "code",
   "execution_count": 118,
   "id": "e9e401f6-c6b1-4669-9c21-336188676a50",
   "metadata": {},
   "outputs": [
    {
     "data": {
      "text/latex": [
       "$\\displaystyle | \\psi \\rangle \\text{  - ket, represents a column vector } $"
      ],
      "text/plain": [
       "<IPython.core.display.Math object>"
      ]
     },
     "metadata": {},
     "output_type": "display_data"
    },
    {
     "data": {
      "text/latex": [
       "$\\displaystyle | \\psi \\rangle = \\left[\\begin{matrix}𝜓_{1}\\\\𝜓_{2}\\\\𝜓_{3}\\\\𝜓_{d}\\end{matrix}\\right]\\in \\mathbb{C^d}$"
      ],
      "text/plain": [
       "<IPython.core.display.Math object>"
      ]
     },
     "metadata": {},
     "output_type": "display_data"
    }
   ],
   "source": [
    "v= np.array(['𝜓_1','𝜓_2','𝜓_3','𝜓_d'])\n",
    "display( Math('| \\\\psi \\\\rangle \\\\text{  - ket, represents a column vector } ') )\n",
    "v.shape = (4,1)\n",
    "display( Math('| \\\\psi \\\\rangle = ' + sym.latex(sym.sympify(v)) + '\\\\in \\\\mathbb{C^d}') )"
   ]
  },
  {
   "cell_type": "code",
   "execution_count": 119,
   "id": "65a90fb6-6fc7-44e8-89e3-6603bdceff52",
   "metadata": {},
   "outputs": [
    {
     "data": {
      "text/latex": [
       "$\\displaystyle \\langle \\psi | \\text{  - bra, represents a row vector } $"
      ],
      "text/plain": [
       "<IPython.core.display.Math object>"
      ]
     },
     "metadata": {},
     "output_type": "display_data"
    },
    {
     "data": {
      "text/latex": [
       "$\\displaystyle \\langle \\psi | = \\left[\\left[\\begin{matrix}𝜓_{1} & 𝜓_{2} & 𝜓_{3} & 𝜓_{d}\\end{matrix}\\right]\\right]\\in \\mathbb{C^d}$"
      ],
      "text/plain": [
       "<IPython.core.display.Math object>"
      ]
     },
     "metadata": {},
     "output_type": "display_data"
    }
   ],
   "source": [
    "display( Math('\\langle \\\\psi | \\\\text{  - bra, represents a row vector } ') )\n",
    "v.shape = (1,4)\n",
    "display( Math('\\langle \\\\psi | = ' + sym.latex(sym.sympify(v)) + '\\\\in \\\\mathbb{C^d}') )"
   ]
  },
  {
   "cell_type": "code",
   "execution_count": 120,
   "id": "9a1e59eb",
   "metadata": {},
   "outputs": [
    {
     "data": {
      "text/latex": [
       "$\\displaystyle | 0 \\rangle = \\left[\\begin{matrix}1\\\\0\\\\0\\\\0\\\\0\\end{matrix}\\right]\\in \\mathbb{C^d} \\quad \\quad | 1 \\rangle = \\left[\\begin{matrix}0\\\\1\\\\0\\\\0\\\\0\\end{matrix}\\right]\\in \\mathbb{C^d} \\quad \\quad | d-1 \\rangle = \\left[\\begin{matrix}0\\\\0\\\\0\\\\0\\\\1\\end{matrix}\\right]\\in \\mathbb{C^d}$"
      ],
      "text/plain": [
       "<IPython.core.display.Math object>"
      ]
     },
     "metadata": {},
     "output_type": "display_data"
    }
   ],
   "source": [
    "v0= np.array([1,0,0,0,0])\n",
    "v1= np.array([0,1,0,0,0])\n",
    "vd= np.array([0,0,0,0,1])\n",
    "v0.shape = (5,1)\n",
    "v1.shape = (5,1)\n",
    "vd.shape = (5,1)\n",
    "display( Math('| 0 \\\\rangle = ' + sym.latex(sym.sympify(v0)) + '\\\\in \\\\mathbb{C^d} \\\\quad \\\\quad \\\n",
    "| 1 \\\\rangle = ' + sym.latex(sym.sympify(v1)) + '\\\\in \\\\mathbb{C^d} \\\\quad \\\\quad \\\n",
    "| d-1 \\\\rangle = ' + sym.latex(sym.sympify(vd)) + '\\\\in \\\\mathbb{C^d}') )"
   ]
  },
  {
   "cell_type": "markdown",
   "id": "926e4395-b266-48dd-ab0a-a42c001ce3cc",
   "metadata": {},
   "source": [
    "## Conjugate Transpose"
   ]
  },
  {
   "cell_type": "markdown",
   "id": "1aadf19e",
   "metadata": {},
   "source": [
    "Congugate transpose of a matrix or a vector: \n",
    "1. Perfrom complex congugate (star) on each of the entries in the matrix (vector)\n",
    "2. Transpose the whole matrix (vector): flip the matrix (vector) about its diagonal.  \n",
    "Transpose of a column vector results in a row vector and vice versa."
   ]
  },
  {
   "cell_type": "code",
   "execution_count": 121,
   "id": "a36747dd-8c24-4579-9826-b29828f68861",
   "metadata": {},
   "outputs": [
    {
     "data": {
      "text/latex": [
       "$\\displaystyle \\big| \\psi \\rangle = \\left[\\begin{matrix}𝜓_{1}\\\\𝜓_{2}\\\\𝜓_{3}\\\\𝜓_{d}\\end{matrix}\\right]\\in \\mathbb{C^d}$"
      ],
      "text/plain": [
       "<IPython.core.display.Math object>"
      ]
     },
     "metadata": {},
     "output_type": "display_data"
    },
    {
     "data": {
      "text/latex": [
       "$\\displaystyle (\\; \\big| \\psi \\rangle ^*)^T = \\langle \\psi \\big| = [𝜓_1^* \\; 𝜓_2^* \\; 𝜓_3^* \\; 𝜓_4^* \\: ... \\: 𝜓_d^*] $"
      ],
      "text/plain": [
       "<IPython.core.display.Math object>"
      ]
     },
     "metadata": {},
     "output_type": "display_data"
    }
   ],
   "source": [
    "v= np.array(['𝜓_1','𝜓_2','𝜓_3','𝜓_d'])\n",
    "v.shape = (4,1)\n",
    "display( Math('\\\\big| \\\\psi \\\\rangle = ' + sym.latex(sym.sympify(v)) + '\\\\in \\\\mathbb{C^d}') )\n",
    "\n",
    "v_ct= np.array(['𝜓_1^*','𝜓_2^*','𝜓_3^*','𝜓_d^*'])\n",
    "display( Math('(\\\\; \\\\big| \\\\psi \\\\rangle ^*)^T = \\langle \\\\psi \\\\big| = [𝜓_1^* \\\\; 𝜓_2^* \\\\; 𝜓_3^* \\\\; 𝜓_4^* \\\\: ... \\\\: 𝜓_d^*] '))"
   ]
  },
  {
   "cell_type": "markdown",
   "id": "59737235-0487-475a-9c89-966cb63d6c0c",
   "metadata": {},
   "source": [
    "## Inner product\n",
    "#### How similar two vectors are\n",
    "An inner product of two vectors is the overlap between the two vectors (the projection of one onto the other)."
   ]
  },
  {
   "cell_type": "code",
   "execution_count": 122,
   "id": "0479274f-4e3d-49ba-9947-2f22c2556410",
   "metadata": {},
   "outputs": [
    {
     "data": {
      "text/latex": [
       "$\\displaystyle \\langle \\psi | \\theta \\rangle = \\sum_{i=1}^{d} (\\psi_i^*) \\cdot \\theta_i =                 [𝜓_1^* \\; 𝜓_2^* \\; 𝜓_3^* \\; 𝜓_4^* \\: ... \\: 𝜓_d^*] \\cdot\\left[\\begin{matrix}𝜃_{1}\\\\𝜃_{2}\\\\𝜃_{3}\\\\𝜃_{d}\\end{matrix}\\right] = c \\in \\mathbb{C}$"
      ],
      "text/plain": [
       "<IPython.core.display.Math object>"
      ]
     },
     "metadata": {},
     "output_type": "display_data"
    }
   ],
   "source": [
    "v_theta= np.array(['𝜃_1','𝜃_2','𝜃_3','𝜃_d'])\n",
    "v_theta.shape = (4,1)\n",
    "display( Math('\\langle \\\\psi | \\\\theta \\\\rangle = \\sum_{i=1}^{d} (\\\\psi_i^*) \\\\cdot \\\\theta_i = \\\n",
    "                [𝜓_1^* \\\\; 𝜓_2^* \\\\; 𝜓_3^* \\\\; 𝜓_4^* \\\\: ... \\\\: 𝜓_d^*] \\\\cdot'\\\n",
    "                + sym.latex(sym.sympify(v_theta)) + ' = c \\\\in \\\\mathbb{C}') )"
   ]
  },
  {
   "cell_type": "code",
   "execution_count": 123,
   "id": "611e7dcc-1928-4cce-9b2a-8e5b4e71d5a6",
   "metadata": {},
   "outputs": [
    {
     "data": {
      "text/latex": [
       "$\\displaystyle \\langle \\psi | \\theta \\rangle = \\langle \\theta | \\psi \\rangle^*$"
      ],
      "text/plain": [
       "<IPython.core.display.Math object>"
      ]
     },
     "metadata": {},
     "output_type": "display_data"
    },
    {
     "data": {
      "text/latex": [
       "$\\displaystyle \\langle \\psi | \\theta \\rangle \\in \\mathbb{C}$"
      ],
      "text/plain": [
       "<IPython.core.display.Math object>"
      ]
     },
     "metadata": {},
     "output_type": "display_data"
    },
    {
     "data": {
      "text/latex": [
       "$\\displaystyle \\langle \\theta | \\psi \\rangle^* \\in \\mathbb{C}$"
      ],
      "text/plain": [
       "<IPython.core.display.Math object>"
      ]
     },
     "metadata": {},
     "output_type": "display_data"
    }
   ],
   "source": [
    "display( Math('\\langle \\\\psi | \\\\theta \\\\rangle = \\langle \\\\theta | \\\\psi \\\\rangle^*') )\n",
    "display( Math('\\langle \\\\psi | \\\\theta \\\\rangle \\\\in \\\\mathbb{C}') )\n",
    "display( Math('\\langle \\\\theta | \\\\psi \\\\rangle^* \\\\in \\\\mathbb{C}') )"
   ]
  },
  {
   "cell_type": "code",
   "execution_count": 124,
   "id": "cc58d044-0d51-4138-885a-681c0fbb31e2",
   "metadata": {},
   "outputs": [
    {
     "data": {
      "image/png": "[encoded data removed]",
      "text/plain": [
       "<Figure size 640x480 with 1 Axes>"
      ]
     },
     "metadata": {},
     "output_type": "display_data"
    }
   ],
   "source": [
    "z2=[1+0j,0.7071 + 0.7071j, 0.7 + 0.0j] # 0, 𝜋/4\n",
    "complex_plane2(z2, axis_type=1)\n",
    "\n",
    "plt.text(0.7,0.73,'c1')\n",
    "plt.text(0.9,0.06,'c2')\n",
    "plt.text(0.65,0.06,'v')\n",
    "plt.text(0.05,-0.2,'v is the inner product \\n of C1 and C2')\n",
    "plt.show()"
   ]
  },
  {
   "cell_type": "markdown",
   "id": "24f6b20a",
   "metadata": {},
   "source": [
    "The Inner product (v) is the measurement of the overlap of these two vectors (c1 and c2).  \n",
    "This is the projection of c1 onto c2.  \n",
    "Measures how close, or similar, the two vectors are.   "
   ]
  },
  {
   "cell_type": "markdown",
   "id": "20f8371f-619e-4694-8d5b-95fc4f993216",
   "metadata": {},
   "source": [
    "## Euclidean norm\n",
    "#### Length of a vector\n",
    "The overlap of a vector with itself, a non negative real number."
   ]
  },
  {
   "cell_type": "code",
   "execution_count": 125,
   "id": "58fc536e-04aa-45c1-80ac-e700988023bf",
   "metadata": {},
   "outputs": [
    {
     "data": {
      "text/latex": [
       "$\\displaystyle \\text{As we computed the length of a complex number: }|c| = \\sqrt{c \\cdot c^*}$"
      ],
      "text/plain": [
       "<IPython.core.display.Math object>"
      ]
     },
     "metadata": {},
     "output_type": "display_data"
    }
   ],
   "source": [
    "display( Math('\\\\text{As we computed the length of a complex number: }|c| = \\\\sqrt{c \\\\cdot c^*}') )"
   ]
  },
  {
   "cell_type": "markdown",
   "id": "94e929f3",
   "metadata": {},
   "source": [
    "To get the magnitude of complex numbers, we multiply the complex number with its complex conjugate and take the square-root (to get rid of the square).  \n",
    "To get the magnitude of a vector we do the same thing: we multiply the vector with its conjugate transpose and take the square-root.  \n",
    "The output is a non-negative Real number.  \n",
    "This is also called the 2-norm of a vector."
   ]
  },
  {
   "cell_type": "code",
   "execution_count": 126,
   "id": "380d41c5-78b2-43a9-8263-16e527cd99a8",
   "metadata": {},
   "outputs": [
    {
     "data": {
      "text/latex": [
       "$\\displaystyle \\big|\\big| \\: | \\psi \\rangle \\: \\big|\\big|_2 = \\sqrt {\\langle \\psi | \\psi \\rangle}$"
      ],
      "text/plain": [
       "<IPython.core.display.Math object>"
      ]
     },
     "metadata": {},
     "output_type": "display_data"
    }
   ],
   "source": [
    "display( Math('\\\\big|\\\\big| \\\\: | \\\\psi \\\\rangle \\\\: \\\\big|\\\\big|_2 = \\\\sqrt {\\langle \\\\psi | \\\\psi \\\\rangle}') )"
   ]
  },
  {
   "cell_type": "code",
   "execution_count": 127,
   "id": "b1816715-0ec9-46ee-b3bc-9789725ec4ea",
   "metadata": {},
   "outputs": [
    {
     "name": "stdout",
     "output_type": "stream",
     "text": [
      "\n",
      "Example using a unit vector:\n",
      "An inner product of a vector with itself (the overlap with itself).\n",
      "The norm (length) of a unit vector is 1.\n",
      "\n"
     ]
    },
    {
     "data": {
      "text/latex": [
       "$\\displaystyle \\frac {1}{\\sqrt{2}} \\text{ is a normalization factor}$"
      ],
      "text/plain": [
       "<IPython.core.display.Math object>"
      ]
     },
     "metadata": {},
     "output_type": "display_data"
    },
    {
     "data": {
      "text/latex": [
       "$\\displaystyle | \\psi \\rangle = \\frac {1}{\\sqrt{2}}\\left[\\begin{matrix}1\\\\i\\end{matrix}\\right]\\in \\mathbb{C^2}$"
      ],
      "text/plain": [
       "<IPython.core.display.Math object>"
      ]
     },
     "metadata": {},
     "output_type": "display_data"
    },
    {
     "data": {
      "text/latex": [
       "$\\displaystyle \\langle \\psi | = (| \\psi \\rangle^*)^T = \\frac {1}{\\sqrt{2}}\\left[\\left[\\begin{matrix}1 & - i\\end{matrix}\\right]\\right]\\in \\mathbb{C^2}$"
      ],
      "text/plain": [
       "<IPython.core.display.Math object>"
      ]
     },
     "metadata": {},
     "output_type": "display_data"
    },
    {
     "data": {
      "text/latex": [
       "$\\displaystyle \\big|\\big| \\: | \\psi \\rangle \\: \\big|\\big|_2 = \\sqrt {\\langle \\psi | \\psi \\rangle} = \\sqrt {\\frac {1}{\\sqrt{2}}(\\left[\\left[\\begin{matrix}1 & - i\\end{matrix}\\right]\\right]) \\cdot \\frac {1}{\\sqrt{2}}(\\left[\\begin{matrix}1\\\\i\\end{matrix}\\right])}  = \\frac {1}{\\sqrt{2}} \\sqrt{1 + (-i)i} = \\frac {1}{\\sqrt{2}} \\sqrt{1 + (-(i^2)} = \\frac {1}{\\sqrt{2}} \\sqrt{1 + (-(-1)} =  \\frac {1}{\\sqrt{2}} \\sqrt{2} = 1$"
      ],
      "text/plain": [
       "<IPython.core.display.Math object>"
      ]
     },
     "metadata": {},
     "output_type": "display_data"
    }
   ],
   "source": [
    "print('\\nExample using a unit vector:\\nAn inner product of a vector with itself (the overlap with itself).')\n",
    "print('The norm (length) of a unit vector is 1.\\n')\n",
    "display( Math('\\\\frac {1}{\\\\sqrt{2}} \\\\text{ is a normalization factor}') )\n",
    "v3= np.array([1,'i'])\n",
    "v4= np.array([1,'-i'])\n",
    "\n",
    "v3.shape = (2,1)\n",
    "v4.shape = (1,2)\n",
    "\n",
    "display( Math('| \\\\psi \\\\rangle = \\\\frac {1}{\\\\sqrt{2}}' + sym.latex(sym.sympify(v3)) + '\\\\in \\\\mathbb{C^2}') )\n",
    "display( Math('\\\\langle \\\\psi | = (| \\\\psi \\\\rangle^*)^T = \\\\frac {1}{\\\\sqrt{2}}' + sym.latex(sym.sympify(v4)) + '\\\\in \\\\mathbb{C^2}') )\n",
    "\n",
    "display( Math('\\\\big|\\\\big| \\\\: | \\\\psi \\\\rangle \\\\: \\\\big|\\\\big|_2 = \\\\sqrt {\\langle \\\\psi | \\\\psi \\\\rangle} = \\\n",
    "\\\\sqrt {\\\\frac {1}{\\\\sqrt{2}}(' + sym.latex(sym.sympify(v4)) + ') \\\\cdot \\\\frac {1}{\\\\sqrt{2}}(' + sym.latex(sym.sympify(v3)) + ')} \\\n",
    " = \\\\frac {1}{\\\\sqrt{2}} \\\\sqrt{1 + (-i)i} = \\\\frac {1}{\\\\sqrt{2}} \\\\sqrt{1 + (-(i^2)} = \\\\frac {1}{\\\\sqrt{2}} \\\\sqrt{1 + (-(-1)} = \\\n",
    " \\\\frac {1}{\\\\sqrt{2}} \\\\sqrt{2} = 1') )"
   ]
  },
  {
   "cell_type": "markdown",
   "id": "d595afb6-4f61-4acf-a896-8ac4a23c5931",
   "metadata": {},
   "source": [
    "### Distance using Euclidean norm\n",
    "How well can we distinguish two quantum states (represented by vectors).  \n",
    "(e.g., when we want a state that represents a correct answer to be very distinguished than states that represent wrong answers)  \n",
    "40:00"
   ]
  },
  {
   "cell_type": "code",
   "execution_count": 128,
   "id": "787909d2-8d65-4995-a0cc-509fd547c09e",
   "metadata": {},
   "outputs": [
    {
     "data": {
      "text/latex": [
       "$\\displaystyle \\text{The Euclidean distance between}\\:| \\psi \\rangle , | \\theta \\rangle \\in \\mathbb{C^d} \\:\\: is \\:\\: \\big|\\big| \\: | \\psi \\rangle - | \\theta \\rangle \\: \\big|\\big|_2 \\in \\mathbb{C^d}$"
      ],
      "text/plain": [
       "<IPython.core.display.Math object>"
      ]
     },
     "metadata": {},
     "output_type": "display_data"
    }
   ],
   "source": [
    "display( Math('\\\\text{The Euclidean distance between}\\\\:| \\\\psi \\\\rangle , | \\\\theta \\\\rangle \\\\in \\\\mathbb{C^d} \\\\:\\\\: \\\n",
    "is \\\\:\\\\: \\\\big|\\\\big| \\\\: | \\\\psi \\\\rangle - | \\\\theta \\\\rangle \\\\: \\\\big|\\\\big|_2 \\\\in \\\\mathbb{C^d}') )"
   ]
  },
  {
   "cell_type": "markdown",
   "id": "fec45065",
   "metadata": {},
   "source": [
    "Euclidean norm properties:"
   ]
  },
  {
   "cell_type": "code",
   "execution_count": 129,
   "id": "eac1bd4a-6193-478f-9b36-55e62a7f4c5b",
   "metadata": {},
   "outputs": [
    {
     "data": {
      "text/latex": [
       "$\\displaystyle \\underline{\\text{1. Positive scalability:}}$"
      ],
      "text/plain": [
       "<IPython.core.display.Math object>"
      ]
     },
     "metadata": {},
     "output_type": "display_data"
    },
    {
     "data": {
      "text/latex": [
       "$\\displaystyle |ab| = |a|\\cdot|b|$"
      ],
      "text/plain": [
       "<IPython.core.display.Math object>"
      ]
     },
     "metadata": {},
     "output_type": "display_data"
    },
    {
     "data": {
      "text/latex": [
       "$\\displaystyle c \\in \\mathbb{C}$"
      ],
      "text/plain": [
       "<IPython.core.display.Math object>"
      ]
     },
     "metadata": {},
     "output_type": "display_data"
    },
    {
     "data": {
      "text/latex": [
       "$\\displaystyle \\big|\\big| \\: c \\cdot | \\psi \\rangle \\: \\big|\\big|_2 = |c| \\: \\cdot \\: \\big|\\big| \\: | \\psi \\rangle \\: \\big|\\big|_2$"
      ],
      "text/plain": [
       "<IPython.core.display.Math object>"
      ]
     },
     "metadata": {},
     "output_type": "display_data"
    }
   ],
   "source": [
    "display( Math('\\\\underline{\\\\text{1. Positive scalability:}}') )\n",
    "display( Math('|ab| = |a|\\\\cdot|b|') )\n",
    "display( Math('c \\\\in \\\\mathbb{C}') )\n",
    "display( Math('\\\\big|\\\\big| \\\\: c \\\\cdot | \\\\psi \\\\rangle \\\\: \\\\big|\\\\big|_2 = |c| \\\\: \\\\cdot \\\\: \\\n",
    "\\\\big|\\\\big| \\\\: | \\\\psi \\\\rangle \\\\: \\\\big|\\\\big|_2') )"
   ]
  },
  {
   "cell_type": "code",
   "execution_count": 130,
   "id": "2c974c13-98fb-4f41-8dd9-a0d8bd52efff",
   "metadata": {},
   "outputs": [
    {
     "data": {
      "text/latex": [
       "$\\displaystyle \\underline{\\text{2. Triangle inequality:}}$"
      ],
      "text/plain": [
       "<IPython.core.display.Math object>"
      ]
     },
     "metadata": {},
     "output_type": "display_data"
    },
    {
     "data": {
      "text/latex": [
       "$\\displaystyle \\forall \\; (\\;| \\psi \\rangle , | \\theta \\rangle \\in \\mathbb{C^d}\\;) \\:,\\: \\big|\\big| \\: | \\psi \\rangle + | \\theta \\rangle \\: \\big|\\big|_2 \\:\\:\\le\\:\\: \\big|\\big| \\: | \\psi \\rangle \\: \\big|\\big|_2 \\:+\\: \\big|\\big| \\: | \\theta \\rangle \\: \\big|\\big|_2$"
      ],
      "text/plain": [
       "<IPython.core.display.Math object>"
      ]
     },
     "metadata": {},
     "output_type": "display_data"
    }
   ],
   "source": [
    "display( Math('\\\\underline{\\\\text{2. Triangle inequality:}}') )\n",
    "display( Math('\\\\forall \\\\; (\\\\;| \\\\psi \\\\rangle , | \\\\theta \\\\rangle \\\\in \\\\mathbb{C^d}\\\\;) \\\\:,\\\\: \\\n",
    "\\\\big|\\\\big| \\\\: | \\\\psi \\\\rangle + | \\\\theta \\\\rangle \\\\: \\\\big|\\\\big|_2 \\\\:\\\\:\\\\le\\\\:\\\\: \\\\big|\\\\big| \\\\: | \\\\psi \\\\rangle \\\\: \\\\big|\\\\big|_2 \\\\:+\\\\: \\\n",
    "\\\\big|\\\\big| \\\\: | \\\\theta \\\\rangle \\\\: \\\\big|\\\\big|_2') )"
   ]
  },
  {
   "cell_type": "markdown",
   "id": "d7e63ca9",
   "metadata": {},
   "source": [
    "This just saying that the direct route represnts by |𝜓⟩+|𝜃⟩ , in the picture below,   \n",
    "is never longer than the route (distance) along the two vectors |𝜓⟩ and |𝜃⟩"
   ]
  },
  {
   "cell_type": "markdown",
   "id": "d64e5d3e",
   "metadata": {},
   "source": [
    "<div> <img src=\"triangle_inequality.png\" alt=\"Triangle inequality\" style=\"width: 300px;\"/></div> "
   ]
  },
  {
   "cell_type": "code",
   "execution_count": 131,
   "id": "ba94c044",
   "metadata": {},
   "outputs": [
    {
     "data": {
      "text/latex": [
       "$\\displaystyle \\underline{\\text{3. The norm of any vector is always non-negative:}}$"
      ],
      "text/plain": [
       "<IPython.core.display.Math object>"
      ]
     },
     "metadata": {},
     "output_type": "display_data"
    },
    {
     "data": {
      "text/latex": [
       "$\\displaystyle \\forall | \\psi \\rangle \\in \\mathbb{C^d} \\:,\\: \\big|\\big| \\: | \\psi \\rangle \\: \\big|\\big|_2 \\:\\:\\ge\\:\\: 0$"
      ],
      "text/plain": [
       "<IPython.core.display.Math object>"
      ]
     },
     "metadata": {},
     "output_type": "display_data"
    }
   ],
   "source": [
    "display( Math('\\\\underline{\\\\text{3. The norm of any vector is always non-negative:}}') )\n",
    "display( Math('\\\\forall | \\\\psi \\\\rangle \\\\in \\\\mathbb{C^d} \\\\:,\\\\: \\\n",
    "\\\\big|\\\\big| \\\\: | \\\\psi \\\\rangle \\\\: \\\\big|\\\\big|_2 \\\\:\\\\:\\\\ge\\\\:\\\\: 0') )"
   ]
  },
  {
   "cell_type": "markdown",
   "id": "52550a0e",
   "metadata": {},
   "source": [
    "## Orthonormal bases\n",
    "https://www.youtube.com/watch?v=lNTk9_WKvnk&list=PLZGjbQcY0aI4PB63hH_RnfnJSfNK1OojC&index=3  \n",
    "47:47"
   ]
  },
  {
   "cell_type": "code",
   "execution_count": 132,
   "id": "863ff253",
   "metadata": {},
   "outputs": [
    {
     "data": {
      "text/latex": [
       "$\\displaystyle \\{| \\psi \\rangle _i \\} \\subseteq \\mathbb{C^d} \\:\\: \\text{, is an } \\underline{orthogonal} \\: \\text{set if:} \\quad \\forall (i \\neq j) \\:, \\langle \\psi _i| \\psi _j \\rangle = 0$"
      ],
      "text/plain": [
       "<IPython.core.display.Math object>"
      ]
     },
     "metadata": {},
     "output_type": "display_data"
    }
   ],
   "source": [
    "display( Math('\\{| \\\\psi \\\\rangle _i \\} \\subseteq \\\\mathbb{C^d} \\\\:\\\\: \\\\text{, is an } \\\\underline{orthogonal} \\\n",
    "\\\\: \\\\text{set if:} \\\n",
    "\\\\quad \\\\forall (i \\\\neq j) \\\\:, \\\\langle \\\\psi _i| \\\\psi _j \\\\rangle = 0') )"
   ]
  },
  {
   "cell_type": "code",
   "execution_count": 133,
   "id": "a7bb93d2",
   "metadata": {},
   "outputs": [
    {
     "data": {
      "text/latex": [
       "$\\displaystyle \\{| \\psi \\rangle _i \\} \\subseteq \\mathbb{C^d} \\:\\: \\text{, is an } \\underline{orthonormal} \\: \\text{set if:} \\quad \\forall (i,j) \\:, \\langle \\psi _i| \\psi _j \\rangle = \\delta_{i j}$"
      ],
      "text/plain": [
       "<IPython.core.display.Math object>"
      ]
     },
     "metadata": {},
     "output_type": "display_data"
    }
   ],
   "source": [
    "display( Math('\\{| \\\\psi \\\\rangle _i \\} \\subseteq \\\\mathbb{C^d} \\\\:\\\\: \\\\text{, is an } \\\\underline{orthonormal} \\\n",
    "\\\\: \\\\text{set if:} \\\n",
    "\\\\quad \\\\forall (i,j) \\\\:, \\\\langle \\\\psi _i| \\\\psi _j \\\\rangle = \\\\delta_{i j}') )"
   ]
  },
  {
   "cell_type": "markdown",
   "id": "f84b84e5",
   "metadata": {},
   "source": [
    "Kronecker Delta:\n",
    "$\\quad \\delta_{i j} := $\n",
    "$\\left\\{ \n",
    "  \\begin{array}{ c l }\n",
    "    1 & \\: \\textrm{if } i = j \\\\\n",
    "    0                 & \\: \\textrm{if }  i \\neq j\n",
    "  \\end{array}\n",
    "\\right.$"
   ]
  },
  {
   "cell_type": "markdown",
   "id": "a1a099f1",
   "metadata": {},
   "source": [
    "The inner product of a vector with itself is 1, which means that this is a set of unit vectors.   \n",
    "The inner product between two different vectors is 0, which means that this is a set of vectors that are orthogonal to each other .   \n",
    "A set of vectors that are both, unit vectors and are orthogonal to each other, is a set of **orthonormal** vectors."
   ]
  },
  {
   "cell_type": "markdown",
   "id": "db125a85",
   "metadata": {},
   "source": [
    "## Computational or Standard basis"
   ]
  },
  {
   "cell_type": "code",
   "execution_count": 134,
   "id": "16955ad3",
   "metadata": {},
   "outputs": [
    {
     "data": {
      "text/latex": [
       "$\\displaystyle | 0 \\rangle = \\left[\\begin{matrix}1\\\\0\\end{matrix}\\right]\\in \\mathbb{C^2}$"
      ],
      "text/plain": [
       "<IPython.core.display.Math object>"
      ]
     },
     "metadata": {},
     "output_type": "display_data"
    },
    {
     "data": {
      "text/latex": [
       "$\\displaystyle | 1 \\rangle = \\left[\\begin{matrix}0\\\\1\\end{matrix}\\right]\\in \\mathbb{C^2}$"
      ],
      "text/plain": [
       "<IPython.core.display.Math object>"
      ]
     },
     "metadata": {},
     "output_type": "display_data"
    }
   ],
   "source": [
    "v0= np.array([1,0])\n",
    "v1= np.array([0,1])\n",
    "v0.shape = (2,1)\n",
    "v1.shape = (2,1)\n",
    "display( Math('| 0 \\\\rangle = ' + sym.latex(sym.sympify(v0)) + '\\\\in \\\\mathbb{C^2}') )\n",
    "display( Math('| 1 \\\\rangle = ' + sym.latex(sym.sympify(v1)) + '\\\\in \\\\mathbb{C^2}') )"
   ]
  },
  {
   "cell_type": "markdown",
   "id": "fd753753",
   "metadata": {},
   "source": [
    "These are orthonormal basis vectors"
   ]
  },
  {
   "cell_type": "code",
   "execution_count": 135,
   "id": "67ecf69a",
   "metadata": {},
   "outputs": [
    {
     "data": {
      "text/latex": [
       "$\\displaystyle \\forall \\; | \\psi \\rangle \\in \\mathbb{C^2} \\:, \\: | \\psi \\rangle = \\alpha | 0 \\rangle + \\beta | 1 \\rangle$"
      ],
      "text/plain": [
       "<IPython.core.display.Math object>"
      ]
     },
     "metadata": {},
     "output_type": "display_data"
    }
   ],
   "source": [
    "display( Math('\\\\forall \\\\; | \\\\psi \\\\rangle \\\\in \\\\mathbb{C^2} \\\\:, \\\\: | \\\\psi \\\\rangle = \\\n",
    "\\\\alpha | 0 \\\\rangle + \\\\beta | 1 \\\\rangle') )"
   ]
  },
  {
   "cell_type": "code",
   "execution_count": 136,
   "id": "d7159c7e",
   "metadata": {},
   "outputs": [
    {
     "data": {
      "text/latex": [
       "$\\displaystyle \\text{The vectors are normalized if:} \\: \\big|\\big| \\: | \\psi \\rangle \\: \\big|\\big|_2 = 1$"
      ],
      "text/plain": [
       "<IPython.core.display.Math object>"
      ]
     },
     "metadata": {},
     "output_type": "display_data"
    },
    {
     "data": {
      "text/latex": [
       "$\\displaystyle \\big|\\big| \\: | \\psi \\rangle \\: \\big|\\big|_2 = \\sqrt {\\langle \\psi | \\psi \\rangle}$"
      ],
      "text/plain": [
       "<IPython.core.display.Math object>"
      ]
     },
     "metadata": {},
     "output_type": "display_data"
    },
    {
     "data": {
      "text/latex": [
       "$\\displaystyle = \\sqrt {\\;(\\; \\alpha^* \\langle 0 | + \\beta^* \\langle 1 |\\; ) \\cdot (\\; \\alpha | 0 \\rangle + \\beta | 1 \\rangle \\;)} $"
      ],
      "text/plain": [
       "<IPython.core.display.Math object>"
      ]
     },
     "metadata": {},
     "output_type": "display_data"
    },
    {
     "data": {
      "text/latex": [
       "$\\displaystyle = \\sqrt {\\;\\alpha^*\\alpha \\langle 0 |0 \\rangle +                 \\alpha^*\\beta \\langle 0 |1 \\rangle + \\alpha \\beta^* \\langle 1 |0 \\rangle +                 \\beta \\beta^* \\langle 1 |1 \\rangle}$"
      ],
      "text/plain": [
       "<IPython.core.display.Math object>"
      ]
     },
     "metadata": {},
     "output_type": "display_data"
    },
    {
     "data": {
      "text/latex": [
       "$\\displaystyle = \\sqrt{ \\;|\\alpha|^2 \\cdot 1 + 0 + 0 + |\\beta|^2 \\cdot 1}$"
      ],
      "text/plain": [
       "<IPython.core.display.Math object>"
      ]
     },
     "metadata": {},
     "output_type": "display_data"
    }
   ],
   "source": [
    "display( Math('\\\\text{The vectors are normalized if:} \\\\: \\\\big|\\\\big| \\\\: | \\\\psi \\\\rangle \\\\: \\\\big|\\\\big|_2 = 1') )\n",
    "display( Math('\\\\big|\\\\big| \\\\: | \\\\psi \\\\rangle \\\\: \\\\big|\\\\big|_2 = \\\\sqrt {\\langle \\\\psi | \\\\psi \\\\rangle}') )\n",
    "display( Math('= \\\\sqrt {\\\\;(\\\\; \\\\alpha^* \\\\langle 0 | + \\\\beta^* \\\\langle 1 |\\\\; ) \\\\cdot (\\\\; \\\\alpha | 0 \\\\rangle + \\\n",
    "\\\\beta | 1 \\\\rangle \\\\;)} ') )\n",
    "display( Math('= \\\\sqrt {\\\\;\\\\alpha^*\\\\alpha \\\\langle 0 |0 \\\\rangle + \\\n",
    "                \\\\alpha^*\\\\beta \\\\langle 0 |1 \\\\rangle + \\\\alpha \\\\beta^* \\\\langle 1 |0 \\\\rangle + \\\n",
    "                \\\\beta \\\\beta^* \\\\langle 1 |1 \\\\rangle}') )\n",
    "display( Math('= \\\\sqrt{ \\\\;|\\\\alpha|^2 \\\\cdot 1 + 0 + 0 + |\\\\beta|^2 \\\\cdot 1}') )"
   ]
  },
  {
   "cell_type": "code",
   "execution_count": 137,
   "id": "d193c9f6",
   "metadata": {},
   "outputs": [
    {
     "data": {
      "text/latex": [
       "$\\displaystyle \\text{We used above the following equation from 'magnitude':} \\quad |\\alpha|^2 = \\alpha \\cdot \\alpha^*$"
      ],
      "text/plain": [
       "<IPython.core.display.Math object>"
      ]
     },
     "metadata": {},
     "output_type": "display_data"
    }
   ],
   "source": [
    "display( Math(\"\\\\text{We used above the following equation from 'magnitude':} \\\\quad |\\\\alpha|^2 = \\\\alpha \\\\cdot \\\\alpha^*\") )"
   ]
  },
  {
   "cell_type": "markdown",
   "id": "cde76a3a",
   "metadata": {},
   "source": [
    "## Linear Maps and Matrices\n",
    "https://www.youtube.com/watch?v=lNTk9_WKvnk&list=PLZGjbQcY0aI4PB63hH_RnfnJSfNK1OojC&index=3   \n",
    "1:00:00"
   ]
  },
  {
   "cell_type": "code",
   "execution_count": 138,
   "id": "581bc6b9",
   "metadata": {},
   "outputs": [
    {
     "data": {
      "text/latex": [
       "$\\displaystyle  \\Phi: \\mathbb{C^d} \\longrightarrow \\mathbb{C^k} \\text{ is linear if } \\: \\forall(\\;| \\psi \\rangle = \\sum_{i} \\alpha_i \\cdot | \\psi_i \\rangle\\;)\\;,\\; \\Phi(| \\psi \\rangle) = \\Phi(\\sum_{i} \\alpha_i \\cdot | \\psi_i \\rangle\\;) = \\sum_{i}\\alpha_i \\cdot \\Phi(| \\psi_i \\rangle)$"
      ],
      "text/plain": [
       "<IPython.core.display.Math object>"
      ]
     },
     "metadata": {},
     "output_type": "display_data"
    }
   ],
   "source": [
    "display( Math(' \\\\Phi: \\\\mathbb{C^d} \\\\longrightarrow \\\\mathbb{C^k} \\\\text{ is linear if } \\\\: \\\\forall(\\\\;| \\\\psi \\\\rangle = \\\n",
    "\\sum_{i} \\\\alpha_i \\\\cdot | \\\\psi_i \\\\rangle\\\\;)\\\\;,\\\\; \\\n",
    "\\\\Phi(| \\\\psi \\\\rangle) = \\\\Phi(\\sum_{i} \\\\alpha_i \\\\cdot | \\\\psi_i \\\\rangle\\\\;) = \\sum_{i}\\\\alpha_i \\\\cdot \\\\Phi(| \\\\psi_i \\\\rangle)') )"
   ]
  },
  {
   "cell_type": "code",
   "execution_count": 139,
   "id": "feb5e45f",
   "metadata": {},
   "outputs": [
    {
     "data": {
      "text/latex": [
       "$\\displaystyle \\text{Notation:}$"
      ],
      "text/plain": [
       "<IPython.core.display.Math object>"
      ]
     },
     "metadata": {},
     "output_type": "display_data"
    },
    {
     "data": {
      "text/latex": [
       "$\\displaystyle \\mathcal{L}(X,Y): \\: \\text{Set of linear maps from X to Y}$"
      ],
      "text/plain": [
       "<IPython.core.display.Math object>"
      ]
     },
     "metadata": {},
     "output_type": "display_data"
    },
    {
     "data": {
      "text/latex": [
       "$\\displaystyle \\mathcal{L}(X,X) = \\mathcal{L}(X)$"
      ],
      "text/plain": [
       "<IPython.core.display.Math object>"
      ]
     },
     "metadata": {},
     "output_type": "display_data"
    }
   ],
   "source": [
    "display( Math('\\\\text{Notation:}'))\n",
    "display( Math('\\\\mathcal{L}(X,Y): \\\\: \\\\text{Set of linear maps from X to Y}') )\n",
    "display( Math('\\\\mathcal{L}(X,X) = \\\\mathcal{L}(X)') )"
   ]
  },
  {
   "cell_type": "code",
   "execution_count": 140,
   "id": "9557c072",
   "metadata": {},
   "outputs": [
    {
     "data": {
      "text/latex": [
       "$\\displaystyle \\text{Example:}$"
      ],
      "text/plain": [
       "<IPython.core.display.Math object>"
      ]
     },
     "metadata": {},
     "output_type": "display_data"
    },
    {
     "data": {
      "text/latex": [
       "$\\displaystyle \\mathcal{L}(\\mathbb{C^2},\\mathbb{C^2}): \\quad \\Phi: \\mathbb{C^2} \\longrightarrow \\mathbb{C^2}$"
      ],
      "text/plain": [
       "<IPython.core.display.Math object>"
      ]
     },
     "metadata": {},
     "output_type": "display_data"
    },
    {
     "data": {
      "text/latex": [
       "$\\displaystyle \\Phi(\\;| 0 \\rangle\\;) = | 1 \\rangle \\:,\\: \\Phi(\\;| 1 \\rangle\\;) = | 0 \\rangle                 \\quad \\longrightarrow \\quad (\\text{the quantum NOT gate})$"
      ],
      "text/plain": [
       "<IPython.core.display.Math object>"
      ]
     },
     "metadata": {},
     "output_type": "display_data"
    },
    {
     "data": {
      "text/latex": [
       "$\\displaystyle \\Phi(\\; \\alpha \\cdot | 0 \\rangle + \\beta \\cdot | 1 \\rangle \\;) =                \\alpha \\cdot \\Phi(\\;| 0 \\rangle\\;) + \\beta \\cdot \\Phi(\\;| 1 \\rangle\\;) =                 \\alpha \\cdot | 1 \\rangle + \\beta \\cdot | 0 \\rangle$"
      ],
      "text/plain": [
       "<IPython.core.display.Math object>"
      ]
     },
     "metadata": {},
     "output_type": "display_data"
    }
   ],
   "source": [
    "display( Math('\\\\text{Example:}'))\n",
    "display( Math('\\\\mathcal{L}(\\\\mathbb{C^2},\\\\mathbb{C^2}): \\\\quad \\\\Phi: \\\\mathbb{C^2} \\\\longrightarrow \\\\mathbb{C^2}') )\n",
    "display( Math('\\\\Phi(\\\\;| 0 \\\\rangle\\\\;) = | 1 \\\\rangle \\\\:,\\\\: \\\\Phi(\\\\;| 1 \\\\rangle\\\\;) = | 0 \\\\rangle \\\n",
    "                \\\\quad \\\\longrightarrow \\\\quad (\\\\text{the quantum NOT gate})') )\n",
    "display( Math('\\\\Phi(\\\\; \\\\alpha \\\\cdot | 0 \\\\rangle + \\\\beta \\\\cdot | 1 \\\\rangle \\\\;) =\\\n",
    "                \\\\alpha \\\\cdot \\\\Phi(\\\\;| 0 \\\\rangle\\\\;) + \\\\beta \\\\cdot \\\\Phi(\\\\;| 1 \\\\rangle\\\\;) = \\\n",
    "                \\\\alpha \\\\cdot | 1 \\\\rangle + \\\\beta \\\\cdot | 0 \\\\rangle') )"
   ]
  },
  {
   "cell_type": "markdown",
   "id": "949c1943-27de-4aa5-ba9a-e9136e3dbb8f",
   "metadata": {},
   "source": [
    "### Representation of linear maps via matrices"
   ]
  },
  {
   "cell_type": "code",
   "execution_count": 141,
   "id": "572a3205",
   "metadata": {},
   "outputs": [
    {
     "data": {
      "text/latex": [
       "$\\displaystyle \\Phi: \\mathbb{C^2} \\longrightarrow \\mathbb{C^2}$"
      ],
      "text/plain": [
       "<IPython.core.display.Math object>"
      ]
     },
     "metadata": {},
     "output_type": "display_data"
    },
    {
     "data": {
      "text/latex": [
       "$\\displaystyle \\biggr[ \\quad \\Phi(\\;| 0 \\rangle\\;) \\quad \\Phi(\\;| 1 \\rangle\\;) \\quad \\Phi(\\;| 2 \\rangle\\;)                 \\quad . \\: . \\: . \\quad \\Phi(\\;| d-1 \\rangle\\;) \\quad \\biggr]$"
      ],
      "text/plain": [
       "<IPython.core.display.Math object>"
      ]
     },
     "metadata": {},
     "output_type": "display_data"
    },
    {
     "data": {
      "text/latex": [
       "$\\displaystyle \\text{According to the place in order. The first is the action of phi on the base vector 0, the second is the action of phi on the base vector 1,}$"
      ],
      "text/plain": [
       "<IPython.core.display.Math object>"
      ]
     },
     "metadata": {},
     "output_type": "display_data"
    },
    {
     "data": {
      "text/latex": [
       "$\\displaystyle \\text{... and the last is the action of phi on the base vector d-1}$"
      ],
      "text/plain": [
       "<IPython.core.display.Math object>"
      ]
     },
     "metadata": {},
     "output_type": "display_data"
    },
    {
     "data": {
      "text/latex": [
       "$\\displaystyle A = \\Biggr[\\quad\\left[\\begin{matrix}a\\\\b\\\\\\mathtt{\\text{Ellipsis}}\\\\d\\end{matrix}\\right]\\quad \\:\\left[\\begin{matrix}a\\\\b\\\\\\mathtt{\\text{Ellipsis}}\\\\d\\end{matrix}\\right]\\quad \\:\\left[\\begin{matrix}a\\\\b\\\\\\mathtt{\\text{Ellipsis}}\\\\d\\end{matrix}\\right]\\quad . \\: . \\: . \\quad \\:\\left[\\begin{matrix}a\\\\b\\\\\\mathtt{\\text{Ellipsis}}\\\\d\\end{matrix}\\right]\\quad \\Biggr]              \\quad \\longrightarrow \\quad \\text{d x d matrix}$"
      ],
      "text/plain": [
       "<IPython.core.display.Math object>"
      ]
     },
     "metadata": {},
     "output_type": "display_data"
    },
    {
     "data": {
      "text/latex": [
       "$\\displaystyle \\text{d x d complex matrix A is 2d array of complex numbers}$"
      ],
      "text/plain": [
       "<IPython.core.display.Math object>"
      ]
     },
     "metadata": {},
     "output_type": "display_data"
    },
    {
     "data": {
      "text/latex": [
       "$\\displaystyle A_{i,j} \\in \\mathbb{C}$"
      ],
      "text/plain": [
       "<IPython.core.display.Math object>"
      ]
     },
     "metadata": {},
     "output_type": "display_data"
    }
   ],
   "source": [
    "display( Math('\\\\Phi: \\\\mathbb{C^2} \\\\longrightarrow \\\\mathbb{C^2}') )\n",
    "display( Math('\\\\biggr[ \\\\quad \\\\Phi(\\\\;| 0 \\\\rangle\\\\;) \\\\quad \\\\Phi(\\\\;| 1 \\\\rangle\\\\;) \\\\quad \\\\Phi(\\\\;| 2 \\\\rangle\\\\;) \\\n",
    "                \\\\quad . \\\\: . \\\\: . \\\\quad \\\\Phi(\\\\;| d-1 \\\\rangle\\\\;) \\\\quad \\\\biggr]') )\n",
    "display( Math('\\\\text{According to the place in order. The first is the action of phi on the base vector 0, the second is the action of phi on the base vector 1,}') ) \n",
    "display( Math('\\\\text{... and the last is the action of phi on the base vector d-1}') )\n",
    "\n",
    "va= np.array(['a','b','...','d'])\n",
    "vb= np.array(['a','b','...','d'])\n",
    "vc= np.array(['a','b','...','d'])\n",
    "vd= np.array(['a','b','...','d'])\n",
    "va.shape = (4,1)\n",
    "vb.shape = (4,1)\n",
    "vc.shape = (4,1)\n",
    "vd.shape = (4,1)\n",
    "display( Math('A = \\\\Biggr[\\\\quad' + sym.latex(sym.sympify(va)) + '\\\\quad \\\\:' + sym.latex(sym.sympify(vb)) + '\\\\quad \\\\:' \\\n",
    "              + sym.latex(sym.sympify(vc)) + '\\\\quad . \\\\: . \\\\: . \\\\quad \\\\:' + sym.latex(sym.sympify(vd)) + '\\\\quad \\\\Biggr]\\\n",
    "              \\\\quad \\\\longrightarrow \\\\quad \\\\text{d x d matrix}' ) )\n",
    "display( Math('\\\\text{d x d complex matrix A is 2d array of complex numbers}') )\n",
    "display( Math('A_{i,j} \\\\in \\\\mathbb{C}') )"
   ]
  },
  {
   "cell_type": "code",
   "execution_count": 142,
   "id": "6509edd3-0c70-4ed6-b091-bda91bf296ef",
   "metadata": {},
   "outputs": [
    {
     "data": {
      "text/latex": [
       "$\\displaystyle \\underline{Example:}$"
      ],
      "text/plain": [
       "<IPython.core.display.Math object>"
      ]
     },
     "metadata": {},
     "output_type": "display_data"
    },
    {
     "data": {
      "text/latex": [
       "$\\displaystyle \\text{The quantum NOT gate (X gate)}$"
      ],
      "text/plain": [
       "<IPython.core.display.Math object>"
      ]
     },
     "metadata": {},
     "output_type": "display_data"
    },
    {
     "data": {
      "text/latex": [
       "$\\displaystyle \\Phi(\\;| 0 \\rangle\\;) = | 1 \\rangle$"
      ],
      "text/plain": [
       "<IPython.core.display.Math object>"
      ]
     },
     "metadata": {},
     "output_type": "display_data"
    },
    {
     "data": {
      "text/latex": [
       "$\\displaystyle \\Phi(\\;| 1 \\rangle\\;) = | 0 \\rangle$"
      ],
      "text/plain": [
       "<IPython.core.display.Math object>"
      ]
     },
     "metadata": {},
     "output_type": "display_data"
    },
    {
     "data": {
      "text/latex": [
       "$\\displaystyle A = \\Biggr[ \\quad \\Phi(\\;| 0 \\rangle\\;) \\quad \\Phi(\\;| 1 \\rangle\\;) \\quad \\Biggr]                 = \\Biggr[ \\quad | 1 \\rangle \\quad | 0 \\rangle \\quad \\Biggr]                 = \\begin{bmatrix}0 & 1\\\\ 1 & 0 \\end{bmatrix} =: X$"
      ],
      "text/plain": [
       "<IPython.core.display.Math object>"
      ]
     },
     "metadata": {},
     "output_type": "display_data"
    },
    {
     "data": {
      "text/latex": [
       "$\\displaystyle \\text{According to the place in order. The first is the action of phi on the base vector 0, the second is the action of phi on the base vector 1.}$"
      ],
      "text/plain": [
       "<IPython.core.display.Math object>"
      ]
     },
     "metadata": {},
     "output_type": "display_data"
    }
   ],
   "source": [
    "display( Math('\\\\underline{Example:}') )\n",
    "display( Math('\\\\text{The quantum NOT gate (X gate)}') )\n",
    "display( Math('\\\\Phi(\\\\;| 0 \\\\rangle\\\\;) = | 1 \\\\rangle') )\n",
    "display( Math('\\\\Phi(\\\\;| 1 \\\\rangle\\\\;) = | 0 \\\\rangle') )\n",
    "display( Math('A = \\\\Biggr[ \\\\quad \\\\Phi(\\\\;| 0 \\\\rangle\\\\;) \\\\quad \\\\Phi(\\\\;| 1 \\\\rangle\\\\;) \\\\quad \\\\Biggr] \\\n",
    "                = \\\\Biggr[ \\\\quad | 1 \\\\rangle \\\\quad | 0 \\\\rangle \\\\quad \\\\Biggr] \\\n",
    "                = \\\\begin{bmatrix}0 & 1\\\\\\\\ 1 & 0 \\\\end{bmatrix} =: X') )\n",
    "display( Math('\\\\text{According to the place in order. The first is the action of phi on the base vector 0, the second is the action of phi on the base vector 1.}') )"
   ]
  },
  {
   "cell_type": "code",
   "execution_count": 143,
   "id": "9a028ae8-efa2-4289-bbab-a2353ba7df8f",
   "metadata": {},
   "outputs": [
    {
     "data": {
      "text/latex": [
       "$\\displaystyle \\underline{Example:}$"
      ],
      "text/plain": [
       "<IPython.core.display.Math object>"
      ]
     },
     "metadata": {},
     "output_type": "display_data"
    },
    {
     "data": {
      "text/latex": [
       "$\\displaystyle \\text{What is the linear map that represented by the Identity matrix}$"
      ],
      "text/plain": [
       "<IPython.core.display.Math object>"
      ]
     },
     "metadata": {},
     "output_type": "display_data"
    },
    {
     "data": {
      "text/latex": [
       "$\\displaystyle I = \\begin{bmatrix}1 & 0\\\\ 0 & 1 \\end{bmatrix}                 = \\Biggr[ \\quad \\Phi(\\;| 0 \\rangle\\;) \\quad \\Phi(\\;| 1 \\rangle\\;) \\quad \\Biggr]$"
      ],
      "text/plain": [
       "<IPython.core.display.Math object>"
      ]
     },
     "metadata": {},
     "output_type": "display_data"
    },
    {
     "data": {
      "text/latex": [
       "$\\displaystyle \\text{So, what does this matrix do?}$"
      ],
      "text/plain": [
       "<IPython.core.display.Math object>"
      ]
     },
     "metadata": {},
     "output_type": "display_data"
    },
    {
     "data": {
      "text/latex": [
       "$\\displaystyle \\Phi(\\;| 0 \\rangle\\;) = | 0 \\rangle$"
      ],
      "text/plain": [
       "<IPython.core.display.Math object>"
      ]
     },
     "metadata": {},
     "output_type": "display_data"
    },
    {
     "data": {
      "text/latex": [
       "$\\displaystyle \\text{The first column is phi of 0, and it it just 0 in the matrix!, it hasn't done anything.}$"
      ],
      "text/plain": [
       "<IPython.core.display.Math object>"
      ]
     },
     "metadata": {},
     "output_type": "display_data"
    },
    {
     "data": {
      "text/latex": [
       "$\\displaystyle \\Phi(\\;| 1 \\rangle\\;) = | 1 \\rangle$"
      ],
      "text/plain": [
       "<IPython.core.display.Math object>"
      ]
     },
     "metadata": {},
     "output_type": "display_data"
    },
    {
     "data": {
      "text/latex": [
       "$\\displaystyle \\text{The second column is phi of 1, and it it just 1 in the matrix!, so, it hasn't done anything as well.}$"
      ],
      "text/plain": [
       "<IPython.core.display.Math object>"
      ]
     },
     "metadata": {},
     "output_type": "display_data"
    },
    {
     "data": {
      "text/latex": [
       "$\\displaystyle \\text{This map not doing anything. it maps 0 to 0, and 1 to 1}$"
      ],
      "text/plain": [
       "<IPython.core.display.Math object>"
      ]
     },
     "metadata": {},
     "output_type": "display_data"
    }
   ],
   "source": [
    "display( Math('\\\\underline{Example:}') )\n",
    "display( Math('\\\\text{What is the linear map that represented by the Identity matrix}') )\n",
    "display( Math('I = \\\\begin{bmatrix}1 & 0\\\\\\\\ 0 & 1 \\\\end{bmatrix} \\\n",
    "                = \\\\Biggr[ \\\\quad \\\\Phi(\\\\;| 0 \\\\rangle\\\\;) \\\\quad \\\\Phi(\\\\;| 1 \\\\rangle\\\\;) \\\\quad \\\\Biggr]') )\n",
    "display( Math('\\\\text{So, what does this matrix do?}') )\n",
    "display( Math('\\\\Phi(\\\\;| 0 \\\\rangle\\\\;) = | 0 \\\\rangle') )\n",
    "display( Math(\"\\\\text{The first column is phi of 0, and it it just 0 in the matrix!, it hasn't done anything.}\") )\n",
    "display( Math('\\\\Phi(\\\\;| 1 \\\\rangle\\\\;) = | 1 \\\\rangle') )\n",
    "display( Math(\"\\\\text{The second column is phi of 1, and it it just 1 in the matrix!, so, it hasn't done anything as well.}\") )\n",
    "display( Math('\\\\text{This map not doing anything. it maps 0 to 0, and 1 to 1}') )"
   ]
  },
  {
   "cell_type": "markdown",
   "id": "a3711428-93ec-42d5-bae5-498635eca8d5",
   "metadata": {},
   "source": [
    "### Matrix multiplication\n",
    "https://www.youtube.com/watch?v=lNTk9_WKvnk&list=PLZGjbQcY0aI4PB63hH_RnfnJSfNK1OojC&index=3     \n",
    "at 1:17:00"
   ]
  },
  {
   "cell_type": "code",
   "execution_count": 144,
   "id": "07a4decd-03c6-425c-8a49-0ebf67664d53",
   "metadata": {},
   "outputs": [
    {
     "data": {
      "text/latex": [
       "$\\displaystyle A,B \\in \\mathcal{L}(\\mathbb{C^d})$"
      ],
      "text/plain": [
       "<IPython.core.display.Math object>"
      ]
     },
     "metadata": {},
     "output_type": "display_data"
    },
    {
     "data": {
      "text/latex": [
       "$\\displaystyle C_{i,j} = AB_{(i,j)} = \\sum_{k=1}^d A_{(i,k)}B_{(k,j)}$"
      ],
      "text/plain": [
       "<IPython.core.display.Math object>"
      ]
     },
     "metadata": {},
     "output_type": "display_data"
    },
    {
     "name": "stdout",
     "output_type": "stream",
     "text": [
      "\n"
     ]
    },
    {
     "data": {
      "text/latex": [
       "$\\displaystyle \\underline{Example:}$"
      ],
      "text/plain": [
       "<IPython.core.display.Math object>"
      ]
     },
     "metadata": {},
     "output_type": "display_data"
    },
    {
     "name": "stdout",
     "output_type": "stream",
     "text": [
      "\n"
     ]
    },
    {
     "data": {
      "text/latex": [
       "$\\displaystyle A = \\begin{bmatrix}3 & 7\\\\ 4 & 9 \\end{bmatrix} \\quad , \\quad                B = \\begin{bmatrix}6 & 2\\\\ 5 & 8 \\end{bmatrix}$"
      ],
      "text/plain": [
       "<IPython.core.display.Math object>"
      ]
     },
     "metadata": {},
     "output_type": "display_data"
    },
    {
     "data": {
      "text/latex": [
       "$\\displaystyle AB_{11} = 3 \\cdot 6 + 7 \\cdot 5 = 53 \\quad AB_{12} = 3 \\cdot 2 + 7 \\cdot 8 = 62$"
      ],
      "text/plain": [
       "<IPython.core.display.Math object>"
      ]
     },
     "metadata": {},
     "output_type": "display_data"
    },
    {
     "data": {
      "text/latex": [
       "$\\displaystyle AB_{21} = 4 \\cdot 6 + 9 \\cdot 5 = 69 \\quad AB_{22} = 4 \\cdot 2 + 9 \\cdot 8 = 80$"
      ],
      "text/plain": [
       "<IPython.core.display.Math object>"
      ]
     },
     "metadata": {},
     "output_type": "display_data"
    },
    {
     "data": {
      "text/latex": [
       "$\\displaystyle AB = \\begin{bmatrix}53 & 62\\\\ 69 & 80 \\end{bmatrix}$"
      ],
      "text/plain": [
       "<IPython.core.display.Math object>"
      ]
     },
     "metadata": {},
     "output_type": "display_data"
    }
   ],
   "source": [
    "display( Math('A,B \\\\in \\\\mathcal{L}(\\\\mathbb{C^d})') )\n",
    "display( Math('C_{i,j} = AB_{(i,j)} = \\sum_{k=1}^d A_{(i,k)}B_{(k,j)}') )\n",
    "\n",
    "print()\n",
    "display( Math('\\\\underline{Example:}') )\n",
    "print()\n",
    "\n",
    "display( Math('A = \\\\begin{bmatrix}3 & 7\\\\\\\\ 4 & 9 \\\\end{bmatrix} \\\\quad , \\\\quad \\\n",
    "               B = \\\\begin{bmatrix}6 & 2\\\\\\\\ 5 & 8 \\\\end{bmatrix}') )\n",
    "\n",
    "display( Math('AB_{11} = 3 \\\\cdot 6 + 7 \\\\cdot 5 = 53 \\\\quad AB_{12} = 3 \\\\cdot 2 + 7 \\\\cdot 8 = 62') )\n",
    "display( Math('AB_{21} = 4 \\\\cdot 6 + 9 \\\\cdot 5 = 69 \\\\quad AB_{22} = 4 \\\\cdot 2 + 9 \\\\cdot 8 = 80') )\n",
    "\n",
    "display( Math('AB = \\\\begin{bmatrix}53 & 62\\\\\\\\ 69 & 80 \\\\end{bmatrix}') )"
   ]
  },
  {
   "cell_type": "markdown",
   "id": "e15fd71d-c804-4053-a3f6-6efa5f2a553a",
   "metadata": {},
   "source": [
    "### Matrices are not commutative in general"
   ]
  },
  {
   "cell_type": "code",
   "execution_count": 145,
   "id": "9421c9bb-f443-4df1-a6cf-88ab9077154f",
   "metadata": {},
   "outputs": [
    {
     "data": {
      "text/latex": [
       "$\\displaystyle A \\cdot B \\neq B \\cdot A$"
      ],
      "text/plain": [
       "<IPython.core.display.Math object>"
      ]
     },
     "metadata": {},
     "output_type": "display_data"
    },
    {
     "data": {
      "text/latex": [
       "$\\displaystyle \\underline{Example:}$"
      ],
      "text/plain": [
       "<IPython.core.display.Math object>"
      ]
     },
     "metadata": {},
     "output_type": "display_data"
    },
    {
     "name": "stdout",
     "output_type": "stream",
     "text": [
      "\n"
     ]
    },
    {
     "data": {
      "text/latex": [
       "$\\displaystyle X = \\begin{bmatrix}0 & 1\\\\ 1 & 0 \\end{bmatrix} \\quad , \\quad                Z = \\begin{bmatrix}1 & 0\\\\ 0 & -1 \\end{bmatrix}$"
      ],
      "text/plain": [
       "<IPython.core.display.Math object>"
      ]
     },
     "metadata": {},
     "output_type": "display_data"
    },
    {
     "data": {
      "text/latex": [
       "$\\displaystyle X \\cdot Z \\neq Z \\cdot X$"
      ],
      "text/plain": [
       "<IPython.core.display.Math object>"
      ]
     },
     "metadata": {},
     "output_type": "display_data"
    },
    {
     "data": {
      "text/latex": [
       "$\\displaystyle \\href{https://en.wikipedia.org/wiki/Commutator}{Commutator} \\: \\rightarrow \\: [X,Z] \\: := \\: XZ - ZX \\neq 0$"
      ],
      "text/plain": [
       "<IPython.core.display.Math object>"
      ]
     },
     "metadata": {},
     "output_type": "display_data"
    }
   ],
   "source": [
    "display( Math('A \\\\cdot B \\\\neq B \\\\cdot A') )\n",
    "\n",
    "display( Math('\\\\underline{Example:}') )\n",
    "print()\n",
    "\n",
    "display( Math('X = \\\\begin{bmatrix}0 & 1\\\\\\\\ 1 & 0 \\\\end{bmatrix} \\\\quad , \\\\quad \\\n",
    "               Z = \\\\begin{bmatrix}1 & 0\\\\\\\\ 0 & -1 \\\\end{bmatrix}') )\n",
    "\n",
    "display( Math('X \\\\cdot Z \\\\neq Z \\\\cdot X') )\n",
    "\n",
    "display( Math('\\\\href{https://en.wikipedia.org/wiki/Commutator}{Commutator} \\\\: \\\\rightarrow \\\\: [X,Z] \\\\: := \\\\: XZ - ZX \\\\neq 0') )"
   ]
  },
  {
   "cell_type": "markdown",
   "id": "d2ffabb6-ac78-448a-a03d-2946dc0b5d5b",
   "metadata": {},
   "source": [
    "### Image of map"
   ]
  },
  {
   "cell_type": "code",
   "execution_count": 183,
   "id": "8bc89cc9-5d66-47ce-a00e-c2aaf96d49d2",
   "metadata": {},
   "outputs": [
    {
     "data": {
      "text/latex": [
       "$\\displaystyle \\text{Apply a linear-map (matrix) to a preimage item to get its image.}$"
      ],
      "text/plain": [
       "<IPython.core.display.Math object>"
      ]
     },
     "metadata": {},
     "output_type": "display_data"
    },
    {
     "data": {
      "text/latex": [
       "$\\displaystyle \\text{Map a preimage to an image.}$"
      ],
      "text/plain": [
       "<IPython.core.display.Math object>"
      ]
     },
     "metadata": {},
     "output_type": "display_data"
    },
    {
     "name": "stdout",
     "output_type": "stream",
     "text": [
      "\n"
     ]
    },
    {
     "data": {
      "text/latex": [
       "$\\displaystyle \\text{Im}(A) := \\Bigl\\{ \\: | \\psi \\rangle \\in \\mathbb{C^d} \\:\\: \\Big| \\quad | \\psi \\rangle = A \\cdot                 | \\phi \\rangle \\quad \\text{for some} \\quad | \\phi \\rangle \\in \\mathbb{C^d} \\: \\Bigl\\}$"
      ],
      "text/plain": [
       "<IPython.core.display.Math object>"
      ]
     },
     "metadata": {},
     "output_type": "display_data"
    },
    {
     "data": {
      "text/latex": [
       "$\\displaystyle | \\psi \\rangle \\rightarrow \\text{Image, the Set of} \\: \\underline{all} \\:                 \\text{outputs, the output space (a vector space) of the map} \\; A$"
      ],
      "text/plain": [
       "<IPython.core.display.Math object>"
      ]
     },
     "metadata": {},
     "output_type": "display_data"
    },
    {
     "data": {
      "text/latex": [
       "$\\displaystyle | \\phi \\rangle \\rightarrow \\text{Preimage, the Set of} \\: \\underline{some} \\: \\text{inputs}$"
      ],
      "text/plain": [
       "<IPython.core.display.Math object>"
      ]
     },
     "metadata": {},
     "output_type": "display_data"
    },
    {
     "name": "stdout",
     "output_type": "stream",
     "text": [
      "\n"
     ]
    },
    {
     "data": {
      "text/latex": [
       "$\\displaystyle \\text{Rank: the dimention of the output space (the Set of the output vectors)}$"
      ],
      "text/plain": [
       "<IPython.core.display.Math object>"
      ]
     },
     "metadata": {},
     "output_type": "display_data"
    },
    {
     "data": {
      "text/latex": [
       "$\\displaystyle rank(A) = dim(\\;\\text{Im}(A)\\;) \\quad \\quad (dim = dimention)$"
      ],
      "text/plain": [
       "<IPython.core.display.Math object>"
      ]
     },
     "metadata": {},
     "output_type": "display_data"
    },
    {
     "data": {
      "text/latex": [
       "$\\displaystyle \\text{If} \\; rank(A) = d, \\quad \\text{then} \\:\\: \\text{Im}(A) = \\mathbb{C^d}$"
      ],
      "text/plain": [
       "<IPython.core.display.Math object>"
      ]
     },
     "metadata": {},
     "output_type": "display_data"
    }
   ],
   "source": [
    "display( Math('\\\\text{Apply a linear-map (matrix) to a preimage item to get its image.}') )\n",
    "display( Math('\\\\text{Map a preimage to an image.}') )\n",
    "print()\n",
    "display( Math('\\\\text{Im}(A) := \\\\Bigl\\{ \\\\: | \\\\psi \\\\rangle \\\\in \\\\mathbb{C^d} \\\\:\\\\: \\\\Big| \\\\quad | \\\\psi \\\\rangle = A \\\\cdot \\\n",
    "                | \\\\phi \\\\rangle \\\\quad \\\\text{for some} \\\\quad | \\\\phi \\\\rangle \\\\in \\\\mathbb{C^d} \\\\: \\\\Bigl\\}') )\n",
    "display( Math('| \\\\psi \\\\rangle \\\\rightarrow \\\\text{Image, the Set of} \\\\: \\\\underline{all} \\\\: \\\n",
    "                \\\\text{outputs, the output space (a vector space) of the map} \\\\; A') )\n",
    "display( Math('| \\\\phi \\\\rangle \\\\rightarrow \\\\text{Preimage, the Set of} \\\\: \\\\underline{some} \\\\: \\\\text{inputs}') )\n",
    "\n",
    "print()\n",
    "\n",
    "display( Math('\\\\text{Rank: the dimention of the output space (the Set of the output vectors)}') )\n",
    "display( Math('rank(A) = dim(\\\\;\\\\text{Im}(A)\\\\;) \\\\quad \\\\quad (dim = dimention)') )\n",
    "display( Math('\\\\text{If} \\\\; rank(A) = d, \\\\quad \\\\text{then} \\\\:\\\\: \\\\text{Im}(A) = \\\\mathbb{C^d}') )"
   ]
  },
  {
   "cell_type": "markdown",
   "id": "7eb97779-e98b-438e-9165-310f917803fe",
   "metadata": {},
   "source": [
    "https://www.youtube.com/watch?v=lNTk9_WKvnk&list=PLZGjbQcY0aI4PB63hH_RnfnJSfNK1OojC&index=3     \n",
    "at 1:27:00"
   ]
  },
  {
   "cell_type": "code",
   "execution_count": 185,
   "id": "b9c77a48-b3ea-4175-9f21-b4f031507a8a",
   "metadata": {},
   "outputs": [
    {
     "data": {
      "text/latex": [
       "$\\displaystyle \\underline{\\text{Null space (A)}}$"
      ],
      "text/plain": [
       "<IPython.core.display.Math object>"
      ]
     },
     "metadata": {},
     "output_type": "display_data"
    },
    {
     "data": {
      "text/latex": [
       "$\\displaystyle \\text{The complement of the map's image.}$"
      ],
      "text/plain": [
       "<IPython.core.display.Math object>"
      ]
     },
     "metadata": {},
     "output_type": "display_data"
    },
    {
     "data": {
      "text/latex": [
       "$\\displaystyle \\text{The set of all vectors that this map sends to the scalar zero (kill)}$"
      ],
      "text/plain": [
       "<IPython.core.display.Math object>"
      ]
     },
     "metadata": {},
     "output_type": "display_data"
    },
    {
     "data": {
      "text/latex": [
       "$\\displaystyle Null(A) := \\big\\{\\:| \\psi \\rangle \\in \\mathbb{C^d} \\quad \\big| \\quad A \\cdot | \\psi \\rangle = 0 \\: \\big\\}$"
      ],
      "text/plain": [
       "<IPython.core.display.Math object>"
      ]
     },
     "metadata": {},
     "output_type": "display_data"
    },
    {
     "data": {
      "text/latex": [
       "$\\displaystyle rank(A) + dim(Null(A)) = d \\quad \\longrightarrow \\quad (\\text{the full dimention } \\textit{d},                 \\text{the dimention of the entire space})$"
      ],
      "text/plain": [
       "<IPython.core.display.Math object>"
      ]
     },
     "metadata": {},
     "output_type": "display_data"
    }
   ],
   "source": [
    "display( Math('\\\\underline{\\\\text{Null space (A)}}') )\n",
    "display( Math(\"\\\\text{The complement of the map's image.}\") )\n",
    "display( Math(\"\\\\text{The set of all vectors that this map sends to the scalar zero (kill)}\") )\n",
    "display( Math('Null(A) := \\\\big\\{\\\\:| \\\\psi \\\\rangle \\\\in \\\\mathbb{C^d} \\\\quad \\\\big| \\\\quad A \\\\cdot | \\\\psi \\\\rangle = 0 \\\\: \\\\big\\}') )\n",
    "display( Math('rank(A) + dim(Null(A)) = d \\\\quad \\\\longrightarrow \\\\quad (\\\\text{the full dimention } \\\\textit{d}, \\\n",
    "                \\\\text{the dimention of the entire space})') )"
   ]
  },
  {
   "cell_type": "code",
   "execution_count": 192,
   "id": "bd8d6aeb-f60c-4a97-8679-b3790e028099",
   "metadata": {},
   "outputs": [
    {
     "data": {
      "text/latex": [
       "$\\displaystyle \\underline{Example:}$"
      ],
      "text/plain": [
       "<IPython.core.display.Math object>"
      ]
     },
     "metadata": {},
     "output_type": "display_data"
    },
    {
     "data": {
      "text/latex": [
       "$\\displaystyle B = \\begin{bmatrix}1 & 0\\\\ 0 & 0 \\end{bmatrix}$"
      ],
      "text/plain": [
       "<IPython.core.display.Math object>"
      ]
     },
     "metadata": {},
     "output_type": "display_data"
    },
    {
     "data": {
      "text/latex": [
       "$\\displaystyle \\text{What is the null space of the linear map that represented by the B matrix? What is Null(B)?}$"
      ],
      "text/plain": [
       "<IPython.core.display.Math object>"
      ]
     },
     "metadata": {},
     "output_type": "display_data"
    },
    {
     "data": {
      "text/latex": [
       "$\\displaystyle \\text{B multiply by some State:}$"
      ],
      "text/plain": [
       "<IPython.core.display.Math object>"
      ]
     },
     "metadata": {},
     "output_type": "display_data"
    },
    {
     "data": {
      "text/latex": [
       "$\\displaystyle B \\cdot \\big(\\; \\alpha \\cdot | 0 \\rangle + \\beta \\cdot | 1 \\rangle \\;\\big) =                \\begin{bmatrix}1 & 0\\\\ 0 & 0 \\end{bmatrix} \\cdot                 \\begin{bmatrix} \\alpha \\\\ \\beta \\end{bmatrix} =                 \\begin{bmatrix} 1\\cdot\\alpha + 0\\cdot\\beta \\\\ 0\\cdot\\alpha + 0\\cdot\\beta \\end{bmatrix} =                 \\begin{bmatrix} \\alpha \\\\ 0 \\end{bmatrix}$"
      ],
      "text/plain": [
       "<IPython.core.display.Math object>"
      ]
     },
     "metadata": {},
     "output_type": "display_data"
    },
    {
     "data": {
      "text/latex": [
       "$\\displaystyle \\text{B kills off the second coordinate for any input vector it gets.}$"
      ],
      "text/plain": [
       "<IPython.core.display.Math object>"
      ]
     },
     "metadata": {},
     "output_type": "display_data"
    },
    {
     "data": {
      "text/latex": [
       "$\\displaystyle \\text{And thus, B will send to zero, every vector that has its alpha equal to 0.}$"
      ],
      "text/plain": [
       "<IPython.core.display.Math object>"
      ]
     },
     "metadata": {},
     "output_type": "display_data"
    },
    {
     "data": {
      "text/latex": [
       "$\\displaystyle \\text{The Image space of B is the }Span\\biggl\\{\\begin{bmatrix} 1 \\\\ 0 \\end{bmatrix}\\biggl\\}                 \\quad \\longrightarrow \\quad dim = 1 \\: \\rightarrow \\: (\\text{the rank of B is the span of one vector})$"
      ],
      "text/plain": [
       "<IPython.core.display.Math object>"
      ]
     },
     "metadata": {},
     "output_type": "display_data"
    },
    {
     "data": {
      "text/latex": [
       "$\\displaystyle \\text{The Null space of B is the }Span\\biggl\\{\\begin{bmatrix} 0 \\\\ 1 \\end{bmatrix}\\biggl\\}                 \\quad \\longrightarrow \\quad dim = 1$"
      ],
      "text/plain": [
       "<IPython.core.display.Math object>"
      ]
     },
     "metadata": {},
     "output_type": "display_data"
    },
    {
     "data": {
      "text/latex": [
       "$\\displaystyle d = rank(B) + dim(Null(B)) = \\textit{2} \\quad \\longrightarrow \\quad (\\text{the full dimention } \\textit{d},                 \\text{the dimention of the entire space})$"
      ],
      "text/plain": [
       "<IPython.core.display.Math object>"
      ]
     },
     "metadata": {},
     "output_type": "display_data"
    }
   ],
   "source": [
    "display( Math('\\\\underline{Example:}') )\n",
    "display( Math('B = \\\\begin{bmatrix}1 & 0\\\\\\\\ 0 & 0 \\\\end{bmatrix}') )\n",
    "display( Math('\\\\text{What is the null space of the linear map that represented by the B matrix? What is Null(B)?}') )\n",
    "display( Math('\\\\text{B multiply by some State:}') )\n",
    "display( Math('B \\\\cdot \\\\big(\\\\; \\\\alpha \\\\cdot | 0 \\\\rangle + \\\\beta \\\\cdot | 1 \\\\rangle \\\\;\\\\big) =\\\n",
    "                \\\\begin{bmatrix}1 & 0\\\\\\\\ 0 & 0 \\\\end{bmatrix} \\\\cdot \\\n",
    "                \\\\begin{bmatrix} \\\\alpha \\\\\\\\ \\\\beta \\\\end{bmatrix} = \\\n",
    "                \\\\begin{bmatrix} 1\\\\cdot\\\\alpha + 0\\\\cdot\\\\beta \\\\\\\\ 0\\\\cdot\\\\alpha + 0\\\\cdot\\\\beta \\\\end{bmatrix} = \\\n",
    "                \\\\begin{bmatrix} \\\\alpha \\\\\\\\ 0 \\\\end{bmatrix}') )\n",
    "display( Math(\"\\\\text{B kills off the second coordinate for any input vector it gets.}\") )\n",
    "display( Math(\"\\\\text{And thus, B will send to zero, every vector that has its alpha equal to 0.}\") )\n",
    "display( Math(\"\\\\text{The Image space of B is the }Span\\\\biggl\\{\\\\begin{bmatrix} 1 \\\\\\\\ 0 \\\\end{bmatrix}\\\\biggl\\} \\\n",
    "                \\\\quad \\\\longrightarrow \\\\quad dim = 1 \\\\: \\\\rightarrow \\\\: (\\\\text{the rank of B is the span of one vector})\") )\n",
    "display( Math(\"\\\\text{The Null space of B is the }Span\\\\biggl\\{\\\\begin{bmatrix} 0 \\\\\\\\ 1 \\\\end{bmatrix}\\\\biggl\\} \\\n",
    "                \\\\quad \\\\longrightarrow \\\\quad dim = 1\") )\n",
    "\n",
    "display( Math('d = rank(B) + dim(Null(B)) = \\\\textit{2} \\\\quad \\\\longrightarrow \\\\quad (\\\\text{the full dimention } \\\\textit{d}, \\\n",
    "                \\\\text{the dimention of the entire space})') )"
   ]
  },
  {
   "cell_type": "markdown",
   "id": "65ac0f09-048a-41d1-a691-04781befe06e",
   "metadata": {},
   "source": [
    "## Matrix (linear maps) operations\n",
    "https://www.youtube.com/watch?v=lNTk9_WKvnk&list=PLZGjbQcY0aI4PB63hH_RnfnJSfNK1OojC&index=3     \n",
    "at 1:33:00"
   ]
  },
  {
   "cell_type": "code",
   "execution_count": 208,
   "id": "3bf7b512-f8ec-4565-9e94-c2cf0eba6c1d",
   "metadata": {},
   "outputs": [
    {
     "data": {
      "text/latex": [
       "$\\displaystyle \\underline{\\text{3 Linear maps:}} \\quad A^* \\:,\\: A^T  \\:,\\: A^\\dagger$"
      ],
      "text/plain": [
       "<IPython.core.display.Math object>"
      ]
     },
     "metadata": {},
     "output_type": "display_data"
    },
    {
     "data": {
      "text/latex": [
       "$\\displaystyle A^*_{(i,j)} = (A_{(i,j)})^*\\: \\rightarrow \\: \\text{Entry-wise complex conjugate}$"
      ],
      "text/plain": [
       "<IPython.core.display.Math object>"
      ]
     },
     "metadata": {},
     "output_type": "display_data"
    },
    {
     "data": {
      "text/latex": [
       "$\\displaystyle A^T_{(i,j)} = A_{(j,i)}\\: \\rightarrow \\: \\text{Transpose}$"
      ],
      "text/plain": [
       "<IPython.core.display.Math object>"
      ]
     },
     "metadata": {},
     "output_type": "display_data"
    },
    {
     "data": {
      "text/latex": [
       "$\\displaystyle A^\\dagger = (A^*)^T \\: \\rightarrow \\: \\text{Dagger or Adjoint or Hermitian conjugate}$"
      ],
      "text/plain": [
       "<IPython.core.display.Math object>"
      ]
     },
     "metadata": {},
     "output_type": "display_data"
    },
    {
     "name": "stdout",
     "output_type": "stream",
     "text": [
      "\n"
     ]
    },
    {
     "data": {
      "text/latex": [
       "$\\displaystyle \\text{Properties:}$"
      ],
      "text/plain": [
       "<IPython.core.display.Math object>"
      ]
     },
     "metadata": {},
     "output_type": "display_data"
    },
    {
     "data": {
      "text/latex": [
       "$\\displaystyle (AB)^T = B^TA^T$"
      ],
      "text/plain": [
       "<IPython.core.display.Math object>"
      ]
     },
     "metadata": {},
     "output_type": "display_data"
    },
    {
     "data": {
      "text/latex": [
       "$\\displaystyle (AB)^\\dagger = B^\\dagger A^\\dagger$"
      ],
      "text/plain": [
       "<IPython.core.display.Math object>"
      ]
     },
     "metadata": {},
     "output_type": "display_data"
    },
    {
     "data": {
      "text/latex": [
       "$\\displaystyle \\big| \\psi \\rangle ^\\dagger = \\langle \\psi \\big| $"
      ],
      "text/plain": [
       "<IPython.core.display.Math object>"
      ]
     },
     "metadata": {},
     "output_type": "display_data"
    },
    {
     "name": "stdout",
     "output_type": "stream",
     "text": [
      "\n"
     ]
    },
    {
     "data": {
      "text/latex": [
       "$\\displaystyle \\underline{Example:}$"
      ],
      "text/plain": [
       "<IPython.core.display.Math object>"
      ]
     },
     "metadata": {},
     "output_type": "display_data"
    },
    {
     "data": {
      "text/latex": [
       "$\\displaystyle A = \\begin{bmatrix}1 & 2\\\\ 3 & e^{i\\frac{\\pi}{2}} \\end{bmatrix} \\quad , \\quad                A^\\dagger = \\begin{bmatrix}1 & 3\\\\ 2 & e^{-i\\frac{\\pi}{2}} \\end{bmatrix}$"
      ],
      "text/plain": [
       "<IPython.core.display.Math object>"
      ]
     },
     "metadata": {},
     "output_type": "display_data"
    }
   ],
   "source": [
    "display( Math('\\\\underline{\\\\text{3 Linear maps:}} \\\\quad A^* \\\\:,\\\\: A^T  \\\\:,\\\\: A^\\\\dagger') )\n",
    "display( Math('A^*_{(i,j)} = (A_{(i,j)})^*\\\\: \\\\rightarrow \\\\: \\\\text{Entry-wise complex conjugate}') )\n",
    "display( Math('A^T_{(i,j)} = A_{(j,i)}\\\\: \\\\rightarrow \\\\: \\\\text{Transpose}') )\n",
    "display( Math('A^\\\\dagger = (A^*)^T \\\\: \\\\rightarrow \\\\: \\\\text{Dagger or Adjoint or Hermitian conjugate}') )\n",
    "print()\n",
    "display( Math('\\\\text{Properties:}') )\n",
    "display( Math('(AB)^T = B^TA^T') )\n",
    "display( Math('(AB)^\\\\dagger = B^\\\\dagger A^\\\\dagger') )\n",
    "display( Math('\\\\big| \\\\psi \\\\rangle ^\\\\dagger = \\\\langle \\\\psi \\\\big| ') )\n",
    "\n",
    "print()\n",
    "display( Math('\\\\underline{Example:}') )\n",
    "\n",
    "display( Math('A = \\\\begin{bmatrix}1 & 2\\\\\\\\ 3 & e^{i\\\\frac{\\\\pi}{2}} \\\\end{bmatrix} \\\\quad , \\\\quad \\\n",
    "               A^\\\\dagger = \\\\begin{bmatrix}1 & 3\\\\\\\\ 2 & e^{-i\\\\frac{\\\\pi}{2}} \\\\end{bmatrix}') )"
   ]
  },
  {
   "cell_type": "code",
   "execution_count": 236,
   "id": "390b740e-56a1-414d-9691-c8996c8760ea",
   "metadata": {},
   "outputs": [
    {
     "data": {
      "text/latex": [
       "$\\displaystyle \\underline{\\text{The Trace map}}$"
      ],
      "text/plain": [
       "<IPython.core.display.Math object>"
      ]
     },
     "metadata": {},
     "output_type": "display_data"
    },
    {
     "data": {
      "text/latex": [
       "$\\displaystyle \\text{Adds the terms in the diagonal of the matrix}$"
      ],
      "text/plain": [
       "<IPython.core.display.Math object>"
      ]
     },
     "metadata": {},
     "output_type": "display_data"
    },
    {
     "data": {
      "text/latex": [
       "$\\displaystyle Tr: \\: \\mathcal{L}\\big(\\mathbb{C^d}\\big) \\longrightarrow \\mathbb{C^d}$"
      ],
      "text/plain": [
       "<IPython.core.display.Math object>"
      ]
     },
     "metadata": {},
     "output_type": "display_data"
    },
    {
     "data": {
      "text/latex": [
       "$\\displaystyle Tr\\;\\big(A\\big) = \\sum_{i=1}^d A_{(i,i)}$"
      ],
      "text/plain": [
       "<IPython.core.display.Math object>"
      ]
     },
     "metadata": {},
     "output_type": "display_data"
    },
    {
     "data": {
      "text/latex": [
       "$\\displaystyle A = \\begin{bmatrix}a & b & c \\\\ d & f & g \\\\ h & i & j \\end{bmatrix} \\quad \\quad                 Tr\\;\\big(A\\big) = a + f + j$"
      ],
      "text/plain": [
       "<IPython.core.display.Math object>"
      ]
     },
     "metadata": {},
     "output_type": "display_data"
    },
    {
     "name": "stdout",
     "output_type": "stream",
     "text": [
      "\n"
     ]
    },
    {
     "data": {
      "text/latex": [
       "$\\displaystyle \\text{Properties:}$"
      ],
      "text/plain": [
       "<IPython.core.display.Math object>"
      ]
     },
     "metadata": {},
     "output_type": "display_data"
    },
    {
     "data": {
      "text/latex": [
       "$\\displaystyle \\underline{\\text{Trace is Cyclic:}}$"
      ],
      "text/plain": [
       "<IPython.core.display.Math object>"
      ]
     },
     "metadata": {},
     "output_type": "display_data"
    },
    {
     "data": {
      "text/latex": [
       "$\\displaystyle Tr\\;\\big(A \\cdot B \\cdot C\\big) = Tr\\;\\big(B \\cdot C \\cdot A\\big)$"
      ],
      "text/plain": [
       "<IPython.core.display.Math object>"
      ]
     },
     "metadata": {},
     "output_type": "display_data"
    },
    {
     "name": "stdout",
     "output_type": "stream",
     "text": [
      "\n"
     ]
    },
    {
     "data": {
      "text/latex": [
       "$\\displaystyle Tr\\;\\big(AB\\big) = Tr\\;\\big(BA\\big) \\quad \\text{( Even if}\\: AB \\neq BA \\:)$"
      ],
      "text/plain": [
       "<IPython.core.display.Math object>"
      ]
     },
     "metadata": {},
     "output_type": "display_data"
    }
   ],
   "source": [
    "display( Math('\\\\underline{\\\\text{The Trace map}}') )\n",
    "display( Math('\\\\text{Adds the terms in the diagonal of the matrix}') )\n",
    "display( Math('Tr: \\\\: \\\\mathcal{L}\\\\big(\\\\mathbb{C^d}\\\\big) \\\\longrightarrow \\\\mathbb{C^d}') )\n",
    "display( Math('Tr\\\\;\\\\big(A\\\\big) = \\sum_{i=1}^d A_{(i,i)}') )\n",
    "display( Math('A = \\\\begin{bmatrix}a & b & c \\\\\\\\ d & f & g \\\\\\\\ h & i & j \\\\end{bmatrix} \\\\quad \\\\quad \\\n",
    "                Tr\\\\;\\\\big(A\\\\big) = a + f + j') )\n",
    "print()\n",
    "display( Math('\\\\text{Properties:}') )\n",
    "display( Math('\\\\underline{\\\\text{Trace is Cyclic:}}') )\n",
    "display( Math('Tr\\\\;\\\\big(A \\\\cdot B \\\\cdot C\\\\big) = Tr\\\\;\\\\big(B \\\\cdot C \\\\cdot A\\\\big)') )\n",
    "print()\n",
    "display( Math('Tr\\\\;\\\\big(AB\\\\big) = Tr\\\\;\\\\big(BA\\\\big) \\\\quad \\\\text{( Even if}\\\\: AB \\\\neq BA \\\\:)') )"
   ]
  },
  {
   "cell_type": "markdown",
   "id": "23a15dbf-a8e8-4180-8891-7c065b05535e",
   "metadata": {},
   "source": [
    "# =========================================================="
   ]
  }
 ],
 "metadata": {
  "kernelspec": {
   "display_name": "Python 3 (ipykernel)",
   "language": "python",
   "name": "python3"
  },
  "language_info": {
   "codemirror_mode": {
    "name": "ipython",
    "version": 3
   },
   "file_extension": ".py",
   "mimetype": "text/x-python",
   "name": "python",
   "nbconvert_exporter": "python",
   "pygments_lexer": "ipython3",
   "version": "3.11.3"
  }
 },
 "nbformat": 4,
 "nbformat_minor": 5
}
