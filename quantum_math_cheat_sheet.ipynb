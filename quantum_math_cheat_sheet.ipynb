{
 "cells": [
  {
   "cell_type": "markdown",
   "id": "e0ef9a0d-cefa-491c-97e8-52f9a3b2bc39",
   "metadata": {},
   "source": [
    "# Quantum Computing Math Cheat Sheet"
   ]
  },
  {
   "cell_type": "code",
   "execution_count": 59,
   "id": "1881071d-9aed-4da6-8c19-083c3485e414",
   "metadata": {},
   "outputs": [],
   "source": [
    "import numpy as np\n",
    "import sympy as sym\n",
    "from IPython.display import display, Math\n",
    "import random\n",
    "import matplotlib.pyplot as plt"
   ]
  },
  {
   "cell_type": "code",
   "execution_count": 60,
   "id": "3ff8b9e1-d98f-432f-9fc9-f958341a364b",
   "metadata": {},
   "outputs": [],
   "source": [
    "sym.init_printing() # prety printing of math"
   ]
  },
  {
   "cell_type": "markdown",
   "id": "21f8881b-fcaf-4311-96a3-84e50d8d0efb",
   "metadata": {},
   "source": [
    "## Subjects\n",
    "- Complex numbers\n",
    "- Complex numbers - Polar Form   \n",
    "- Complex conjugate    \n",
    "- Magnitude     \n",
    "- Conjugate transpose   \n",
    "- Inner product   \n",
    "- Eucledian norm\n",
    "- Unit vector\n",
    "- Distance between vectors\n",
    "- Orthonormal bases\n",
    "- Computational (standard) basis"
   ]
  },
  {
   "cell_type": "code",
   "execution_count": 61,
   "id": "403a2b3a-6e8c-4a69-85bf-b6373c4c14fa",
   "metadata": {},
   "outputs": [],
   "source": [
    "# AngleAnnotation class\n",
    "# from:\n",
    "# https://matplotlib.org/stable/gallery/text_labels_and_annotations/angle_annotation.html#angleannotation-class\n",
    "\n",
    "import numpy as np\n",
    "import matplotlib.pyplot as plt\n",
    "from matplotlib.patches import Arc\n",
    "from matplotlib.transforms import IdentityTransform, TransformedBbox, Bbox\n",
    "\n",
    "\n",
    "class AngleAnnotation(Arc):\n",
    "    \"\"\"\n",
    "    Draws an arc between two vectors which appears circular in display space.\n",
    "    \"\"\"\n",
    "    def __init__(self, xy, p1, p2, size=75, unit=\"points\", ax=None,\n",
    "                 text=\"\", textposition=\"inside\", text_kw=None, **kwargs):\n",
    "        \"\"\"\n",
    "        Parameters\n",
    "        ----------\n",
    "        xy, p1, p2 : tuple or array of two floats\n",
    "            Center position and two points. Angle annotation is drawn between\n",
    "            the two vectors connecting *p1* and *p2* with *xy*, respectively.\n",
    "            Units are data coordinates.\n",
    "\n",
    "        size : float\n",
    "            Diameter of the angle annotation in units specified by *unit*.\n",
    "\n",
    "        unit : str\n",
    "            One of the following strings to specify the unit of *size*:\n",
    "\n",
    "            * \"pixels\": pixels\n",
    "            * \"points\": points, use points instead of pixels to not have a\n",
    "              dependence on the DPI\n",
    "            * \"axes width\", \"axes height\": relative units of Axes width, height\n",
    "            * \"axes min\", \"axes max\": minimum or maximum of relative Axes\n",
    "              width, height\n",
    "\n",
    "        ax : `matplotlib.axes.Axes`\n",
    "            The Axes to add the angle annotation to.\n",
    "\n",
    "        text : str\n",
    "            The text to mark the angle with.\n",
    "\n",
    "        textposition : {\"inside\", \"outside\", \"edge\"}\n",
    "            Whether to show the text in- or outside the arc. \"edge\" can be used\n",
    "            for custom positions anchored at the arc's edge.\n",
    "\n",
    "        text_kw : dict\n",
    "            Dictionary of arguments passed to the Annotation.\n",
    "\n",
    "        **kwargs\n",
    "            Further parameters are passed to `matplotlib.patches.Arc`. Use this\n",
    "            to specify, color, linewidth etc. of the arc.\n",
    "\n",
    "        \"\"\"\n",
    "        self.ax = ax or plt.gca()\n",
    "        self._xydata = xy  # in data coordinates\n",
    "        self.vec1 = p1\n",
    "        self.vec2 = p2\n",
    "        self.size = size\n",
    "        self.unit = unit\n",
    "        self.textposition = textposition\n",
    "\n",
    "        super().__init__(self._xydata, size, size, angle=0.0,\n",
    "                         theta1=self.theta1, theta2=self.theta2, **kwargs)\n",
    "\n",
    "        self.set_transform(IdentityTransform())\n",
    "        self.ax.add_patch(self)\n",
    "\n",
    "        self.kw = dict(ha=\"center\", va=\"center\",\n",
    "                       xycoords=IdentityTransform(),\n",
    "                       xytext=(0, 0), textcoords=\"offset points\",\n",
    "                       annotation_clip=True)\n",
    "        self.kw.update(text_kw or {})\n",
    "        self.text = ax.annotate(text, xy=self._center, **self.kw)\n",
    "\n",
    "    def get_size(self):\n",
    "        factor = 1.\n",
    "        if self.unit == \"points\":\n",
    "            factor = self.ax.figure.dpi / 72.\n",
    "        elif self.unit[:4] == \"axes\":\n",
    "            b = TransformedBbox(Bbox.unit(), self.ax.transAxes)\n",
    "            dic = {\"max\": max(b.width, b.height),\n",
    "                   \"min\": min(b.width, b.height),\n",
    "                   \"width\": b.width, \"height\": b.height}\n",
    "            factor = dic[self.unit[5:]]\n",
    "        return self.size * factor\n",
    "\n",
    "    def set_size(self, size):\n",
    "        self.size = size\n",
    "\n",
    "    def get_center_in_pixels(self):\n",
    "        \"\"\"return center in pixels\"\"\"\n",
    "        return self.ax.transData.transform(self._xydata)\n",
    "\n",
    "    def set_center(self, xy):\n",
    "        \"\"\"set center in data coordinates\"\"\"\n",
    "        self._xydata = xy\n",
    "\n",
    "    def get_theta(self, vec):\n",
    "        vec_in_pixels = self.ax.transData.transform(vec) - self._center\n",
    "        return np.rad2deg(np.arctan2(vec_in_pixels[1], vec_in_pixels[0]))\n",
    "\n",
    "    def get_theta1(self):\n",
    "        return self.get_theta(self.vec1)\n",
    "\n",
    "    def get_theta2(self):\n",
    "        return self.get_theta(self.vec2)\n",
    "\n",
    "    def set_theta(self, angle):\n",
    "        pass\n",
    "\n",
    "    # Redefine attributes of the Arc to always give values in pixel space\n",
    "    _center = property(get_center_in_pixels, set_center)\n",
    "    theta1 = property(get_theta1, set_theta)\n",
    "    theta2 = property(get_theta2, set_theta)\n",
    "    width = property(get_size, set_size)\n",
    "    height = property(get_size, set_size)\n",
    "\n",
    "    # The following two methods are needed to update the text position.\n",
    "    def draw(self, renderer):\n",
    "        self.update_text()\n",
    "        super().draw(renderer)\n",
    "\n",
    "    def update_text(self):\n",
    "        c = self._center\n",
    "        s = self.get_size()\n",
    "        angle_span = (self.theta2 - self.theta1) % 360\n",
    "        angle = np.deg2rad(self.theta1 + angle_span / 2)\n",
    "        r = s / 2\n",
    "        if self.textposition == \"inside\":\n",
    "            r = s / np.interp(angle_span, [60, 90, 135, 180],\n",
    "                                          [3.3, 3.5, 3.8, 4])\n",
    "        self.text.xy = c + r * np.array([np.cos(angle), np.sin(angle)])\n",
    "        if self.textposition == \"outside\":\n",
    "            def R90(a, r, w, h):\n",
    "                if a < np.arctan(h/2/(r+w/2)):\n",
    "                    return np.sqrt((r+w/2)**2 + (np.tan(a)*(r+w/2))**2)\n",
    "                else:\n",
    "                    c = np.sqrt((w/2)**2+(h/2)**2)\n",
    "                    T = np.arcsin(c * np.cos(np.pi/2 - a + np.arcsin(h/2/c))/r)\n",
    "                    xy = r * np.array([np.cos(a + T), np.sin(a + T)])\n",
    "                    xy += np.array([w/2, h/2])\n",
    "                    return np.sqrt(np.sum(xy**2))\n",
    "\n",
    "            def R(a, r, w, h):\n",
    "                aa = (a % (np.pi/4))*((a % (np.pi/2)) <= np.pi/4) + \\\n",
    "                     (np.pi/4 - (a % (np.pi/4)))*((a % (np.pi/2)) >= np.pi/4)\n",
    "                return R90(aa, r, *[w, h][::int(np.sign(np.cos(2*a)))])\n",
    "\n",
    "            bbox = self.text.get_window_extent()\n",
    "            X = R(angle, r, bbox.width, bbox.height)\n",
    "            trans = self.ax.figure.dpi_scale_trans.inverted()\n",
    "            offs = trans.transform(((X-s/2), 0))[0] * 72\n",
    "            self.text.set_position([offs*np.cos(angle), offs*np.sin(angle)])"
   ]
  },
  {
   "cell_type": "code",
   "execution_count": 100,
   "id": "c919775a-bca7-41f0-bbe3-9ed60fe1dcfe",
   "metadata": {},
   "outputs": [],
   "source": [
    "# Complex plane\n",
    "# from:\n",
    "# https://github.com/osnove/other/blob/master/complex_plane.py\n",
    "# with a few changes by me\n",
    "\n",
    "import matplotlib.pyplot as plt\n",
    "import numpy as np # dodamo še numerično knjižico \n",
    "get_ipython().run_line_magic('matplotlib', 'inline')\n",
    "\n",
    "\n",
    "def complex_plane2(z,p1=None,p2=None,angle_size=0,center=(0,0),axis_type=0, angle_position=\"edge\"):\n",
    "    \"\"\"Creates complex plane and shows complex numbers as vectors (complexors)\n",
    "    \n",
    "    Parameters\n",
    "    ----------\n",
    "    z : array of complex values\n",
    "        array of complex values to be shown\n",
    "    axis_type : int \n",
    "        three types of shapes of complex plane:\n",
    "        0 : symple\n",
    "        1 : with grid\n",
    "        2 : moved axis to middle \n",
    "    -----------------------------------\n",
    "    # Example\n",
    "    z=[20+10j,15,-10-10j,5+15j]\n",
    "    complex_plane2(z,2) \"\"\"\n",
    "\n",
    "    w=max(np.abs(z))\n",
    "    fig, ax = plt.subplots()\n",
    "        \n",
    "    if axis_type==0: \n",
    "        plt.axis(\"off\")\n",
    "        plt.text(-0.15*w, 0.8*w, \"i\", fontsize=14)\n",
    "        plt.text( 0.8*w,-0.15*w, \"ℝ\", fontsize=14)\n",
    "    elif axis_type==1: \n",
    "        plt.axis(\"on\")\n",
    "        plt.grid()\n",
    "        plt.text(-0.15*w, 0.8*w, \"i\", fontsize=14)\n",
    "        plt.text( 0.8*w,-0.15*w, 'ℝ', fontsize=14)\n",
    "    else:\n",
    "         # Move left y-axis and bottim x-axis to centre, passing through (0,0)\n",
    "        ax.spines['left'].set_position('center')\n",
    "        ax.spines['bottom'].set_position('center')\n",
    "\n",
    "        # Eliminate upper and right axes\n",
    "        ax.spines['right'].set_color('none')\n",
    "        ax.spines['top'].set_color('none')\n",
    "\n",
    "        # Show ticks in the left and lower axes only\n",
    "        ax.xaxis.set_ticks_position('bottom')\n",
    "        ax.yaxis.set_ticks_position('left')\n",
    "\n",
    "        # ax.set_xlabel('                                                 ℝ')\n",
    "        # ax.set_ylabel('                                                 i')\n",
    "        plt.text(-0.15*w, 0.8*w, \"i\", fontsize=14)\n",
    "        plt.text( 0.8*w,-0.15*w, 'ℝ', fontsize=14)\n",
    "\n",
    "    plt.xlim(-w,w)\n",
    "    plt.ylim(-w,w)\n",
    "    plt.arrow(0, -w, 0, 1.9*w, head_width=w/20, head_length=w/20, fc='k', ec='k');\n",
    "    plt.arrow(-w, 0, 1.9*w, 0, head_width=w/20, head_length=w/20, fc='k', ec='k');\n",
    "\n",
    "    for i in range(len(z)):\n",
    "        fi_a=np.angle(z[i])\n",
    "        x=z[i].real -abs(w)/20*np.cos(fi_a)\n",
    "        y=z[i].imag-abs(w)/20*np.sin(fi_a)\n",
    "        plt.arrow(0, 0, x, y, head_width=w/20, head_length=w/20, fc='b', ec='b');\n",
    "        \n",
    "              \n",
    "        # call AngleAnnotation func\n",
    "        if p2 != None or p1 != None:\n",
    "            point, = ax.plot(*center, marker=\"o\")\n",
    "            AngleAnnotation(center, p1[1], p2[1], ax=ax, size=angle_size, text=r\"$\\theta$\", textposition=angle_position)\n",
    "        "
   ]
  },
  {
   "cell_type": "markdown",
   "id": "80cba43d-ad23-47fb-80d3-91b2248e4398",
   "metadata": {},
   "source": [
    "### Complex numbers"
   ]
  },
  {
   "cell_type": "code",
   "execution_count": 63,
   "id": "1e032720-1b15-4b8a-8de4-e4b3be11109a",
   "metadata": {},
   "outputs": [
    {
     "data": {
      "text/latex": [
       "$\\displaystyle a,b \\in \\mathbb{R}$"
      ],
      "text/plain": [
       "<IPython.core.display.Math object>"
      ]
     },
     "metadata": {},
     "output_type": "display_data"
    },
    {
     "data": {
      "text/latex": [
       "$\\displaystyle c \\in \\mathbb{C}$"
      ],
      "text/plain": [
       "<IPython.core.display.Math object>"
      ]
     },
     "metadata": {},
     "output_type": "display_data"
    },
    {
     "data": {
      "text/latex": [
       "$\\displaystyle i := \\sqrt{-1}$"
      ],
      "text/plain": [
       "<IPython.core.display.Math object>"
      ]
     },
     "metadata": {},
     "output_type": "display_data"
    },
    {
     "data": {
      "text/latex": [
       "$\\displaystyle c = a + i \\cdot b$"
      ],
      "text/plain": [
       "<IPython.core.display.Math object>"
      ]
     },
     "metadata": {},
     "output_type": "display_data"
    }
   ],
   "source": [
    "display( Math('a,b \\\\in \\\\mathbb{R}') )\n",
    "display( Math('c \\\\in \\\\mathbb{C}') )\n",
    "display( Math('i := \\\\sqrt{-1}') )\n",
    "display( Math('c = a + i \\\\cdot b') )"
   ]
  },
  {
   "cell_type": "markdown",
   "id": "dd694822-e555-4f36-bf3f-7310aaf77831",
   "metadata": {},
   "source": [
    "### Complex numbers - Polar Form"
   ]
  },
  {
   "cell_type": "code",
   "execution_count": 64,
   "id": "586ebdba-8bc2-4a31-a72c-d9a6308182d8",
   "metadata": {},
   "outputs": [
    {
     "data": {
      "text/latex": [
       "$\\displaystyle r,\\theta \\in \\mathbb{R}$"
      ],
      "text/plain": [
       "<IPython.core.display.Math object>"
      ]
     },
     "metadata": {},
     "output_type": "display_data"
    },
    {
     "data": {
      "text/latex": [
       "$\\displaystyle c \\in \\mathbb{C}$"
      ],
      "text/plain": [
       "<IPython.core.display.Math object>"
      ]
     },
     "metadata": {},
     "output_type": "display_data"
    },
    {
     "data": {
      "text/latex": [
       "$\\displaystyle c = re^{i\\theta}$"
      ],
      "text/plain": [
       "<IPython.core.display.Math object>"
      ]
     },
     "metadata": {},
     "output_type": "display_data"
    }
   ],
   "source": [
    "display( Math('r,\\\\theta \\\\in \\\\mathbb{R}') )\n",
    "display( Math('c \\\\in \\\\mathbb{C}') )\n",
    "display( Math('c = re^{i\\\\theta}') )"
   ]
  },
  {
   "cell_type": "markdown",
   "id": "22accaa9-9aa7-42c4-b0e6-4bdeea728fb6",
   "metadata": {},
   "source": [
    "#### Geometric interpretation"
   ]
  },
  {
   "cell_type": "code",
   "execution_count": 65,
   "id": "caf79284-b32f-4e44-8416-4259463cbf38",
   "metadata": {},
   "outputs": [
    {
     "data": {
      "image/png": "[encoded data removed]",
      "text/plain": [
       "<Figure size 640x480 with 1 Axes>"
      ]
     },
     "metadata": {},
     "output_type": "display_data"
    }
   ],
   "source": [
    "import matplotlib.pyplot as plt\n",
    "import numpy as np # dodamo še numerično knjižico \n",
    "get_ipython().run_line_magic('matplotlib', 'inline')\n",
    "\n",
    "# params for complex_plane2 func\n",
    "z=[0.866+0.5j] # 𝜃 = 30\n",
    "\n",
    "# params for AngleAnnotation func\n",
    "center = (0, 0)\n",
    "p1 = [(0, 0), (0, 0)]\n",
    "p2 = [(0, 0), (0.3, 0.18)]\n",
    "angle_size= 95\n",
    "\n",
    "complex_plane2(z,p1,p2,angle_size,center,axis_type=1,angle_position=\"edge\")\n",
    "        \n",
    "plt.ylabel('Imaginary')\n",
    "plt.xlabel('Real')\n",
    "\n",
    "plt.text(0.45,0.3,'r')\n",
    "plt.text(0.85,0.52,'c')\n",
    "plt.show()"
   ]
  },
  {
   "cell_type": "code",
   "execution_count": 66,
   "id": "afe2d56a-837a-45eb-b9bd-5df3d74208cc",
   "metadata": {},
   "outputs": [
    {
     "data": {
      "text/latex": [
       "$\\displaystyle r,\\theta \\in \\mathbb{R}$"
      ],
      "text/plain": [
       "<IPython.core.display.Math object>"
      ]
     },
     "metadata": {},
     "output_type": "display_data"
    },
    {
     "data": {
      "text/latex": [
       "$\\displaystyle r = 1$"
      ],
      "text/plain": [
       "<IPython.core.display.Math object>"
      ]
     },
     "metadata": {},
     "output_type": "display_data"
    },
    {
     "data": {
      "text/latex": [
       "$\\displaystyle \\text{Euler's formula: } e^{i\\theta} = cos \\theta + i \\cdot sin \\theta$"
      ],
      "text/plain": [
       "<IPython.core.display.Math object>"
      ]
     },
     "metadata": {},
     "output_type": "display_data"
    }
   ],
   "source": [
    "display( Math('r,\\\\theta \\\\in \\\\mathbb{R}') )\n",
    "display( Math('r = 1') )\n",
    "display( Math(\"\\\\text{Euler's formula: } e^{i\\\\theta} = cos \\\\theta + i \\\\cdot sin \\\\theta\") )"
   ]
  },
  {
   "cell_type": "code",
   "execution_count": 67,
   "id": "09eacba5-b310-40b1-9d76-49e925651fff",
   "metadata": {},
   "outputs": [
    {
     "data": {
      "text/latex": [
       "$\\displaystyle c = r \\cdot cos \\theta + r \\cdot i \\cdot sin \\theta = r(cos \\theta + i \\cdot sin \\theta)$"
      ],
      "text/plain": [
       "<IPython.core.display.Math object>"
      ]
     },
     "metadata": {},
     "output_type": "display_data"
    },
    {
     "data": {
      "text/latex": [
       "$\\displaystyle c = re^{i\\theta}$"
      ],
      "text/plain": [
       "<IPython.core.display.Math object>"
      ]
     },
     "metadata": {},
     "output_type": "display_data"
    }
   ],
   "source": [
    "display( Math('c = r \\\\cdot cos \\\\theta + r \\\\cdot i \\\\cdot sin \\\\theta = r(cos \\\\theta + i \\\\cdot sin \\\\theta)') )\n",
    "display( Math('c = re^{i\\\\theta}') )"
   ]
  },
  {
   "cell_type": "markdown",
   "id": "4fe55fa7-c65d-471f-b9d5-f399e7167712",
   "metadata": {},
   "source": [
    "### Samples"
   ]
  },
  {
   "cell_type": "code",
   "execution_count": 68,
   "id": "fde50740-08c5-4531-b020-097ab7bf0d66",
   "metadata": {},
   "outputs": [
    {
     "data": {
      "image/png": "[encoded data removed]",
      "text/plain": [
       "<Figure size 640x480 with 1 Axes>"
      ]
     },
     "metadata": {},
     "output_type": "display_data"
    }
   ],
   "source": [
    "z=[0+1j] # 𝜃 = 𝜋/2\n",
    "\n",
    "center = (0, 0)\n",
    "p1 = [(0, 0), (30, 0)]\n",
    "p2 = [(0, 0), (0, 30)]\n",
    "angle_size= 95\n",
    "\n",
    "complex_plane2(z,p1,p2,angle_size,center,axis_type=1,angle_position=\"edge\")\n",
    "        \n",
    "plt.ylabel('Imaginary')\n",
    "plt.xlabel('Real')\n",
    "\n",
    "plt.text(0.01,0.5,'r')\n",
    "plt.text(0.04,0.9,'c')\n",
    "plt.show()"
   ]
  },
  {
   "cell_type": "code",
   "execution_count": 69,
   "id": "7c1ec801-76e8-4701-a097-d2a052e1c20f",
   "metadata": {},
   "outputs": [
    {
     "data": {
      "text/latex": [
       "$\\displaystyle e^{i \\cdot \\frac {\\pi}{2}} = i$"
      ],
      "text/plain": [
       "<IPython.core.display.Math object>"
      ]
     },
     "metadata": {},
     "output_type": "display_data"
    }
   ],
   "source": [
    "display( Math('e^{i \\\\cdot \\\\frac {\\\\pi}{2}} = i') )"
   ]
  },
  {
   "cell_type": "code",
   "execution_count": 70,
   "id": "58aabf3b-7059-4b25-a030-98ff074da97f",
   "metadata": {},
   "outputs": [
    {
     "data": {
      "text/latex": [
       "$\\displaystyle r = 1$"
      ],
      "text/plain": [
       "<IPython.core.display.Math object>"
      ]
     },
     "metadata": {},
     "output_type": "display_data"
    },
    {
     "data": {
      "text/latex": [
       "$\\displaystyle \\theta = \\frac {\\pi}{2}$"
      ],
      "text/plain": [
       "<IPython.core.display.Math object>"
      ]
     },
     "metadata": {},
     "output_type": "display_data"
    },
    {
     "data": {
      "text/latex": [
       "$\\displaystyle c = re^{i\\theta} = 1 \\cdot e^{i \\cdot \\frac {\\pi}{2}} = 1 \\cdot i = i = 0 + i \\cdot 1$"
      ],
      "text/plain": [
       "<IPython.core.display.Math object>"
      ]
     },
     "metadata": {},
     "output_type": "display_data"
    }
   ],
   "source": [
    "display( Math('r = 1') )\n",
    "display( Math('\\\\theta = \\\\frac {\\\\pi}{2}') )\n",
    "display( Math('c = re^{i\\\\theta} = 1 \\\\cdot e^{i \\\\cdot \\\\frac {\\\\pi}{2}} = 1 \\\\cdot i = i = 0 + i \\\\cdot 1') )"
   ]
  },
  {
   "cell_type": "code",
   "execution_count": 71,
   "id": "a8f47f75-22fa-49e4-a16e-94a08bd3e332",
   "metadata": {},
   "outputs": [
    {
     "data": {
      "image/png": "[encoded data removed]",
      "text/plain": [
       "<Figure size 640x480 with 1 Axes>"
      ]
     },
     "metadata": {},
     "output_type": "display_data"
    }
   ],
   "source": [
    "z=[1+0j]  # 𝜃 = 0\n",
    "\n",
    "center = (0, 0)\n",
    "p1 = [(0, 0), (1, 1)]\n",
    "p2 = [(0, 0), (1, 1)]\n",
    "angle_size= 35\n",
    "\n",
    "complex_plane2(z,p1,p2,angle_size,center,axis_type=1,angle_position=\"edge\")\n",
    "        \n",
    "plt.ylabel('Imaginary')\n",
    "plt.xlabel('Real')\n",
    "\n",
    "plt.text(0.5,0.02,'r')\n",
    "plt.text(0.9,0.05,'c')\n",
    "plt.show()"
   ]
  },
  {
   "cell_type": "code",
   "execution_count": 72,
   "id": "89acb311-e69f-496f-8c4c-8bf88f6b4ee9",
   "metadata": {},
   "outputs": [
    {
     "data": {
      "text/latex": [
       "$\\displaystyle r = 1$"
      ],
      "text/plain": [
       "<IPython.core.display.Math object>"
      ]
     },
     "metadata": {},
     "output_type": "display_data"
    },
    {
     "data": {
      "text/latex": [
       "$\\displaystyle \\theta = 0$"
      ],
      "text/plain": [
       "<IPython.core.display.Math object>"
      ]
     },
     "metadata": {},
     "output_type": "display_data"
    },
    {
     "data": {
      "text/latex": [
       "$\\displaystyle c = re^{i\\theta} = 1 \\cdot e^{i \\cdot 0} = 1 \\cdot 1 = 1 = 1 + i \\cdot 0$"
      ],
      "text/plain": [
       "<IPython.core.display.Math object>"
      ]
     },
     "metadata": {},
     "output_type": "display_data"
    }
   ],
   "source": [
    "display( Math('r = 1') )\n",
    "display( Math('\\\\theta = 0') )\n",
    "display( Math('c = re^{i\\\\theta} = 1 \\\\cdot e^{i \\\\cdot 0} = 1 \\\\cdot 1 = 1 = 1 + i \\\\cdot 0') )"
   ]
  },
  {
   "cell_type": "code",
   "execution_count": 73,
   "id": "5f243c73-de8e-416f-92d5-d07c2dc0eeab",
   "metadata": {},
   "outputs": [
    {
     "data": {
      "image/png": "[encoded data removed]",
      "text/plain": [
       "<Figure size 640x480 with 1 Axes>"
      ]
     },
     "metadata": {},
     "output_type": "display_data"
    }
   ],
   "source": [
    "z=[0.7071 + 0.7071j] # 𝜃 = 𝜋/4\n",
    "\n",
    "# params for AngleAnnotation func\n",
    "center = (0, 0)\n",
    "p1 = [(0, 0), (1.0, 0)]\n",
    "p2 = [(0, 0), (1.0, 1.0)]\n",
    "angle_size= 95\n",
    "\n",
    "complex_plane2(z,p1,p2,angle_size,center,axis_type=1,angle_position=\"edge\")\n",
    "        \n",
    "plt.ylabel('Imaginary')\n",
    "plt.xlabel('Real')\n",
    "\n",
    "plt.text(0.4,0.5,'r')\n",
    "plt.text(0.71,0.70,'c')\n",
    "plt.show()"
   ]
  },
  {
   "cell_type": "code",
   "execution_count": 74,
   "id": "876bc9ab-62d4-4674-8f3c-4547b631b8a7",
   "metadata": {},
   "outputs": [
    {
     "data": {
      "text/latex": [
       "$\\displaystyle r = 1$"
      ],
      "text/plain": [
       "<IPython.core.display.Math object>"
      ]
     },
     "metadata": {},
     "output_type": "display_data"
    },
    {
     "data": {
      "text/latex": [
       "$\\displaystyle \\theta = \\frac {\\pi}{4}$"
      ],
      "text/plain": [
       "<IPython.core.display.Math object>"
      ]
     },
     "metadata": {},
     "output_type": "display_data"
    },
    {
     "data": {
      "text/latex": [
       "$\\displaystyle c = 𝑟(𝑐𝑜𝑠\\theta + 𝑖⋅sin\\theta) = 1(\\frac{\\sqrt{2}}{2} + i⋅\\frac{\\sqrt{2}}{2}) = 0.7071 + i⋅0.7071$"
      ],
      "text/plain": [
       "<IPython.core.display.Math object>"
      ]
     },
     "metadata": {},
     "output_type": "display_data"
    },
    {
     "data": {
      "text/latex": [
       "$\\displaystyle \\text{Validate using Pythagorean theorem:  } c = \\sqrt{a^2 + b^2 }$"
      ],
      "text/plain": [
       "<IPython.core.display.Math object>"
      ]
     },
     "metadata": {},
     "output_type": "display_data"
    },
    {
     "data": {
      "text/latex": [
       "$\\displaystyle r = \\sqrt{ (r \\cdot 𝑐𝑜𝑠\\theta)^2 + (r \\cdot sin\\theta)^2} = (1 \\cdot \\frac{\\sqrt{2}}{2})^2 + (1 \\cdot \\frac{\\sqrt{2}}{2})^2 =              \\frac{1}{2} + \\frac{1}{2} = 1$"
      ],
      "text/plain": [
       "<IPython.core.display.Math object>"
      ]
     },
     "metadata": {},
     "output_type": "display_data"
    }
   ],
   "source": [
    "display( Math('r = 1') )\n",
    "display( Math('\\\\theta = \\\\frac {\\\\pi}{4}') )\n",
    "display( Math('c = 𝑟(𝑐𝑜𝑠\\\\theta + 𝑖⋅sin\\\\theta) = 1(\\\\frac{\\\\sqrt{2}}{2} + i⋅\\\\frac{\\\\sqrt{2}}{2}) = 0.7071 + i⋅0.7071') )\n",
    "display( Math('\\\\text{Validate using Pythagorean theorem:  } c = \\\\sqrt{a^2 + b^2 }') )\n",
    "display( Math('r = \\\\sqrt{ (r \\\\cdot 𝑐𝑜𝑠\\\\theta)^2 + (r \\\\cdot sin\\\\theta)^2} = (1 \\\\cdot \\\\frac{\\\\sqrt{2}}{2})^2 + (1 \\\\cdot \\\\frac{\\\\sqrt{2}}{2})^2 = \\\n",
    "             \\\\frac{1}{2} + \\\\frac{1}{2} = 1' ) )"
   ]
  },
  {
   "cell_type": "code",
   "execution_count": 75,
   "id": "de23721c-3ba3-48b7-a0dd-ecae2049eee3",
   "metadata": {},
   "outputs": [
    {
     "data": {
      "text/latex": [
       "$\\displaystyle c = re^{i\\theta} = 1 \\cdot e^{i \\cdot \\frac {\\pi}{4}} = e^{i \\cdot \\frac {\\pi}{4}} = 0.7071 + i⋅0.7071$"
      ],
      "text/plain": [
       "<IPython.core.display.Math object>"
      ]
     },
     "metadata": {},
     "output_type": "display_data"
    }
   ],
   "source": [
    "display( Math('c = re^{i\\\\theta} = 1 \\\\cdot e^{i \\\\cdot \\\\frac {\\\\pi}{4}} = e^{i \\\\cdot \\\\frac {\\\\pi}{4}} = 0.7071 + i⋅0.7071') )"
   ]
  },
  {
   "cell_type": "code",
   "execution_count": 76,
   "id": "a922ca25-bfde-4ce3-a403-80af23bbf6b4",
   "metadata": {},
   "outputs": [
    {
     "data": {
      "image/png": "[encoded data removed]",
      "text/plain": [
       "<Figure size 640x480 with 1 Axes>"
      ]
     },
     "metadata": {},
     "output_type": "display_data"
    }
   ],
   "source": [
    "z=[-1+0j]  # 𝜃 = 𝜋\n",
    "\n",
    "center = (0, 0)\n",
    "p1 = [(0, 0), (1, 1)]\n",
    "p2 = [(0, 0), (1, 1)]\n",
    "angle_size= 35\n",
    "\n",
    "complex_plane2(z,p1,p2,angle_size,center,axis_type=1,angle_position=\"edge\")\n",
    "        \n",
    "plt.ylabel('Imaginary')\n",
    "plt.xlabel('Real')\n",
    "\n",
    "plt.text(0.5,0.02,'r')\n",
    "plt.text(-0.98,0.05,'c')\n",
    "plt.show()"
   ]
  },
  {
   "cell_type": "code",
   "execution_count": 77,
   "id": "0ca9db1b-a0be-4014-a23f-ebceb9c81ad2",
   "metadata": {},
   "outputs": [
    {
     "data": {
      "text/latex": [
       "$\\displaystyle e^{i \\cdot \\pi} = -1$"
      ],
      "text/plain": [
       "<IPython.core.display.Math object>"
      ]
     },
     "metadata": {},
     "output_type": "display_data"
    }
   ],
   "source": [
    "display( Math('e^{i \\\\cdot \\\\pi} = -1') )"
   ]
  },
  {
   "cell_type": "code",
   "execution_count": 78,
   "id": "0c53b7a8-f52a-4827-9efa-c577fffe9e31",
   "metadata": {},
   "outputs": [
    {
     "data": {
      "text/latex": [
       "$\\displaystyle r = 1$"
      ],
      "text/plain": [
       "<IPython.core.display.Math object>"
      ]
     },
     "metadata": {},
     "output_type": "display_data"
    },
    {
     "data": {
      "text/latex": [
       "$\\displaystyle \\theta = \\pi$"
      ],
      "text/plain": [
       "<IPython.core.display.Math object>"
      ]
     },
     "metadata": {},
     "output_type": "display_data"
    },
    {
     "data": {
      "text/latex": [
       "$\\displaystyle c = re^{i\\theta} = 1 \\cdot e^{i \\cdot \\pi} = 1 \\cdot -1 = -1 = -1 + i \\cdot 0$"
      ],
      "text/plain": [
       "<IPython.core.display.Math object>"
      ]
     },
     "metadata": {},
     "output_type": "display_data"
    }
   ],
   "source": [
    "display( Math('r = 1') )\n",
    "display( Math('\\\\theta = \\\\pi') )\n",
    "display( Math('c = re^{i\\\\theta} = 1 \\\\cdot e^{i \\\\cdot \\\\pi} = 1 \\\\cdot -1 = -1 = -1 + i \\\\cdot 0') )"
   ]
  },
  {
   "cell_type": "code",
   "execution_count": 79,
   "id": "6388f50d-6c28-4bee-9040-eb4bd54030e7",
   "metadata": {},
   "outputs": [
    {
     "data": {
      "image/png": "[encoded data removed]",
      "text/plain": [
       "<Figure size 640x480 with 1 Axes>"
      ]
     },
     "metadata": {},
     "output_type": "display_data"
    }
   ],
   "source": [
    "z=[0+ (-1j)]  # 𝜃 = 3𝜋/2\n",
    "\n",
    "center = (0, 0)\n",
    "p1 = [(0, 0), (1, 1)]\n",
    "p2 = [(0, 0), (1, 1)]\n",
    "angle_size= 35\n",
    "\n",
    "complex_plane2(z,p1,p2,angle_size,center,axis_type=1,angle_position=\"edge\")\n",
    "        \n",
    "plt.ylabel('Imaginary')\n",
    "plt.xlabel('Real')\n",
    "\n",
    "plt.text(0.5,0.02,'r')\n",
    "plt.text(0.02,-0.95,'c')\n",
    "plt.show()"
   ]
  },
  {
   "cell_type": "code",
   "execution_count": 80,
   "id": "e5ffdb27-4bfa-4dc9-8847-ec4d335d54e3",
   "metadata": {},
   "outputs": [
    {
     "data": {
      "text/latex": [
       "$\\displaystyle 𝑐𝑜𝑠(3\\frac{\\pi}{2}) = 0$"
      ],
      "text/plain": [
       "<IPython.core.display.Math object>"
      ]
     },
     "metadata": {},
     "output_type": "display_data"
    },
    {
     "data": {
      "text/latex": [
       "$\\displaystyle sin(3\\frac{\\pi}{2}) = -1$"
      ],
      "text/plain": [
       "<IPython.core.display.Math object>"
      ]
     },
     "metadata": {},
     "output_type": "display_data"
    }
   ],
   "source": [
    "display( Math('𝑐𝑜𝑠(3\\\\frac{\\\\pi}{2}) = 0') )\n",
    "display( Math('sin(3\\\\frac{\\\\pi}{2}) = -1') )"
   ]
  },
  {
   "cell_type": "code",
   "execution_count": 81,
   "id": "e640c9ac-ab75-42d4-96bd-77caf5a753d9",
   "metadata": {},
   "outputs": [
    {
     "data": {
      "text/latex": [
       "$\\displaystyle e^{i \\cdot \\frac {3 \\cdot \\pi}{2}} = 𝑐𝑜𝑠(3\\frac{\\pi}{2}) + i \\cdot sin(3\\frac{\\pi}{2}) = 0 + i\\cdot(-1) = -i$"
      ],
      "text/plain": [
       "<IPython.core.display.Math object>"
      ]
     },
     "metadata": {},
     "output_type": "display_data"
    }
   ],
   "source": [
    "display( Math('e^{i \\\\cdot \\\\frac {3 \\\\cdot \\\\pi}{2}} = 𝑐𝑜𝑠(3\\\\frac{\\\\pi}{2}) + i \\\\cdot sin(3\\\\frac{\\\\pi}{2}) = 0 + i\\\\cdot(-1) = -i') )"
   ]
  },
  {
   "cell_type": "code",
   "execution_count": 82,
   "id": "0bc16267-8307-4f63-a64f-823e87ab9f4e",
   "metadata": {},
   "outputs": [
    {
     "data": {
      "text/latex": [
       "$\\displaystyle r = 1$"
      ],
      "text/plain": [
       "<IPython.core.display.Math object>"
      ]
     },
     "metadata": {},
     "output_type": "display_data"
    },
    {
     "data": {
      "text/latex": [
       "$\\displaystyle \\theta = \\frac {3 \\cdot \\pi}{2}$"
      ],
      "text/plain": [
       "<IPython.core.display.Math object>"
      ]
     },
     "metadata": {},
     "output_type": "display_data"
    },
    {
     "data": {
      "text/latex": [
       "$\\displaystyle c = re^{i\\theta} = 1 \\cdot e^{i \\cdot \\frac {3 \\cdot \\pi}{2}} = 1 \\cdot -i = -i = 0 + i \\cdot -1$"
      ],
      "text/plain": [
       "<IPython.core.display.Math object>"
      ]
     },
     "metadata": {},
     "output_type": "display_data"
    }
   ],
   "source": [
    "display( Math('r = 1') )\n",
    "display( Math('\\\\theta = \\\\frac {3 \\\\cdot \\\\pi}{2}') )\n",
    "display( Math('c = re^{i\\\\theta} = 1 \\\\cdot e^{i \\\\cdot \\\\frac {3 \\\\cdot \\\\pi}{2}} = 1 \\\\cdot -i = -i = 0 + i \\\\cdot -1') )"
   ]
  },
  {
   "cell_type": "markdown",
   "id": "21caf4b0-af75-4610-9024-9e8302f5b24b",
   "metadata": {},
   "source": [
    "### Complex conjugate"
   ]
  },
  {
   "cell_type": "code",
   "execution_count": 83,
   "id": "d74bd0c1-b9b1-4c2e-9e30-62f25a1ca8e7",
   "metadata": {},
   "outputs": [
    {
     "data": {
      "text/latex": [
       "$\\displaystyle a,b \\in \\mathbb{R}$"
      ],
      "text/plain": [
       "<IPython.core.display.Math object>"
      ]
     },
     "metadata": {},
     "output_type": "display_data"
    },
    {
     "data": {
      "text/latex": [
       "$\\displaystyle c \\in \\mathbb{C}$"
      ],
      "text/plain": [
       "<IPython.core.display.Math object>"
      ]
     },
     "metadata": {},
     "output_type": "display_data"
    },
    {
     "data": {
      "text/latex": [
       "$\\displaystyle c = a+i \\cdot b$"
      ],
      "text/plain": [
       "<IPython.core.display.Math object>"
      ]
     },
     "metadata": {},
     "output_type": "display_data"
    },
    {
     "data": {
      "text/latex": [
       "$\\displaystyle c^* = a-i \\cdot b$"
      ],
      "text/plain": [
       "<IPython.core.display.Math object>"
      ]
     },
     "metadata": {},
     "output_type": "display_data"
    }
   ],
   "source": [
    "display( Math('a,b \\\\in \\\\mathbb{R}') )\n",
    "display( Math('c \\\\in \\\\mathbb{C}') )\n",
    "display( Math('c = a+i \\\\cdot b') )\n",
    "display( Math('c^* = a-i \\\\cdot b') )"
   ]
  },
  {
   "cell_type": "code",
   "execution_count": 84,
   "id": "7c3507e1-cc78-4c9c-a243-c7c99f47c9e1",
   "metadata": {},
   "outputs": [
    {
     "data": {
      "text/latex": [
       "$\\displaystyle c = re^{i\\theta}$"
      ],
      "text/plain": [
       "<IPython.core.display.Math object>"
      ]
     },
     "metadata": {},
     "output_type": "display_data"
    },
    {
     "data": {
      "text/latex": [
       "$\\displaystyle c^* = re^{-i\\theta}$"
      ],
      "text/plain": [
       "<IPython.core.display.Math object>"
      ]
     },
     "metadata": {},
     "output_type": "display_data"
    }
   ],
   "source": [
    "display( Math('c = re^{i\\\\theta}') )\n",
    "display( Math('c^* = re^{-i\\\\theta}') )"
   ]
  },
  {
   "cell_type": "markdown",
   "id": "c0661618-cdf5-4866-96ae-38f03475227c",
   "metadata": {},
   "source": [
    "### Magnitude of a complex number"
   ]
  },
  {
   "cell_type": "code",
   "execution_count": 85,
   "id": "f373e3f1-a288-4d06-8ba5-89e62faa13f7",
   "metadata": {},
   "outputs": [
    {
     "data": {
      "text/latex": [
       "$\\displaystyle \\text{Magnitude of a real number: }$"
      ],
      "text/plain": [
       "<IPython.core.display.Math object>"
      ]
     },
     "metadata": {},
     "output_type": "display_data"
    },
    {
     "data": {
      "text/latex": [
       "$\\displaystyle r \\in \\mathbb{R} \\rightarrow |r| \\in \\mathbb{R^+}$"
      ],
      "text/plain": [
       "<IPython.core.display.Math object>"
      ]
     },
     "metadata": {},
     "output_type": "display_data"
    },
    {
     "data": {
      "text/latex": [
       "$\\displaystyle |r| = \\sqrt{r^2}$"
      ],
      "text/plain": [
       "<IPython.core.display.Math object>"
      ]
     },
     "metadata": {},
     "output_type": "display_data"
    }
   ],
   "source": [
    "display( Math('\\\\text{Magnitude of a real number: }') )\n",
    "display( Math('r \\\\in \\\\mathbb{R} \\\\rightarrow |r| \\\\in \\\\mathbb{R^+}') )\n",
    "display( Math('|r| = \\\\sqrt{r^2}') )"
   ]
  },
  {
   "cell_type": "markdown",
   "id": "704a6cce-ace9-4252-a7eb-3d55657839fa",
   "metadata": {},
   "source": [
    "Magnitude should be a Real non-negative number."
   ]
  },
  {
   "cell_type": "code",
   "execution_count": 86,
   "id": "b27cdefa-3636-4528-9329-13c0ed87b637",
   "metadata": {},
   "outputs": [
    {
     "data": {
      "text/latex": [
       "$\\displaystyle \\text{Magnitude of a complex number: }$"
      ],
      "text/plain": [
       "<IPython.core.display.Math object>"
      ]
     },
     "metadata": {},
     "output_type": "display_data"
    },
    {
     "data": {
      "text/latex": [
       "$\\displaystyle c \\in \\mathbb{C} \\rightarrow |c| \\in \\mathbb{R^+}$"
      ],
      "text/plain": [
       "<IPython.core.display.Math object>"
      ]
     },
     "metadata": {},
     "output_type": "display_data"
    },
    {
     "data": {
      "text/latex": [
       "$\\displaystyle |c| = \\sqrt{c \\cdot c^*}$"
      ],
      "text/plain": [
       "<IPython.core.display.Math object>"
      ]
     },
     "metadata": {},
     "output_type": "display_data"
    },
    {
     "data": {
      "text/latex": [
       "$\\displaystyle |c|^2 = c \\cdot c^*$"
      ],
      "text/plain": [
       "<IPython.core.display.Math object>"
      ]
     },
     "metadata": {},
     "output_type": "display_data"
    },
    {
     "data": {
      "text/latex": [
       "$\\displaystyle c \\cdot c^* = (a + i \\cdot b)(a - i \\cdot b) = a - i^2 \\cdot b^2 = a^2 + b^2 \\rightarrow \\: \\in \\mathbb{R} \\text{ non-negative}$"
      ],
      "text/plain": [
       "<IPython.core.display.Math object>"
      ]
     },
     "metadata": {},
     "output_type": "display_data"
    }
   ],
   "source": [
    "display( Math('\\\\text{Magnitude of a complex number: }') )\n",
    "display( Math('c \\\\in \\\\mathbb{C} \\\\rightarrow |c| \\\\in \\\\mathbb{R^+}') )\n",
    "display( Math('|c| = \\\\sqrt{c \\\\cdot c^*}') )\n",
    "display( Math('|c|^2 = c \\\\cdot c^*') )\n",
    "display( Math('c \\\\cdot c^* = (a + i \\\\cdot b)(a - i \\\\cdot b) = a - i^2 \\\\cdot b^2 = a^2 + b^2 \\\\rightarrow \\\\: \\\\in \\\\mathbb{R} \\\\text{ non-negative}') )"
   ]
  },
  {
   "cell_type": "markdown",
   "id": "35abe22c-2eca-4201-be22-114935d4222c",
   "metadata": {},
   "source": [
    "##### Example:"
   ]
  },
  {
   "cell_type": "code",
   "execution_count": 87,
   "id": "98697ed8-d0a1-462f-93f8-ac76ccbd7b46",
   "metadata": {},
   "outputs": [
    {
     "data": {
      "text/latex": [
       "$\\displaystyle c = 3 + 4i$"
      ],
      "text/plain": [
       "<IPython.core.display.Math object>"
      ]
     },
     "metadata": {},
     "output_type": "display_data"
    },
    {
     "data": {
      "text/latex": [
       "$\\displaystyle |c| = \\sqrt{(3+4i)(3-4i)} = \\sqrt{9-12i + 12i - 16i^2} = \\sqrt{9 - (16i^2)} = \\sqrt{9 - (-16)} = \\sqrt{25} = 5$"
      ],
      "text/plain": [
       "<IPython.core.display.Math object>"
      ]
     },
     "metadata": {},
     "output_type": "display_data"
    },
    {
     "data": {
      "text/latex": [
       "$\\displaystyle |c|^2 = c \\cdot c^* = 25$"
      ],
      "text/plain": [
       "<IPython.core.display.Math object>"
      ]
     },
     "metadata": {},
     "output_type": "display_data"
    }
   ],
   "source": [
    "display( Math('c = 3 + 4i') )\n",
    "display( Math('|c| = \\\\sqrt{(3+4i)(3-4i)} = \\\\sqrt{9-12i + 12i - 16i^2} = \\\\sqrt{9 - (16i^2)} = \\\\sqrt{9 - (-16)} = \\\\sqrt{25} = 5') )\n",
    "display( Math('|c|^2 = c \\\\cdot c^* = 25') )"
   ]
  },
  {
   "cell_type": "code",
   "execution_count": 88,
   "id": "4d6dcdb7-0fee-40dc-b87f-1c337c5aac69",
   "metadata": {},
   "outputs": [
    {
     "data": {
      "image/png": "[encoded data removed]",
      "text/plain": [
       "<Figure size 640x480 with 1 Axes>"
      ]
     },
     "metadata": {},
     "output_type": "display_data"
    }
   ],
   "source": [
    "import matplotlib.pyplot as plt\n",
    "import numpy as np # dodamo še numerično knjižico \n",
    "get_ipython().run_line_magic('matplotlib', 'inline')\n",
    "\n",
    "# params for complex_plane2 func\n",
    "z=[0.866+0.5j] # 𝜃 = 30\n",
    "\n",
    "# params for AngleAnnotation func\n",
    "center = (0, 0)\n",
    "p1 = [(0, 0), (0, 0)]\n",
    "p2 = [(0, 0), (0.3, 0.18)]\n",
    "angle_size= 95\n",
    "\n",
    "complex_plane2(z,p1,p2,angle_size,center,axis_type=1,angle_position=\"edge\")\n",
    "        \n",
    "plt.ylabel('Imaginary')\n",
    "plt.xlabel('Real')\n",
    "\n",
    "plt.text(0.45,0.3,'r')\n",
    "plt.text(0.85,0.52,'c')\n",
    "plt.show()"
   ]
  },
  {
   "cell_type": "markdown",
   "id": "dec9ca93-92f3-419c-9a45-175bbb968047",
   "metadata": {},
   "source": [
    "The magnitude of a vector *c* is *r* which is the length of the *c* vector."
   ]
  },
  {
   "cell_type": "code",
   "execution_count": 89,
   "id": "72a8d546-f3fc-482f-9f20-820df2c976b1",
   "metadata": {},
   "outputs": [
    {
     "data": {
      "text/latex": [
       "$\\displaystyle |c| = \\sqrt{c \\cdot c^*}$"
      ],
      "text/plain": [
       "<IPython.core.display.Math object>"
      ]
     },
     "metadata": {},
     "output_type": "display_data"
    },
    {
     "data": {
      "text/latex": [
       "$\\displaystyle c = re^{i\\theta}$"
      ],
      "text/plain": [
       "<IPython.core.display.Math object>"
      ]
     },
     "metadata": {},
     "output_type": "display_data"
    },
    {
     "data": {
      "text/latex": [
       "$\\displaystyle c^* = re^{-i\\theta}$"
      ],
      "text/plain": [
       "<IPython.core.display.Math object>"
      ]
     },
     "metadata": {},
     "output_type": "display_data"
    },
    {
     "data": {
      "text/latex": [
       "$\\displaystyle |c| = |re^{i\\theta}| = \\sqrt{re^{i\\theta} \\cdot re^{-i\\theta}} = \\sqrt{r^2e^{i(\\theta - \\theta)}} = \\sqrt{r^2e^{i \\cdot 0}} = \\sqrt{r^2} = |r|$"
      ],
      "text/plain": [
       "<IPython.core.display.Math object>"
      ]
     },
     "metadata": {},
     "output_type": "display_data"
    }
   ],
   "source": [
    "display( Math('|c| = \\\\sqrt{c \\\\cdot c^*}') )\n",
    "display( Math('c = re^{i\\\\theta}') )\n",
    "display( Math('c^* = re^{-i\\\\theta}') )\n",
    "display( Math('|c| = |re^{i\\\\theta}| = \\\\sqrt{re^{i\\\\theta} \\\\cdot re^{-i\\\\theta}} = \\\n",
    "\\\\sqrt{r^2e^{i(\\\\theta - \\\\theta)}} = \\\\sqrt{r^2e^{i \\\\cdot 0}} = \\\\sqrt{r^2} = |r|') )"
   ]
  },
  {
   "cell_type": "markdown",
   "id": "b9c09ff4-fc0b-4165-9d34-8978de9602b5",
   "metadata": {},
   "source": [
    "### Braket notation"
   ]
  },
  {
   "cell_type": "code",
   "execution_count": 90,
   "id": "cfc16faa-d65a-41c6-b0ea-7394c0d9bfd6",
   "metadata": {},
   "outputs": [
    {
     "data": {
      "text/latex": [
       "$\\displaystyle | \\psi \\rangle \\: , \\: \\langle \\psi |$"
      ],
      "text/plain": [
       "<IPython.core.display.Math object>"
      ]
     },
     "metadata": {},
     "output_type": "display_data"
    }
   ],
   "source": [
    "display( Math('| \\\\psi \\\\rangle \\\\: , \\\\: \\langle \\\\psi |') )"
   ]
  },
  {
   "cell_type": "code",
   "execution_count": 91,
   "id": "e9e401f6-c6b1-4669-9c21-336188676a50",
   "metadata": {},
   "outputs": [
    {
     "data": {
      "text/latex": [
       "$\\displaystyle | \\psi \\rangle \\text{  - ket is a column vector } $"
      ],
      "text/plain": [
       "<IPython.core.display.Math object>"
      ]
     },
     "metadata": {},
     "output_type": "display_data"
    },
    {
     "data": {
      "text/latex": [
       "$\\displaystyle | \\psi \\rangle = \\left[\\begin{matrix}𝜓_{1}\\\\𝜓_{2}\\\\𝜓_{3}\\\\𝜓_{d}\\end{matrix}\\right]\\in \\mathbb{C^d}$"
      ],
      "text/plain": [
       "<IPython.core.display.Math object>"
      ]
     },
     "metadata": {},
     "output_type": "display_data"
    }
   ],
   "source": [
    "v= np.array(['𝜓_1','𝜓_2','𝜓_3','𝜓_d'])\n",
    "display( Math('| \\\\psi \\\\rangle \\\\text{  - ket is a column vector } ') )\n",
    "v.shape = (4,1)\n",
    "display( Math('| \\\\psi \\\\rangle = ' + sym.latex(sym.sympify(v)) + '\\\\in \\\\mathbb{C^d}') )"
   ]
  },
  {
   "cell_type": "code",
   "execution_count": 92,
   "id": "65a90fb6-6fc7-44e8-89e3-6603bdceff52",
   "metadata": {},
   "outputs": [
    {
     "data": {
      "text/latex": [
       "$\\displaystyle \\langle \\psi | \\text{  - bra is a row vector } $"
      ],
      "text/plain": [
       "<IPython.core.display.Math object>"
      ]
     },
     "metadata": {},
     "output_type": "display_data"
    },
    {
     "data": {
      "text/latex": [
       "$\\displaystyle \\langle \\psi | = \\left[\\left[\\begin{matrix}𝜓_{1} & 𝜓_{2} & 𝜓_{3} & 𝜓_{d}\\end{matrix}\\right]\\right]\\in \\mathbb{C^d}$"
      ],
      "text/plain": [
       "<IPython.core.display.Math object>"
      ]
     },
     "metadata": {},
     "output_type": "display_data"
    }
   ],
   "source": [
    "display( Math('\\langle \\\\psi | \\\\text{  - bra is a row vector } ') )\n",
    "v.shape = (1,4)\n",
    "display( Math('\\langle \\\\psi | = ' + sym.latex(sym.sympify(v)) + '\\\\in \\\\mathbb{C^d}') )"
   ]
  },
  {
   "cell_type": "markdown",
   "id": "926e4395-b266-48dd-ab0a-a42c001ce3cc",
   "metadata": {},
   "source": [
    "### Conjugate Transpose"
   ]
  },
  {
   "cell_type": "code",
   "execution_count": 93,
   "id": "a36747dd-8c24-4579-9826-b29828f68861",
   "metadata": {},
   "outputs": [
    {
     "data": {
      "text/latex": [
       "$\\displaystyle | \\psi \\rangle = \\left[\\begin{matrix}𝜓_{1}\\\\𝜓_{2}\\\\𝜓_{3}\\\\𝜓_{d}\\end{matrix}\\right]\\in \\mathbb{C^d}$"
      ],
      "text/plain": [
       "<IPython.core.display.Math object>"
      ]
     },
     "metadata": {},
     "output_type": "display_data"
    },
    {
     "data": {
      "text/latex": [
       "$\\displaystyle (| \\psi \\rangle ^*)^T = \\langle \\psi | = [𝜓_1^* \\; 𝜓_2^* \\; 𝜓_3^* \\; 𝜓_4^* \\: ... \\: 𝜓_d^*] \\left[\\begin{matrix}𝜓_{1}\\\\𝜓_{2}\\\\𝜓_{3}\\\\𝜓_{d}\\end{matrix}\\right]$"
      ],
      "text/plain": [
       "<IPython.core.display.Math object>"
      ]
     },
     "metadata": {},
     "output_type": "display_data"
    }
   ],
   "source": [
    "v= np.array(['𝜓_1','𝜓_2','𝜓_3','𝜓_d'])\n",
    "v.shape = (4,1)\n",
    "display( Math('| \\\\psi \\\\rangle = ' + sym.latex(sym.sympify(v)) + '\\\\in \\\\mathbb{C^d}') )\n",
    "\n",
    "v_ct= np.array(['𝜓_1^*','𝜓_2^*','𝜓_3^*','𝜓_d^*'])\n",
    "display( Math('(| \\\\psi \\\\rangle ^*)^T = \\langle \\\\psi | = [𝜓_1^* \\\\; 𝜓_2^* \\\\; 𝜓_3^* \\\\; 𝜓_4^* \\\\: ... \\\\: 𝜓_d^*] ' + sym.latex(sym.sympify(v)) ))"
   ]
  },
  {
   "cell_type": "markdown",
   "id": "f7a709ab-761f-47ca-9390-aa5d56e14d09",
   "metadata": {},
   "source": [
    "Complex conjugate of the vector's entries"
   ]
  },
  {
   "cell_type": "markdown",
   "id": "59737235-0487-475a-9c89-966cb63d6c0c",
   "metadata": {},
   "source": [
    "### Inner product\n",
    "#### How similar two vectors are\n",
    "An inner product of two vectors is the overlap between the two vectors (the projection of one onto the other)."
   ]
  },
  {
   "cell_type": "code",
   "execution_count": 94,
   "id": "0479274f-4e3d-49ba-9947-2f22c2556410",
   "metadata": {},
   "outputs": [
    {
     "data": {
      "text/latex": [
       "$\\displaystyle \\langle \\psi | \\theta \\rangle = \\sum_{i=1}^{d} (\\psi_i^*) \\theta_i = [𝜓_1^* \\; 𝜓_2^* \\; 𝜓_3^* \\; 𝜓_4^* \\: ... \\: 𝜓_d^*] \\left[\\begin{matrix}𝜃_{1}\\\\𝜃_{2}\\\\𝜃_{3}\\\\𝜃_{d}\\end{matrix}\\right] = c \\in \\mathbb{C^d}$"
      ],
      "text/plain": [
       "<IPython.core.display.Math object>"
      ]
     },
     "metadata": {},
     "output_type": "display_data"
    }
   ],
   "source": [
    "v_theta= np.array(['𝜃_1','𝜃_2','𝜃_3','𝜃_d'])\n",
    "v_theta.shape = (4,1)\n",
    "display( Math('\\langle \\\\psi | \\\\theta \\\\rangle = \\sum_{i=1}^{d} (\\\\psi_i^*) \\\\theta_i = [𝜓_1^* \\\\; 𝜓_2^* \\\\; 𝜓_3^* \\\\; 𝜓_4^* \\\\: ... \\\\: 𝜓_d^*] '\\\n",
    "              + sym.latex(sym.sympify(v_theta)) + ' = c \\\\in \\\\mathbb{C^d}') )"
   ]
  },
  {
   "cell_type": "code",
   "execution_count": 95,
   "id": "611e7dcc-1928-4cce-9b2a-8e5b4e71d5a6",
   "metadata": {},
   "outputs": [
    {
     "data": {
      "text/latex": [
       "$\\displaystyle \\langle \\psi | \\theta \\rangle = \\langle \\theta | \\psi \\rangle^* = c \\in \\mathbb{C^d}$"
      ],
      "text/plain": [
       "<IPython.core.display.Math object>"
      ]
     },
     "metadata": {},
     "output_type": "display_data"
    }
   ],
   "source": [
    "display( Math('\\langle \\\\psi | \\\\theta \\\\rangle = \\langle \\\\theta | \\\\psi \\\\rangle^* = c \\\\in \\\\mathbb{C^d}') )"
   ]
  },
  {
   "cell_type": "code",
   "execution_count": 186,
   "id": "cc58d044-0d51-4138-885a-681c0fbb31e2",
   "metadata": {},
   "outputs": [
    {
     "data": {
      "image/png": "[encoded data removed]",
      "text/plain": [
       "<Figure size 640x480 with 1 Axes>"
      ]
     },
     "metadata": {},
     "output_type": "display_data"
    }
   ],
   "source": [
    "z2=[1+0j,0.7071 + 0.7071j, 0.7 + 0.0j] # 0, 𝜋/4\n",
    "complex_plane2(z2, axis_type=1)\n",
    "\n",
    "plt.text(0.7,0.73,'c1')\n",
    "plt.text(0.9,0.06,'c2')\n",
    "plt.text(0.65,0.06,'v')\n",
    "plt.text(0.05,-0.2,'v is the inner product \\n of C1 and C2')\n",
    "plt.show()"
   ]
  },
  {
   "cell_type": "markdown",
   "id": "20f8371f-619e-4694-8d5b-95fc4f993216",
   "metadata": {},
   "source": [
    "### Euclidean norm\n",
    "#### Length of a vector\n",
    "The overlap of a vector with itself, a non negative real number."
   ]
  },
  {
   "cell_type": "code",
   "execution_count": 218,
   "id": "58fc536e-04aa-45c1-80ac-e700988023bf",
   "metadata": {},
   "outputs": [
    {
     "data": {
      "text/latex": [
       "$\\displaystyle \\text{As we computed the length of a complex number: }|c| = \\sqrt{c \\cdot c^*}$"
      ],
      "text/plain": [
       "<IPython.core.display.Math object>"
      ]
     },
     "metadata": {},
     "output_type": "display_data"
    }
   ],
   "source": [
    "display( Math('\\\\text{As we computed the length of a complex number: }|c| = \\\\sqrt{c \\\\cdot c^*}') )"
   ]
  },
  {
   "cell_type": "code",
   "execution_count": 219,
   "id": "380d41c5-78b2-43a9-8263-16e527cd99a8",
   "metadata": {},
   "outputs": [
    {
     "data": {
      "text/latex": [
       "$\\displaystyle || \\: | \\psi \\rangle \\: ||_2 = \\sqrt {\\langle \\psi | \\psi \\rangle}$"
      ],
      "text/plain": [
       "<IPython.core.display.Math object>"
      ]
     },
     "metadata": {},
     "output_type": "display_data"
    }
   ],
   "source": [
    "display( Math('|| \\\\: | \\\\psi \\\\rangle \\\\: ||_2 = \\\\sqrt {\\langle \\\\psi | \\\\psi \\\\rangle}') )"
   ]
  },
  {
   "cell_type": "code",
   "execution_count": 231,
   "id": "b1816715-0ec9-46ee-b3bc-9789725ec4ea",
   "metadata": {},
   "outputs": [
    {
     "name": "stdout",
     "output_type": "stream",
     "text": [
      "\n",
      "Example using a unit vector:\n",
      "An inner product of a vector with itself (the overlap with itself).\n",
      "The norm (length) of a unit vector is 1.\n",
      "\n"
     ]
    },
    {
     "data": {
      "text/latex": [
       "$\\displaystyle \\frac {1}{\\sqrt{2}} \\text{ is a normalization factor}$"
      ],
      "text/plain": [
       "<IPython.core.display.Math object>"
      ]
     },
     "metadata": {},
     "output_type": "display_data"
    },
    {
     "data": {
      "text/latex": [
       "$\\displaystyle | \\psi \\rangle = \\frac {1}{\\sqrt{2}}\\left[\\begin{matrix}1\\\\i\\end{matrix}\\right]\\in \\mathbb{C^2}$"
      ],
      "text/plain": [
       "<IPython.core.display.Math object>"
      ]
     },
     "metadata": {},
     "output_type": "display_data"
    },
    {
     "data": {
      "text/latex": [
       "$\\displaystyle \\langle \\psi | = (| \\psi \\rangle^*)^T = \\frac {1}{\\sqrt{2}}\\left[\\left[\\begin{matrix}1 & - i\\end{matrix}\\right]\\right]\\in \\mathbb{C^2}$"
      ],
      "text/plain": [
       "<IPython.core.display.Math object>"
      ]
     },
     "metadata": {},
     "output_type": "display_data"
    },
    {
     "data": {
      "text/latex": [
       "$\\displaystyle || \\: | \\psi \\rangle \\: ||_2 = \\sqrt {\\langle \\psi | \\psi \\rangle} = \\sqrt {\\frac {1}{\\sqrt{2}}(\\left[\\left[\\begin{matrix}1 & - i\\end{matrix}\\right]\\right]) \\frac {1}{\\sqrt{2}}(\\left[\\begin{matrix}1\\\\i\\end{matrix}\\right])}  = \\frac {1}{\\sqrt{2}} \\sqrt{1 + (-i)i} = \\frac {1}{\\sqrt{2}} \\sqrt{1 + (-(-1)} = \\frac {1}{\\sqrt{2}} \\sqrt{2} = 1$"
      ],
      "text/plain": [
       "<IPython.core.display.Math object>"
      ]
     },
     "metadata": {},
     "output_type": "display_data"
    }
   ],
   "source": [
    "print('\\nExample using a unit vector:\\nAn inner product of a vector with itself (the overlap with itself).')\n",
    "print('The norm (length) of a unit vector is 1.\\n')\n",
    "display( Math('\\\\frac {1}{\\\\sqrt{2}} \\\\text{ is a normalization factor}') )\n",
    "v3= np.array([1,'i'])\n",
    "v4= np.array([1,'-i'])\n",
    "\n",
    "v3.shape = (2,1)\n",
    "v4.shape = (1,2)\n",
    "\n",
    "display( Math('| \\\\psi \\\\rangle = \\\\frac {1}{\\\\sqrt{2}}' + sym.latex(sym.sympify(v3)) + '\\\\in \\\\mathbb{C^2}') )\n",
    "display( Math('\\\\langle \\\\psi | = (| \\\\psi \\\\rangle^*)^T = \\\\frac {1}{\\\\sqrt{2}}' + sym.latex(sym.sympify(v4)) + '\\\\in \\\\mathbb{C^2}') )\n",
    "\n",
    "display( Math('|| \\\\: | \\\\psi \\\\rangle \\\\: ||_2 = \\\\sqrt {\\langle \\\\psi | \\\\psi \\\\rangle} = \\\n",
    "\\\\sqrt {\\\\frac {1}{\\\\sqrt{2}}(' + sym.latex(sym.sympify(v4)) + ') \\\\frac {1}{\\\\sqrt{2}}(' + sym.latex(sym.sympify(v3)) + ')} \\\n",
    " = \\\\frac {1}{\\\\sqrt{2}} \\\\sqrt{1 + (-i)i} = \\\\frac {1}{\\\\sqrt{2}} \\\\sqrt{1 + (-(-1)} = \\\\frac {1}{\\\\sqrt{2}} \\\\sqrt{2} = 1') )"
   ]
  },
  {
   "cell_type": "markdown",
   "id": "d595afb6-4f61-4acf-a896-8ac4a23c5931",
   "metadata": {},
   "source": [
    "### Distance using Euclidean norm"
   ]
  },
  {
   "cell_type": "markdown",
   "id": "8b0888d2-f5fb-4f48-be15-190e12a6fe51",
   "metadata": {},
   "source": [
    "39:50"
   ]
  },
  {
   "cell_type": "code",
   "execution_count": null,
   "id": "787909d2-8d65-4995-a0cc-509fd547c09e",
   "metadata": {},
   "outputs": [],
   "source": []
  },
  {
   "cell_type": "code",
   "execution_count": null,
   "id": "eac1bd4a-6193-478f-9b36-55e62a7f4c5b",
   "metadata": {},
   "outputs": [],
   "source": []
  },
  {
   "cell_type": "code",
   "execution_count": null,
   "id": "2c974c13-98fb-4f41-8dd9-a0d8bd52efff",
   "metadata": {},
   "outputs": [],
   "source": []
  },
  {
   "cell_type": "markdown",
   "id": "23a15dbf-a8e8-4180-8891-7c065b05535e",
   "metadata": {},
   "source": [
    "# =========================================================="
   ]
  },
  {
   "cell_type": "code",
   "execution_count": 11,
   "id": "c0105caa-fe04-44f9-bf33-efe2ce9c7cb0",
   "metadata": {},
   "outputs": [
    {
     "data": {
      "text/latex": [
       "$\\displaystyle Symbolic \\: variables: \\: \\textit{x, xi, y}$"
      ],
      "text/plain": [
       "<IPython.core.display.Math object>"
      ]
     },
     "metadata": {},
     "output_type": "display_data"
    }
   ],
   "source": [
    "display( Math('Symbolic \\\\: variables: \\\\: \\\\textit{x, xi, y}') )"
   ]
  },
  {
   "cell_type": "code",
   "execution_count": 111,
   "id": "4d026eb7-de28-4ffa-807e-b604433d6e09",
   "metadata": {},
   "outputs": [
    {
     "ename": "NameError",
     "evalue": "name 'p' is not defined",
     "output_type": "error",
     "traceback": [
      "\u001b[1;31m---------------------------------------------------------------------------\u001b[0m",
      "\u001b[1;31mNameError\u001b[0m                                 Traceback (most recent call last)",
      "Cell \u001b[1;32mIn [111], line 1\u001b[0m\n\u001b[1;32m----> 1\u001b[0m display( Math(\u001b[38;5;124m'\u001b[39m\u001b[38;5;124mPrime \u001b[39m\u001b[38;5;130;01m\\\\\u001b[39;00m\u001b[38;5;124m: number: \u001b[39m\u001b[38;5;132;01m%i\u001b[39;00m\u001b[38;5;124m , \u001b[39m\u001b[38;5;130;01m\\\\\u001b[39;00m\u001b[38;5;124m: with \u001b[39m\u001b[38;5;130;01m\\\\\u001b[39;00m\u001b[38;5;124m: \u001b[39m\u001b[38;5;132;01m%i\u001b[39;00m\u001b[38;5;124m \u001b[39m\u001b[38;5;130;01m\\\\\u001b[39;00m\u001b[38;5;124m: bits\u001b[39m\u001b[38;5;124m'\u001b[39m \u001b[38;5;241m%\u001b[39m(\u001b[43mp\u001b[49m, p\u001b[38;5;241m.\u001b[39mbit_length())) )\n",
      "\u001b[1;31mNameError\u001b[0m: name 'p' is not defined"
     ]
    }
   ],
   "source": [
    "display( Math('Prime \\\\: number: %i , \\\\: with \\\\: %i \\\\: bits' %(p, p.bit_length())) )"
   ]
  },
  {
   "cell_type": "code",
   "execution_count": 124,
   "id": "dca66d81-e427-4dae-901a-2cb1c9d7f1ab",
   "metadata": {},
   "outputs": [
    {
     "data": {
      "text/latex": [
       "$\\displaystyle k^{-1}k \\cong 1(mod \\enspace p-1)$"
      ],
      "text/plain": [
       "<IPython.core.display.Math object>"
      ]
     },
     "metadata": {},
     "output_type": "display_data"
    }
   ],
   "source": [
    "display( Math('k^{-1}k \\cong 1(mod \\\\enspace p-1)') )"
   ]
  },
  {
   "cell_type": "code",
   "execution_count": 126,
   "id": "2848a733-410b-485c-8643-968be0a8c3ba",
   "metadata": {},
   "outputs": [],
   "source": [
    "def display_users_keys():\n",
    "    global users\n",
    "    \n",
    "    display( Math('gcd(k,p-1)=1') )\n",
    "    display( Math('k^{-1}k(mod \\\\enspace p-1)') )\n",
    "    display( Math('k^{-1}k(mod \\\\enspace p-1) \\\\cong 1(mod \\\\enspace p-1)') )\n",
    "\n",
    "    for user in users.keys():\n",
    "        k= users[user]['k']\n",
    "        ki= users[user]['ki']\n",
    "\n",
    "        display( Math('%s \\\\: k= %i , \\\\: with \\: %i \\: bits' %(user, k, k.bit_length())) )\n",
    "        display( Math('%s \\\\: k^{-1}= %i , \\: with \\: %i \\: bits' %(user, ki, ki.bit_length())) )"
   ]
  },
  {
   "cell_type": "code",
   "execution_count": 128,
   "id": "11cb8fa1-ef51-4e6c-ab88-1720f8818fa5",
   "metadata": {},
   "outputs": [
    {
     "data": {
      "text/latex": [
       "$\\displaystyle k1 \\cong ks^{ka}(mod \\enspace p)$"
      ],
      "text/plain": [
       "<IPython.core.display.Math object>"
      ]
     },
     "metadata": {},
     "output_type": "display_data"
    }
   ],
   "source": [
    "display( Math('k1 \\cong ks^{ka}(mod \\\\enspace p)') )"
   ]
  },
  {
   "cell_type": "code",
   "execution_count": 130,
   "id": "6a090932-d59c-4e50-a033-236cacbad73d",
   "metadata": {},
   "outputs": [
    {
     "data": {
      "text/latex": [
       "$\\displaystyle k2 \\cong k1^{kb}(mod \\enspace p)$"
      ],
      "text/plain": [
       "<IPython.core.display.Math object>"
      ]
     },
     "metadata": {},
     "output_type": "display_data"
    }
   ],
   "source": [
    "display( Math('k2 \\cong k1^{kb}(mod \\\\enspace p)') )"
   ]
  },
  {
   "cell_type": "code",
   "execution_count": 131,
   "id": "e10de3f7-2525-4d65-852e-302908219ef2",
   "metadata": {},
   "outputs": [],
   "source": [
    "# k2= k1^kb(mod p)\n",
    "\n",
    "def bob_get_k2(k1:int) -> int:\n",
    "    global users, p\n",
    "    \n",
    "    k2= pow(k1,users['Bob']['k'],p)\n",
    "\n",
    "    display( Math('\\\\text {Bob sends k2 to Alice.}') )\n",
    "    display( Math('k2= %i , \\\\: with \\: %i \\: bits' %(k2, k2.bit_length())) )\n",
    "    \n",
    "    return k2"
   ]
  },
  {
   "cell_type": "markdown",
   "id": "0fc24c43-c2d3-41f2-b413-ce57d89fc95c",
   "metadata": {},
   "source": [
    "### 7. Alice sends *k3 $\\cong$ k2<sup>ka<sup>-1</sup></sup>(mod p)* to Bob."
   ]
  },
  {
   "cell_type": "code",
   "execution_count": 132,
   "id": "8f057735-1282-41bc-96a2-b6351862d652",
   "metadata": {},
   "outputs": [
    {
     "data": {
      "text/latex": [
       "$\\displaystyle k3 \\cong k2^{ka^{-1}}(mod \\enspace p)$"
      ],
      "text/plain": [
       "<IPython.core.display.Math object>"
      ]
     },
     "metadata": {},
     "output_type": "display_data"
    }
   ],
   "source": [
    "display( Math('k3 \\cong k2^{ka^{-1}}(mod \\\\enspace p)') )"
   ]
  },
  {
   "cell_type": "code",
   "execution_count": 133,
   "id": "7f8910c7-f3e3-40d2-a4a4-1ee777ff9ef6",
   "metadata": {},
   "outputs": [],
   "source": [
    "# k3= k2^(ka^-1)(mod p)\n",
    "\n",
    "def alice_get_k3(k2:int) -> int:\n",
    "    global users, p\n",
    "    \n",
    "    k3= pow(k2,users['Alice']['ki'],p)\n",
    "\n",
    "    display( Math('\\\\text {Alice sends k3 to Bob.}') )\n",
    "    display( Math('k3= %i , \\\\: with \\: %i \\: bits' %(k3, k3.bit_length())) )\n",
    "    \n",
    "    return k3"
   ]
  },
  {
   "cell_type": "markdown",
   "id": "380b0825-34d2-4fec-81a7-a5afc6cad872",
   "metadata": {},
   "source": [
    "### 8. Bob computes *ks'= k3<sup>kb<sup>-1</sup></sup>(mod p)*."
   ]
  },
  {
   "cell_type": "code",
   "execution_count": 134,
   "id": "b1424414-fcac-40f6-bbda-8e0a2317d628",
   "metadata": {},
   "outputs": [
    {
     "data": {
      "text/latex": [
       "$\\displaystyle ks' \\cong k3^{kb^{-1}}(mod \\enspace p)$"
      ],
      "text/plain": [
       "<IPython.core.display.Math object>"
      ]
     },
     "metadata": {},
     "output_type": "display_data"
    }
   ],
   "source": [
    "display( Math(\"ks' \\cong k3^{kb^{-1}}(mod \\\\enspace p)\") )"
   ]
  },
  {
   "cell_type": "code",
   "execution_count": 142,
   "id": "9a15c11c-0f7e-409b-b9e3-42c781cc9a3a",
   "metadata": {},
   "outputs": [
    {
     "data": {
      "text/latex": [
       "$\\displaystyle \\text{Alice original message: } \\text{\"a secret message from Alice\"}$"
      ],
      "text/plain": [
       "<IPython.core.display.Math object>"
      ]
     },
     "metadata": {},
     "output_type": "display_data"
    },
    {
     "data": {
      "text/latex": [
       "$\\displaystyle Prime \\: number: 401359079052121615212425683005976136917 , \\: with \\: 129 \\: bits$"
      ],
      "text/plain": [
       "<IPython.core.display.Math object>"
      ]
     },
     "metadata": {},
     "output_type": "display_data"
    },
    {
     "data": {
      "text/latex": [
       "$\\displaystyle \\text{Alice's shared secret = } 61134369313012108765347190852543676667 , \\: with \\: 126 \\: bits$"
      ],
      "text/plain": [
       "<IPython.core.display.Math object>"
      ]
     },
     "metadata": {},
     "output_type": "display_data"
    },
    {
     "data": {
      "text/latex": [
       "$\\displaystyle \\text{Alice message cipher: } b'\\x00\\x00\\x00\\x10\\x . . .$"
      ],
      "text/plain": [
       "<IPython.core.display.Math object>"
      ]
     },
     "metadata": {},
     "output_type": "display_data"
    },
    {
     "data": {
      "text/latex": [
       "$\\displaystyle \\text {Alice sends k1 to Bob.}$"
      ],
      "text/plain": [
       "<IPython.core.display.Math object>"
      ]
     },
     "metadata": {},
     "output_type": "display_data"
    },
    {
     "data": {
      "text/latex": [
       "$\\displaystyle k1= 39756890689826396491235542350802793248 , \\: with \\: 125 \\: bits$"
      ],
      "text/plain": [
       "<IPython.core.display.Math object>"
      ]
     },
     "metadata": {},
     "output_type": "display_data"
    },
    {
     "data": {
      "text/latex": [
       "$\\displaystyle \\text {Bob sends k2 to Alice.}$"
      ],
      "text/plain": [
       "<IPython.core.display.Math object>"
      ]
     },
     "metadata": {},
     "output_type": "display_data"
    },
    {
     "data": {
      "text/latex": [
       "$\\displaystyle k2= 161560054143448891778673430431686860316 , \\: with \\: 127 \\: bits$"
      ],
      "text/plain": [
       "<IPython.core.display.Math object>"
      ]
     },
     "metadata": {},
     "output_type": "display_data"
    },
    {
     "data": {
      "text/latex": [
       "$\\displaystyle \\text {Alice sends k3 to Bob.}$"
      ],
      "text/plain": [
       "<IPython.core.display.Math object>"
      ]
     },
     "metadata": {},
     "output_type": "display_data"
    },
    {
     "data": {
      "text/latex": [
       "$\\displaystyle k3= 251303963941360871873666790000744543049 , \\: with \\: 128 \\: bits$"
      ],
      "text/plain": [
       "<IPython.core.display.Math object>"
      ]
     },
     "metadata": {},
     "output_type": "display_data"
    },
    {
     "data": {
      "text/latex": [
       "$\\displaystyle \\text{Bob computes the shared secret.}$"
      ],
      "text/plain": [
       "<IPython.core.display.Math object>"
      ]
     },
     "metadata": {},
     "output_type": "display_data"
    },
    {
     "data": {
      "text/latex": [
       "$\\displaystyle \\text{Bob's shared secret = } 61134369313012108765347190852543676667 , \\: with \\: 126 \\: bits$"
      ],
      "text/plain": [
       "<IPython.core.display.Math object>"
      ]
     },
     "metadata": {},
     "output_type": "display_data"
    },
    {
     "data": {
      "text/latex": [
       "$\\displaystyle \\text{Secret shared keys are identical!}$"
      ],
      "text/plain": [
       "<IPython.core.display.Math object>"
      ]
     },
     "metadata": {},
     "output_type": "display_data"
    },
    {
     "data": {
      "text/latex": [
       "$\\displaystyle \\text{Alice's decrypted message by Bob: } \\text{'a secret message from Alice'}$"
      ],
      "text/plain": [
       "<IPython.core.display.Math object>"
      ]
     },
     "metadata": {},
     "output_type": "display_data"
    },
    {
     "data": {
      "text/latex": [
       "$\\displaystyle \\text{The original and decrypted messages are identical!}$"
      ],
      "text/plain": [
       "<IPython.core.display.Math object>"
      ]
     },
     "metadata": {},
     "output_type": "display_data"
    }
   ],
   "source": [
    "\n",
    "secret_msg= \"a secret message from Alice\"\n",
    "display( Math('\\\\text{Alice original message: } \\\\text{\"%s\"}' %secret_msg))\n",
    "\n",
    "# 1. Decide on numbers bits length: 2^bits-length\n",
    "set_globals(_bits_length=129,_p=0)\n",
    "\n",
    "# 2. Everyone agree on a public key: p, and publish it\n",
    "generate_prime()\n",
    "\n",
    "# 3. Each user selects a random number k that is a coprime to p-1 and its modular multiplicative inverse k-1\n",
    "generate_k_for_users()\n",
    "generate_k_inverse_for_users()\n",
    "\n",
    "# 4. Alise chooses a shared-secret-key ks to be shared with Bob\n",
    "alice_generate_shared_secret()\n",
    "display( Math(\"\\\\text{Alice's shared secret = } %i , \\\\: with \\: %i \\: bits\" %(users['Alice']['ks'], users['Alice']['ks'].bit_length())) )\n",
    "\n",
    "# 5. Alice encrypts a message using the shared secret\n",
    "alice_msg_cipher= get_alice_encrypted_message(msg_data=secret_msg, shared_secret=users['Alice']['ks'])\n",
    "display( Math('\\\\text{Alice message cipher: } %s %s' %(str(alice_msg_cipher)[:20], \". . .\")) )\n",
    "\n",
    "# 6. Alice sends k1= kska(mod p) to Bob.\n",
    "k1= alice_get_k1()\n",
    "\n",
    "# 7. Bob sends k2= k1kb(mod p) to Alice.\n",
    "k2= bob_get_k2(k1)\n",
    "\n",
    "# 8. Alice sends k3= k2ka-1(mod p) to Bob.\n",
    "k3= alice_get_k3(k2)\n",
    "\n",
    "# 9. Bob computes kb= k3kb-1(mod p).\n",
    "bob_compute_shared_secret(k3)\n",
    "display( Math('\\\\text{Bob computes the shared secret.}') )\n",
    "display( Math(\"\\\\text{Bob's shared secret = } %i , \\\\: with \\: %i \\: bits\" %(users['Bob']['ks'], users['Bob']['ks'].bit_length())) )\n",
    "\n",
    "# 10. verify: assert(alice_ks == bob_ks)\n",
    "if verify_shared_keys_indentical() == True:\n",
    "    display( Math(\"\\\\text{Secret shared keys are identical!}\") )\n",
    "    \n",
    "# 11. Bob decrypts alice's encrypted message using the shared secret key he computed\n",
    "decrypted_msg= get_decrypted_cleartext_message(msg_ciphertext_data=alice_msg_cipher, shared_secret=users['Bob']['ks'])\n",
    "\n",
    "# 12. verify that the original and received messages are identical\n",
    "display( Math(\"\\\\text{Alice's decrypted message by Bob: } \\\\text{'%s'}\" %str(decrypted_msg)[2:-1]))\n",
    "if verify_messages_indentical(secret_msg,decrypted_msg) == True:\n",
    "    display(Math(\"\\\\text{The original and decrypted messages are identical!}\") )\n"
   ]
  },
  {
   "cell_type": "code",
   "execution_count": null,
   "id": "62d2119f-b090-4057-96c6-aefeda4d93db",
   "metadata": {},
   "outputs": [],
   "source": []
  }
 ],
 "metadata": {
  "kernelspec": {
   "display_name": "Python 3 (ipykernel)",
   "language": "python",
   "name": "python3"
  },
  "language_info": {
   "codemirror_mode": {
    "name": "ipython",
    "version": 3
   },
   "file_extension": ".py",
   "mimetype": "text/x-python",
   "name": "python",
   "nbconvert_exporter": "python",
   "pygments_lexer": "ipython3",
   "version": "3.9.15"
  }
 },
 "nbformat": 4,
 "nbformat_minor": 5
}
