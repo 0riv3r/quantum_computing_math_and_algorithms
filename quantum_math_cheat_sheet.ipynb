{
 "cells": [
  {
   "cell_type": "code",
   "execution_count": 1,
   "id": "ea005fbb-eede-4c2c-a5a6-57adf0dddb9c",
   "metadata": {},
   "outputs": [],
   "source": [
    "# Quantum Computing Math Cheat Sheet"
   ]
  },
  {
   "cell_type": "code",
   "execution_count": 35,
   "id": "1881071d-9aed-4da6-8c19-083c3485e414",
   "metadata": {},
   "outputs": [],
   "source": [
    "import numpy as np\n",
    "import sympy as sym\n",
    "from IPython.display import display, Math\n",
    "import random\n",
    "import matplotlib.pyplot as plt"
   ]
  },
  {
   "cell_type": "code",
   "execution_count": 36,
   "id": "3ff8b9e1-d98f-432f-9fc9-f958341a364b",
   "metadata": {},
   "outputs": [],
   "source": [
    "sym.init_printing() # prety printing of math"
   ]
  },
  {
   "cell_type": "markdown",
   "id": "4ccf58a6-9df6-449b-8d7f-11c7846acf28",
   "metadata": {},
   "source": [
    "# Quantum Computing Math Cheat Sheet"
   ]
  },
  {
   "cell_type": "markdown",
   "id": "21f8881b-fcaf-4311-96a3-84e50d8d0efb",
   "metadata": {},
   "source": [
    "## Subjects\n",
    "- Polar Form   \n",
    "- Complex conjugate    \n",
    "- Magnitude     \n",
    "- Conjugate transpose   \n",
    "- Inner product   \n",
    "- Eucledian norm\n",
    "- Unit vector\n",
    "- Distance between vectors\n",
    "- Orthonormal bases\n",
    "- Computational (standard) basis"
   ]
  },
  {
   "cell_type": "markdown",
   "id": "b92c64fe-b9df-458b-bd1e-58ece015b27c",
   "metadata": {},
   "source": [
    "### Polar Form"
   ]
  },
  {
   "cell_type": "code",
   "execution_count": 37,
   "id": "58ae006c-ab1a-43e8-bb9c-8a1bb57bdfb2",
   "metadata": {
    "tags": []
   },
   "outputs": [
    {
     "data": {
      "text/latex": [
       "$\\displaystyle c = re^{i\\theta}$"
      ],
      "text/plain": [
       "<IPython.core.display.Math object>"
      ]
     },
     "metadata": {},
     "output_type": "display_data"
    },
    {
     "data": {
      "text/latex": [
       "$\\displaystyle r,\\theta \\in \\mathbb{R}$"
      ],
      "text/plain": [
       "<IPython.core.display.Math object>"
      ]
     },
     "metadata": {},
     "output_type": "display_data"
    }
   ],
   "source": [
    "display( Math('c = re^{i\\\\theta}') )\n",
    "display( Math('r,\\\\theta \\\\in \\\\mathbb{R}') )"
   ]
  },
  {
   "cell_type": "markdown",
   "id": "e463b18e-da68-4d18-bc0a-d3c788d4cb25",
   "metadata": {},
   "source": [
    "#### Geometric interpretation"
   ]
  },
  {
   "cell_type": "code",
   "execution_count": 82,
   "id": "403a2b3a-6e8c-4a69-85bf-b6373c4c14fa",
   "metadata": {},
   "outputs": [],
   "source": [
    "import numpy as np\n",
    "import matplotlib.pyplot as plt\n",
    "from matplotlib.patches import Arc\n",
    "from matplotlib.transforms import IdentityTransform, TransformedBbox, Bbox\n",
    "\n",
    "\n",
    "class AngleAnnotation(Arc):\n",
    "    \"\"\"\n",
    "    Draws an arc between two vectors which appears circular in display space.\n",
    "    \"\"\"\n",
    "    def __init__(self, xy, p1, p2, size=75, unit=\"points\", ax=None,\n",
    "                 text=\"\", textposition=\"inside\", text_kw=None, **kwargs):\n",
    "        \"\"\"\n",
    "        Parameters\n",
    "        ----------\n",
    "        xy, p1, p2 : tuple or array of two floats\n",
    "            Center position and two points. Angle annotation is drawn between\n",
    "            the two vectors connecting *p1* and *p2* with *xy*, respectively.\n",
    "            Units are data coordinates.\n",
    "\n",
    "        size : float\n",
    "            Diameter of the angle annotation in units specified by *unit*.\n",
    "\n",
    "        unit : str\n",
    "            One of the following strings to specify the unit of *size*:\n",
    "\n",
    "            * \"pixels\": pixels\n",
    "            * \"points\": points, use points instead of pixels to not have a\n",
    "              dependence on the DPI\n",
    "            * \"axes width\", \"axes height\": relative units of Axes width, height\n",
    "            * \"axes min\", \"axes max\": minimum or maximum of relative Axes\n",
    "              width, height\n",
    "\n",
    "        ax : `matplotlib.axes.Axes`\n",
    "            The Axes to add the angle annotation to.\n",
    "\n",
    "        text : str\n",
    "            The text to mark the angle with.\n",
    "\n",
    "        textposition : {\"inside\", \"outside\", \"edge\"}\n",
    "            Whether to show the text in- or outside the arc. \"edge\" can be used\n",
    "            for custom positions anchored at the arc's edge.\n",
    "\n",
    "        text_kw : dict\n",
    "            Dictionary of arguments passed to the Annotation.\n",
    "\n",
    "        **kwargs\n",
    "            Further parameters are passed to `matplotlib.patches.Arc`. Use this\n",
    "            to specify, color, linewidth etc. of the arc.\n",
    "\n",
    "        \"\"\"\n",
    "        self.ax = ax or plt.gca()\n",
    "        self._xydata = xy  # in data coordinates\n",
    "        self.vec1 = p1\n",
    "        self.vec2 = p2\n",
    "        self.size = size\n",
    "        self.unit = unit\n",
    "        self.textposition = textposition\n",
    "\n",
    "        super().__init__(self._xydata, size, size, angle=0.0,\n",
    "                         theta1=self.theta1, theta2=self.theta2, **kwargs)\n",
    "\n",
    "        self.set_transform(IdentityTransform())\n",
    "        self.ax.add_patch(self)\n",
    "\n",
    "        self.kw = dict(ha=\"center\", va=\"center\",\n",
    "                       xycoords=IdentityTransform(),\n",
    "                       xytext=(0, 0), textcoords=\"offset points\",\n",
    "                       annotation_clip=True)\n",
    "        self.kw.update(text_kw or {})\n",
    "        self.text = ax.annotate(text, xy=self._center, **self.kw)\n",
    "\n",
    "    def get_size(self):\n",
    "        factor = 1.\n",
    "        if self.unit == \"points\":\n",
    "            factor = self.ax.figure.dpi / 72.\n",
    "        elif self.unit[:4] == \"axes\":\n",
    "            b = TransformedBbox(Bbox.unit(), self.ax.transAxes)\n",
    "            dic = {\"max\": max(b.width, b.height),\n",
    "                   \"min\": min(b.width, b.height),\n",
    "                   \"width\": b.width, \"height\": b.height}\n",
    "            factor = dic[self.unit[5:]]\n",
    "        return self.size * factor\n",
    "\n",
    "    def set_size(self, size):\n",
    "        self.size = size\n",
    "\n",
    "    def get_center_in_pixels(self):\n",
    "        \"\"\"return center in pixels\"\"\"\n",
    "        return self.ax.transData.transform(self._xydata)\n",
    "\n",
    "    def set_center(self, xy):\n",
    "        \"\"\"set center in data coordinates\"\"\"\n",
    "        self._xydata = xy\n",
    "\n",
    "    def get_theta(self, vec):\n",
    "        vec_in_pixels = self.ax.transData.transform(vec) - self._center\n",
    "        return np.rad2deg(np.arctan2(vec_in_pixels[1], vec_in_pixels[0]))\n",
    "\n",
    "    def get_theta1(self):\n",
    "        return self.get_theta(self.vec1)\n",
    "\n",
    "    def get_theta2(self):\n",
    "        return self.get_theta(self.vec2)\n",
    "\n",
    "    def set_theta(self, angle):\n",
    "        pass\n",
    "\n",
    "    # Redefine attributes of the Arc to always give values in pixel space\n",
    "    _center = property(get_center_in_pixels, set_center)\n",
    "    theta1 = property(get_theta1, set_theta)\n",
    "    theta2 = property(get_theta2, set_theta)\n",
    "    width = property(get_size, set_size)\n",
    "    height = property(get_size, set_size)\n",
    "\n",
    "    # The following two methods are needed to update the text position.\n",
    "    def draw(self, renderer):\n",
    "        self.update_text()\n",
    "        super().draw(renderer)\n",
    "\n",
    "    def update_text(self):\n",
    "        c = self._center\n",
    "        s = self.get_size()\n",
    "        angle_span = (self.theta2 - self.theta1) % 360\n",
    "        angle = np.deg2rad(self.theta1 + angle_span / 2)\n",
    "        r = s / 2\n",
    "        if self.textposition == \"inside\":\n",
    "            r = s / np.interp(angle_span, [60, 90, 135, 180],\n",
    "                                          [3.3, 3.5, 3.8, 4])\n",
    "        self.text.xy = c + r * np.array([np.cos(angle), np.sin(angle)])\n",
    "        if self.textposition == \"outside\":\n",
    "            def R90(a, r, w, h):\n",
    "                if a < np.arctan(h/2/(r+w/2)):\n",
    "                    return np.sqrt((r+w/2)**2 + (np.tan(a)*(r+w/2))**2)\n",
    "                else:\n",
    "                    c = np.sqrt((w/2)**2+(h/2)**2)\n",
    "                    T = np.arcsin(c * np.cos(np.pi/2 - a + np.arcsin(h/2/c))/r)\n",
    "                    xy = r * np.array([np.cos(a + T), np.sin(a + T)])\n",
    "                    xy += np.array([w/2, h/2])\n",
    "                    return np.sqrt(np.sum(xy**2))\n",
    "\n",
    "            def R(a, r, w, h):\n",
    "                aa = (a % (np.pi/4))*((a % (np.pi/2)) <= np.pi/4) + \\\n",
    "                     (np.pi/4 - (a % (np.pi/4)))*((a % (np.pi/2)) >= np.pi/4)\n",
    "                return R90(aa, r, *[w, h][::int(np.sign(np.cos(2*a)))])\n",
    "\n",
    "            bbox = self.text.get_window_extent()\n",
    "            X = R(angle, r, bbox.width, bbox.height)\n",
    "            trans = self.ax.figure.dpi_scale_trans.inverted()\n",
    "            offs = trans.transform(((X-s/2), 0))[0] * 72\n",
    "            self.text.set_position([offs*np.cos(angle), offs*np.sin(angle)])"
   ]
  },
  {
   "cell_type": "code",
   "execution_count": 169,
   "id": "c919775a-bca7-41f0-bbe3-9ed60fe1dcfe",
   "metadata": {},
   "outputs": [],
   "source": [
    "import matplotlib.pyplot as plt\n",
    "import numpy as np # dodamo še numerično knjižico \n",
    "get_ipython().run_line_magic('matplotlib', 'inline')\n",
    "\n",
    "\n",
    "def complex_plane2(z,axis_type=0):\n",
    "    \"\"\"Creates complex plane and shows complex numbers as vectors (complexors)\n",
    "    \n",
    "    Parameters\n",
    "    ----------\n",
    "    z : array of complex values\n",
    "        array of complex values to be shown\n",
    "    axis_type : int \n",
    "        three types of shapes of complex plane:\n",
    "        0 : symple\n",
    "        1 : with grid\n",
    "        2 : moved axis to middle \n",
    "    -----------------------------------\n",
    "    # Example\n",
    "    z=[20+10j,15,-10-10j,5+15j]\n",
    "    complex_plane2(z,2) \"\"\"\n",
    "\n",
    "    w=max(np.abs(z))\n",
    "    fig, ax = plt.subplots()\n",
    "        \n",
    "    if axis_type==0: \n",
    "        plt.axis(\"off\")\n",
    "        plt.text(-0.15*w, 0.8*w, \"Im\", fontsize=14)\n",
    "        plt.text( 0.8*w,-0.15*w, \"Re\", fontsize=14)\n",
    "    elif axis_type==1: \n",
    "        plt.axis(\"on\")\n",
    "        plt.grid()\n",
    "        plt.text(-0.15*w, 0.8*w, \"i\", fontsize=14)\n",
    "        plt.text( 0.8*w,-0.15*w, 'ℝ', fontsize=14)\n",
    "    else:\n",
    "         # Move left y-axis and bottim x-axis to centre, passing through (0,0)\n",
    "        ax.spines['left'].set_position('center')\n",
    "        ax.spines['bottom'].set_position('center')\n",
    "\n",
    "        # Eliminate upper and right axes\n",
    "        ax.spines['right'].set_color('none')\n",
    "        ax.spines['top'].set_color('none')\n",
    "\n",
    "        # Show ticks in the left and lower axes only\n",
    "        ax.xaxis.set_ticks_position('bottom')\n",
    "        ax.yaxis.set_ticks_position('left')\n",
    "\n",
    "        ax.set_xlabel('                                                 Re []')\n",
    "        ax.set_ylabel('                                                 Im []')\n",
    "\n",
    "    plt.xlim(-w,w)\n",
    "    plt.ylim(-w,w)\n",
    "    plt.arrow(0, -w, 0, 1.9*w, head_width=w/20, head_length=w/20, fc='k', ec='k');\n",
    "    plt.arrow(-w, 0, 1.9*w, 0, head_width=w/20, head_length=w/20, fc='k', ec='k');\n",
    "\n",
    "    for i in range(len(z)):\n",
    "        fi_a=np.angle(z[i])\n",
    "        x=z[i].real -abs(w)/20*np.cos(fi_a)\n",
    "        y=z[i].imag-abs(w)/20*np.sin(fi_a)\n",
    "        plt.arrow(0, 0, x, y, head_width=w/20, head_length=w/20, fc='b', ec='b');\n",
    "        \n",
    "              \n",
    "        # angle\n",
    "        center = (0, 0)\n",
    "        p1 = [(0, 0), (1.0, 0)]\n",
    "        p2 = [(0, 0), (1.0, 1.0)]\n",
    "        point, = ax.plot(*center, marker=\"o\")\n",
    "        AngleAnnotation(center, p1[1], p2[1], ax=ax, size=95, text=r\"$\\theta$\", textposition=\"edge\")\n",
    "        "
   ]
  },
  {
   "cell_type": "code",
   "execution_count": 170,
   "id": "caf79284-b32f-4e44-8416-4259463cbf38",
   "metadata": {},
   "outputs": [
    {
     "data": {
      "image/png": "[encoded data removed]",
      "text/plain": [
       "<Figure size 640x480 with 1 Axes>"
      ]
     },
     "metadata": {},
     "output_type": "display_data"
    }
   ],
   "source": [
    "import matplotlib.pyplot as plt\n",
    "import numpy as np # dodamo še numerično knjižico \n",
    "get_ipython().run_line_magic('matplotlib', 'inline')\n",
    "\n",
    "#z=[20+10j,15,-10-10j,5+15j] # array of complex values\n",
    "z=[1+1j]\n",
    "\n",
    "complex_plane2(z,1) # function to be called\n",
    "\n",
    "center = (0, 0)\n",
    "p1 = [(0, 0), (1.0, 0)]\n",
    "p2 = [(0, 0), (1.0, 1.0)]\n",
    "point, = ax.plot(*center, marker=\"o\")\n",
    "AngleAnnotation(center, p1[1], p2[1], ax=ax, size=95, text=r\"$\\theta$\", textposition=\"edge\")\n",
    "        \n",
    "plt.text(0.4,0.5,'r')\n",
    "plt.show()"
   ]
  },
  {
   "cell_type": "code",
   "execution_count": 110,
   "id": "c0105caa-fe04-44f9-bf33-efe2ce9c7cb0",
   "metadata": {},
   "outputs": [
    {
     "data": {
      "text/latex": [
       "$\\displaystyle Symbolic \\: variables: \\: \\textit{x, xi, y}$"
      ],
      "text/plain": [
       "<IPython.core.display.Math object>"
      ]
     },
     "metadata": {},
     "output_type": "display_data"
    }
   ],
   "source": [
    "display( Math('Symbolic \\\\: variables: \\\\: \\\\textit{x, xi, y}') )"
   ]
  },
  {
   "cell_type": "code",
   "execution_count": 111,
   "id": "4d026eb7-de28-4ffa-807e-b604433d6e09",
   "metadata": {},
   "outputs": [
    {
     "ename": "NameError",
     "evalue": "name 'p' is not defined",
     "output_type": "error",
     "traceback": [
      "\u001b[1;31m---------------------------------------------------------------------------\u001b[0m",
      "\u001b[1;31mNameError\u001b[0m                                 Traceback (most recent call last)",
      "Cell \u001b[1;32mIn [111], line 1\u001b[0m\n\u001b[1;32m----> 1\u001b[0m display( Math(\u001b[38;5;124m'\u001b[39m\u001b[38;5;124mPrime \u001b[39m\u001b[38;5;130;01m\\\\\u001b[39;00m\u001b[38;5;124m: number: \u001b[39m\u001b[38;5;132;01m%i\u001b[39;00m\u001b[38;5;124m , \u001b[39m\u001b[38;5;130;01m\\\\\u001b[39;00m\u001b[38;5;124m: with \u001b[39m\u001b[38;5;130;01m\\\\\u001b[39;00m\u001b[38;5;124m: \u001b[39m\u001b[38;5;132;01m%i\u001b[39;00m\u001b[38;5;124m \u001b[39m\u001b[38;5;130;01m\\\\\u001b[39;00m\u001b[38;5;124m: bits\u001b[39m\u001b[38;5;124m'\u001b[39m \u001b[38;5;241m%\u001b[39m(\u001b[43mp\u001b[49m, p\u001b[38;5;241m.\u001b[39mbit_length())) )\n",
      "\u001b[1;31mNameError\u001b[0m: name 'p' is not defined"
     ]
    }
   ],
   "source": [
    "display( Math('Prime \\\\: number: %i , \\\\: with \\\\: %i \\\\: bits' %(p, p.bit_length())) )"
   ]
  },
  {
   "cell_type": "code",
   "execution_count": 124,
   "id": "dca66d81-e427-4dae-901a-2cb1c9d7f1ab",
   "metadata": {},
   "outputs": [
    {
     "data": {
      "text/latex": [
       "$\\displaystyle k^{-1}k \\cong 1(mod \\enspace p-1)$"
      ],
      "text/plain": [
       "<IPython.core.display.Math object>"
      ]
     },
     "metadata": {},
     "output_type": "display_data"
    }
   ],
   "source": [
    "display( Math('k^{-1}k \\cong 1(mod \\\\enspace p-1)') )"
   ]
  },
  {
   "cell_type": "code",
   "execution_count": 126,
   "id": "2848a733-410b-485c-8643-968be0a8c3ba",
   "metadata": {},
   "outputs": [],
   "source": [
    "def display_users_keys():\n",
    "    global users\n",
    "    \n",
    "    display( Math('gcd(k,p-1)=1') )\n",
    "    display( Math('k^{-1}k(mod \\\\enspace p-1)') )\n",
    "    display( Math('k^{-1}k(mod \\\\enspace p-1) \\\\cong 1(mod \\\\enspace p-1)') )\n",
    "\n",
    "    for user in users.keys():\n",
    "        k= users[user]['k']\n",
    "        ki= users[user]['ki']\n",
    "\n",
    "        display( Math('%s \\\\: k= %i , \\\\: with \\: %i \\: bits' %(user, k, k.bit_length())) )\n",
    "        display( Math('%s \\\\: k^{-1}= %i , \\: with \\: %i \\: bits' %(user, ki, ki.bit_length())) )"
   ]
  },
  {
   "cell_type": "code",
   "execution_count": 128,
   "id": "11cb8fa1-ef51-4e6c-ab88-1720f8818fa5",
   "metadata": {},
   "outputs": [
    {
     "data": {
      "text/latex": [
       "$\\displaystyle k1 \\cong ks^{ka}(mod \\enspace p)$"
      ],
      "text/plain": [
       "<IPython.core.display.Math object>"
      ]
     },
     "metadata": {},
     "output_type": "display_data"
    }
   ],
   "source": [
    "display( Math('k1 \\cong ks^{ka}(mod \\\\enspace p)') )"
   ]
  },
  {
   "cell_type": "code",
   "execution_count": 130,
   "id": "6a090932-d59c-4e50-a033-236cacbad73d",
   "metadata": {},
   "outputs": [
    {
     "data": {
      "text/latex": [
       "$\\displaystyle k2 \\cong k1^{kb}(mod \\enspace p)$"
      ],
      "text/plain": [
       "<IPython.core.display.Math object>"
      ]
     },
     "metadata": {},
     "output_type": "display_data"
    }
   ],
   "source": [
    "display( Math('k2 \\cong k1^{kb}(mod \\\\enspace p)') )"
   ]
  },
  {
   "cell_type": "code",
   "execution_count": 131,
   "id": "e10de3f7-2525-4d65-852e-302908219ef2",
   "metadata": {},
   "outputs": [],
   "source": [
    "# k2= k1^kb(mod p)\n",
    "\n",
    "def bob_get_k2(k1:int) -> int:\n",
    "    global users, p\n",
    "    \n",
    "    k2= pow(k1,users['Bob']['k'],p)\n",
    "\n",
    "    display( Math('\\\\text {Bob sends k2 to Alice.}') )\n",
    "    display( Math('k2= %i , \\\\: with \\: %i \\: bits' %(k2, k2.bit_length())) )\n",
    "    \n",
    "    return k2"
   ]
  },
  {
   "cell_type": "markdown",
   "id": "0fc24c43-c2d3-41f2-b413-ce57d89fc95c",
   "metadata": {},
   "source": [
    "### 7. Alice sends *k3 $\\cong$ k2<sup>ka<sup>-1</sup></sup>(mod p)* to Bob."
   ]
  },
  {
   "cell_type": "code",
   "execution_count": 132,
   "id": "8f057735-1282-41bc-96a2-b6351862d652",
   "metadata": {},
   "outputs": [
    {
     "data": {
      "text/latex": [
       "$\\displaystyle k3 \\cong k2^{ka^{-1}}(mod \\enspace p)$"
      ],
      "text/plain": [
       "<IPython.core.display.Math object>"
      ]
     },
     "metadata": {},
     "output_type": "display_data"
    }
   ],
   "source": [
    "display( Math('k3 \\cong k2^{ka^{-1}}(mod \\\\enspace p)') )"
   ]
  },
  {
   "cell_type": "code",
   "execution_count": 133,
   "id": "7f8910c7-f3e3-40d2-a4a4-1ee777ff9ef6",
   "metadata": {},
   "outputs": [],
   "source": [
    "# k3= k2^(ka^-1)(mod p)\n",
    "\n",
    "def alice_get_k3(k2:int) -> int:\n",
    "    global users, p\n",
    "    \n",
    "    k3= pow(k2,users['Alice']['ki'],p)\n",
    "\n",
    "    display( Math('\\\\text {Alice sends k3 to Bob.}') )\n",
    "    display( Math('k3= %i , \\\\: with \\: %i \\: bits' %(k3, k3.bit_length())) )\n",
    "    \n",
    "    return k3"
   ]
  },
  {
   "cell_type": "markdown",
   "id": "380b0825-34d2-4fec-81a7-a5afc6cad872",
   "metadata": {},
   "source": [
    "### 8. Bob computes *ks'= k3<sup>kb<sup>-1</sup></sup>(mod p)*."
   ]
  },
  {
   "cell_type": "code",
   "execution_count": 134,
   "id": "b1424414-fcac-40f6-bbda-8e0a2317d628",
   "metadata": {},
   "outputs": [
    {
     "data": {
      "text/latex": [
       "$\\displaystyle ks' \\cong k3^{kb^{-1}}(mod \\enspace p)$"
      ],
      "text/plain": [
       "<IPython.core.display.Math object>"
      ]
     },
     "metadata": {},
     "output_type": "display_data"
    }
   ],
   "source": [
    "display( Math(\"ks' \\cong k3^{kb^{-1}}(mod \\\\enspace p)\") )"
   ]
  },
  {
   "cell_type": "code",
   "execution_count": 142,
   "id": "9a15c11c-0f7e-409b-b9e3-42c781cc9a3a",
   "metadata": {},
   "outputs": [
    {
     "data": {
      "text/latex": [
       "$\\displaystyle \\text{Alice original message: } \\text{\"a secret message from Alice\"}$"
      ],
      "text/plain": [
       "<IPython.core.display.Math object>"
      ]
     },
     "metadata": {},
     "output_type": "display_data"
    },
    {
     "data": {
      "text/latex": [
       "$\\displaystyle Prime \\: number: 401359079052121615212425683005976136917 , \\: with \\: 129 \\: bits$"
      ],
      "text/plain": [
       "<IPython.core.display.Math object>"
      ]
     },
     "metadata": {},
     "output_type": "display_data"
    },
    {
     "data": {
      "text/latex": [
       "$\\displaystyle \\text{Alice's shared secret = } 61134369313012108765347190852543676667 , \\: with \\: 126 \\: bits$"
      ],
      "text/plain": [
       "<IPython.core.display.Math object>"
      ]
     },
     "metadata": {},
     "output_type": "display_data"
    },
    {
     "data": {
      "text/latex": [
       "$\\displaystyle \\text{Alice message cipher: } b'\\x00\\x00\\x00\\x10\\x . . .$"
      ],
      "text/plain": [
       "<IPython.core.display.Math object>"
      ]
     },
     "metadata": {},
     "output_type": "display_data"
    },
    {
     "data": {
      "text/latex": [
       "$\\displaystyle \\text {Alice sends k1 to Bob.}$"
      ],
      "text/plain": [
       "<IPython.core.display.Math object>"
      ]
     },
     "metadata": {},
     "output_type": "display_data"
    },
    {
     "data": {
      "text/latex": [
       "$\\displaystyle k1= 39756890689826396491235542350802793248 , \\: with \\: 125 \\: bits$"
      ],
      "text/plain": [
       "<IPython.core.display.Math object>"
      ]
     },
     "metadata": {},
     "output_type": "display_data"
    },
    {
     "data": {
      "text/latex": [
       "$\\displaystyle \\text {Bob sends k2 to Alice.}$"
      ],
      "text/plain": [
       "<IPython.core.display.Math object>"
      ]
     },
     "metadata": {},
     "output_type": "display_data"
    },
    {
     "data": {
      "text/latex": [
       "$\\displaystyle k2= 161560054143448891778673430431686860316 , \\: with \\: 127 \\: bits$"
      ],
      "text/plain": [
       "<IPython.core.display.Math object>"
      ]
     },
     "metadata": {},
     "output_type": "display_data"
    },
    {
     "data": {
      "text/latex": [
       "$\\displaystyle \\text {Alice sends k3 to Bob.}$"
      ],
      "text/plain": [
       "<IPython.core.display.Math object>"
      ]
     },
     "metadata": {},
     "output_type": "display_data"
    },
    {
     "data": {
      "text/latex": [
       "$\\displaystyle k3= 251303963941360871873666790000744543049 , \\: with \\: 128 \\: bits$"
      ],
      "text/plain": [
       "<IPython.core.display.Math object>"
      ]
     },
     "metadata": {},
     "output_type": "display_data"
    },
    {
     "data": {
      "text/latex": [
       "$\\displaystyle \\text{Bob computes the shared secret.}$"
      ],
      "text/plain": [
       "<IPython.core.display.Math object>"
      ]
     },
     "metadata": {},
     "output_type": "display_data"
    },
    {
     "data": {
      "text/latex": [
       "$\\displaystyle \\text{Bob's shared secret = } 61134369313012108765347190852543676667 , \\: with \\: 126 \\: bits$"
      ],
      "text/plain": [
       "<IPython.core.display.Math object>"
      ]
     },
     "metadata": {},
     "output_type": "display_data"
    },
    {
     "data": {
      "text/latex": [
       "$\\displaystyle \\text{Secret shared keys are identical!}$"
      ],
      "text/plain": [
       "<IPython.core.display.Math object>"
      ]
     },
     "metadata": {},
     "output_type": "display_data"
    },
    {
     "data": {
      "text/latex": [
       "$\\displaystyle \\text{Alice's decrypted message by Bob: } \\text{'a secret message from Alice'}$"
      ],
      "text/plain": [
       "<IPython.core.display.Math object>"
      ]
     },
     "metadata": {},
     "output_type": "display_data"
    },
    {
     "data": {
      "text/latex": [
       "$\\displaystyle \\text{The original and decrypted messages are identical!}$"
      ],
      "text/plain": [
       "<IPython.core.display.Math object>"
      ]
     },
     "metadata": {},
     "output_type": "display_data"
    }
   ],
   "source": [
    "\n",
    "secret_msg= \"a secret message from Alice\"\n",
    "display( Math('\\\\text{Alice original message: } \\\\text{\"%s\"}' %secret_msg))\n",
    "\n",
    "# 1. Decide on numbers bits length: 2^bits-length\n",
    "set_globals(_bits_length=129,_p=0)\n",
    "\n",
    "# 2. Everyone agree on a public key: p, and publish it\n",
    "generate_prime()\n",
    "\n",
    "# 3. Each user selects a random number k that is a coprime to p-1 and its modular multiplicative inverse k-1\n",
    "generate_k_for_users()\n",
    "generate_k_inverse_for_users()\n",
    "\n",
    "# 4. Alise chooses a shared-secret-key ks to be shared with Bob\n",
    "alice_generate_shared_secret()\n",
    "display( Math(\"\\\\text{Alice's shared secret = } %i , \\\\: with \\: %i \\: bits\" %(users['Alice']['ks'], users['Alice']['ks'].bit_length())) )\n",
    "\n",
    "# 5. Alice encrypts a message using the shared secret\n",
    "alice_msg_cipher= get_alice_encrypted_message(msg_data=secret_msg, shared_secret=users['Alice']['ks'])\n",
    "display( Math('\\\\text{Alice message cipher: } %s %s' %(str(alice_msg_cipher)[:20], \". . .\")) )\n",
    "\n",
    "# 6. Alice sends k1= kska(mod p) to Bob.\n",
    "k1= alice_get_k1()\n",
    "\n",
    "# 7. Bob sends k2= k1kb(mod p) to Alice.\n",
    "k2= bob_get_k2(k1)\n",
    "\n",
    "# 8. Alice sends k3= k2ka-1(mod p) to Bob.\n",
    "k3= alice_get_k3(k2)\n",
    "\n",
    "# 9. Bob computes kb= k3kb-1(mod p).\n",
    "bob_compute_shared_secret(k3)\n",
    "display( Math('\\\\text{Bob computes the shared secret.}') )\n",
    "display( Math(\"\\\\text{Bob's shared secret = } %i , \\\\: with \\: %i \\: bits\" %(users['Bob']['ks'], users['Bob']['ks'].bit_length())) )\n",
    "\n",
    "# 10. verify: assert(alice_ks == bob_ks)\n",
    "if verify_shared_keys_indentical() == True:\n",
    "    display( Math(\"\\\\text{Secret shared keys are identical!}\") )\n",
    "    \n",
    "# 11. Bob decrypts alice's encrypted message using the shared secret key he computed\n",
    "decrypted_msg= get_decrypted_cleartext_message(msg_ciphertext_data=alice_msg_cipher, shared_secret=users['Bob']['ks'])\n",
    "\n",
    "# 12. verify that the original and received messages are identical\n",
    "display( Math(\"\\\\text{Alice's decrypted message by Bob: } \\\\text{'%s'}\" %str(decrypted_msg)[2:-1]))\n",
    "if verify_messages_indentical(secret_msg,decrypted_msg) == True:\n",
    "    display(Math(\"\\\\text{The original and decrypted messages are identical!}\") )\n"
   ]
  },
  {
   "cell_type": "code",
   "execution_count": null,
   "id": "62d2119f-b090-4057-96c6-aefeda4d93db",
   "metadata": {},
   "outputs": [],
   "source": []
  }
 ],
 "metadata": {
  "kernelspec": {
   "display_name": "Python 3 (ipykernel)",
   "language": "python",
   "name": "python3"
  },
  "language_info": {
   "codemirror_mode": {
    "name": "ipython",
    "version": 3
   },
   "file_extension": ".py",
   "mimetype": "text/x-python",
   "name": "python",
   "nbconvert_exporter": "python",
   "pygments_lexer": "ipython3",
   "version": "3.9.15"
  }
 },
 "nbformat": 4,
 "nbformat_minor": 5
}
